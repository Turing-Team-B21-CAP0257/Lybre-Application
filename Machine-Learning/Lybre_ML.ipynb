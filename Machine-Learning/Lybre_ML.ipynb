{
  "nbformat": 4,
  "nbformat_minor": 0,
  "metadata": {
    "colab": {
      "name": "Lybre - ML.ipynb",
      "provenance": [],
      "collapsed_sections": []
    },
    "kernelspec": {
      "name": "python3",
      "display_name": "Python 3"
    },
    "language_info": {
      "name": "python"
    },
    "accelerator": "GPU"
  },
  "cells": [
    {
      "cell_type": "markdown",
      "metadata": {
        "id": "wFlles4tqwoF"
      },
      "source": [
        "# Import Library & Get Data"
      ]
    },
    {
      "cell_type": "code",
      "metadata": {
        "id": "wUKu_dlL30uY",
        "colab": {
          "base_uri": "https://localhost:8080/"
        },
        "outputId": "de379ef3-8cb6-4c80-81e8-8b49ac5944d0"
      },
      "source": [
        "import re\n",
        "import os\n",
        "import csv\n",
        "import string\n",
        "import numpy as np\n",
        "import pandas as pd\n",
        "import tensorflow as tf\n",
        "import matplotlib.pyplot as plt\n",
        "from sklearn.model_selection import train_test_split\n",
        "%matplotlib inline\n",
        "\n",
        "print(tf.__version__)"
      ],
      "execution_count": 24,
      "outputs": [
        {
          "output_type": "stream",
          "text": [
            "2.5.0\n"
          ],
          "name": "stdout"
        }
      ]
    },
    {
      "cell_type": "code",
      "metadata": {
        "id": "yvVysfKmxaD3",
        "colab": {
          "base_uri": "https://localhost:8080/"
        },
        "outputId": "a3b5c0e2-e221-4c9e-dfad-17b36e82eeb1"
      },
      "source": [
        "# Upload your kaggle.json to colab main directory\n",
        "! chmod 600 kaggle.json && (ls ~/.kaggle 2>/dev/null || mkdir ~/.kaggle) && mv kaggle.json ~/.kaggle/ && echo 'Done'"
      ],
      "execution_count": 4,
      "outputs": [
        {
          "output_type": "stream",
          "text": [
            "Done\n"
          ],
          "name": "stdout"
        }
      ]
    },
    {
      "cell_type": "code",
      "metadata": {
        "id": "7SzFCo6x3PI9",
        "colab": {
          "base_uri": "https://localhost:8080/"
        },
        "outputId": "e873b748-53f4-4603-a2db-be8ab0030bec"
      },
      "source": [
        "!kaggle datasets download arashnic/book-recommendation-dataset\n",
        "!unzip -o book-recommendation-dataset.zip\n",
        "!ls"
      ],
      "execution_count": 5,
      "outputs": [
        {
          "output_type": "stream",
          "text": [
            "Downloading book-recommendation-dataset.zip to /content\n",
            " 71% 17.0M/23.8M [00:00<00:00, 20.5MB/s]\n",
            "100% 23.8M/23.8M [00:01<00:00, 24.6MB/s]\n",
            "Archive:  book-recommendation-dataset.zip\n",
            "  inflating: Books.csv               \n",
            "  inflating: Ratings.csv             \n",
            "  inflating: Users.csv               \n",
            "book-recommendation-dataset.zip  Ratings.csv\t      sample_data\n",
            "Books.csv\t\t\t regression_model.h5  Users.csv\n"
          ],
          "name": "stdout"
        }
      ]
    },
    {
      "cell_type": "markdown",
      "metadata": {
        "id": "2SXum7Hi3GGY"
      },
      "source": [
        "# Preprocessing"
      ]
    },
    {
      "cell_type": "code",
      "metadata": {
        "id": "1BIS364808OT"
      },
      "source": [
        "# fix column name\n",
        "def columnfix(columnlist):\n",
        "  columnlist = list(columnlist)\n",
        "  for i in range(len(columnlist)):\n",
        "    columnlist[i] = columnlist[i].lower()\n",
        "    columnlist[i] = columnlist[i].translate(str.maketrans(\"\",\"\",string.punctuation))\n",
        "\n",
        "  return columnlist"
      ],
      "execution_count": 6,
      "outputs": []
    },
    {
      "cell_type": "markdown",
      "metadata": {
        "id": "xbJv1vGw2Ha2"
      },
      "source": [
        "### Rating Section"
      ]
    },
    {
      "cell_type": "code",
      "metadata": {
        "id": "mJnI7QstDxv4",
        "colab": {
          "base_uri": "https://localhost:8080/",
          "height": 419
        },
        "outputId": "71a9a752-d7f2-4a48-abf5-5414d8952c0f"
      },
      "source": [
        "df_rate = pd.read_csv('Ratings.csv')\n",
        "df_rate.columns = columnfix(df_rate.columns)   # fix column name\n",
        "df_rate"
      ],
      "execution_count": 7,
      "outputs": [
        {
          "output_type": "execute_result",
          "data": {
            "text/html": [
              "<div>\n",
              "<style scoped>\n",
              "    .dataframe tbody tr th:only-of-type {\n",
              "        vertical-align: middle;\n",
              "    }\n",
              "\n",
              "    .dataframe tbody tr th {\n",
              "        vertical-align: top;\n",
              "    }\n",
              "\n",
              "    .dataframe thead th {\n",
              "        text-align: right;\n",
              "    }\n",
              "</style>\n",
              "<table border=\"1\" class=\"dataframe\">\n",
              "  <thead>\n",
              "    <tr style=\"text-align: right;\">\n",
              "      <th></th>\n",
              "      <th>userid</th>\n",
              "      <th>isbn</th>\n",
              "      <th>bookrating</th>\n",
              "    </tr>\n",
              "  </thead>\n",
              "  <tbody>\n",
              "    <tr>\n",
              "      <th>0</th>\n",
              "      <td>276725</td>\n",
              "      <td>034545104X</td>\n",
              "      <td>0</td>\n",
              "    </tr>\n",
              "    <tr>\n",
              "      <th>1</th>\n",
              "      <td>276726</td>\n",
              "      <td>0155061224</td>\n",
              "      <td>5</td>\n",
              "    </tr>\n",
              "    <tr>\n",
              "      <th>2</th>\n",
              "      <td>276727</td>\n",
              "      <td>0446520802</td>\n",
              "      <td>0</td>\n",
              "    </tr>\n",
              "    <tr>\n",
              "      <th>3</th>\n",
              "      <td>276729</td>\n",
              "      <td>052165615X</td>\n",
              "      <td>3</td>\n",
              "    </tr>\n",
              "    <tr>\n",
              "      <th>4</th>\n",
              "      <td>276729</td>\n",
              "      <td>0521795028</td>\n",
              "      <td>6</td>\n",
              "    </tr>\n",
              "    <tr>\n",
              "      <th>...</th>\n",
              "      <td>...</td>\n",
              "      <td>...</td>\n",
              "      <td>...</td>\n",
              "    </tr>\n",
              "    <tr>\n",
              "      <th>1149775</th>\n",
              "      <td>276704</td>\n",
              "      <td>1563526298</td>\n",
              "      <td>9</td>\n",
              "    </tr>\n",
              "    <tr>\n",
              "      <th>1149776</th>\n",
              "      <td>276706</td>\n",
              "      <td>0679447156</td>\n",
              "      <td>0</td>\n",
              "    </tr>\n",
              "    <tr>\n",
              "      <th>1149777</th>\n",
              "      <td>276709</td>\n",
              "      <td>0515107662</td>\n",
              "      <td>10</td>\n",
              "    </tr>\n",
              "    <tr>\n",
              "      <th>1149778</th>\n",
              "      <td>276721</td>\n",
              "      <td>0590442449</td>\n",
              "      <td>10</td>\n",
              "    </tr>\n",
              "    <tr>\n",
              "      <th>1149779</th>\n",
              "      <td>276723</td>\n",
              "      <td>05162443314</td>\n",
              "      <td>8</td>\n",
              "    </tr>\n",
              "  </tbody>\n",
              "</table>\n",
              "<p>1149780 rows × 3 columns</p>\n",
              "</div>"
            ],
            "text/plain": [
              "         userid         isbn  bookrating\n",
              "0        276725   034545104X           0\n",
              "1        276726   0155061224           5\n",
              "2        276727   0446520802           0\n",
              "3        276729   052165615X           3\n",
              "4        276729   0521795028           6\n",
              "...         ...          ...         ...\n",
              "1149775  276704   1563526298           9\n",
              "1149776  276706   0679447156           0\n",
              "1149777  276709   0515107662          10\n",
              "1149778  276721   0590442449          10\n",
              "1149779  276723  05162443314           8\n",
              "\n",
              "[1149780 rows x 3 columns]"
            ]
          },
          "metadata": {
            "tags": []
          },
          "execution_count": 7
        }
      ]
    },
    {
      "cell_type": "code",
      "metadata": {
        "id": "WXjrRviT1D_n",
        "colab": {
          "base_uri": "https://localhost:8080/",
          "height": 450
        },
        "outputId": "d5cf4e34-b055-4968-8c26-6941dfc13454"
      },
      "source": [
        "newrate = df_rate.groupby('isbn').agg(         # Create new dataframe group by isbn and have column from mean rating\n",
        "  rating=(\"bookrating\", \"mean\")\n",
        ")\n",
        "\n",
        "# newrate.reset_index(inplace=True)\n",
        "newrate"
      ],
      "execution_count": 8,
      "outputs": [
        {
          "output_type": "execute_result",
          "data": {
            "text/html": [
              "<div>\n",
              "<style scoped>\n",
              "    .dataframe tbody tr th:only-of-type {\n",
              "        vertical-align: middle;\n",
              "    }\n",
              "\n",
              "    .dataframe tbody tr th {\n",
              "        vertical-align: top;\n",
              "    }\n",
              "\n",
              "    .dataframe thead th {\n",
              "        text-align: right;\n",
              "    }\n",
              "</style>\n",
              "<table border=\"1\" class=\"dataframe\">\n",
              "  <thead>\n",
              "    <tr style=\"text-align: right;\">\n",
              "      <th></th>\n",
              "      <th>rating</th>\n",
              "    </tr>\n",
              "    <tr>\n",
              "      <th>isbn</th>\n",
              "      <th></th>\n",
              "    </tr>\n",
              "  </thead>\n",
              "  <tbody>\n",
              "    <tr>\n",
              "      <th>0330299891</th>\n",
              "      <td>3.0</td>\n",
              "    </tr>\n",
              "    <tr>\n",
              "      <th>0375404120</th>\n",
              "      <td>1.5</td>\n",
              "    </tr>\n",
              "    <tr>\n",
              "      <th>0586045007</th>\n",
              "      <td>0.0</td>\n",
              "    </tr>\n",
              "    <tr>\n",
              "      <th>9022906116</th>\n",
              "      <td>3.5</td>\n",
              "    </tr>\n",
              "    <tr>\n",
              "      <th>9032803328</th>\n",
              "      <td>0.0</td>\n",
              "    </tr>\n",
              "    <tr>\n",
              "      <th>...</th>\n",
              "      <td>...</td>\n",
              "    </tr>\n",
              "    <tr>\n",
              "      <th>cn113107</th>\n",
              "      <td>0.0</td>\n",
              "    </tr>\n",
              "    <tr>\n",
              "      <th>ooo7156103</th>\n",
              "      <td>7.0</td>\n",
              "    </tr>\n",
              "    <tr>\n",
              "      <th>§423350229</th>\n",
              "      <td>0.0</td>\n",
              "    </tr>\n",
              "    <tr>\n",
              "      <th>´3499128624</th>\n",
              "      <td>8.0</td>\n",
              "    </tr>\n",
              "    <tr>\n",
              "      <th>Ô½crosoft</th>\n",
              "      <td>7.0</td>\n",
              "    </tr>\n",
              "  </tbody>\n",
              "</table>\n",
              "<p>340556 rows × 1 columns</p>\n",
              "</div>"
            ],
            "text/plain": [
              "             rating\n",
              "isbn               \n",
              " 0330299891     3.0\n",
              " 0375404120     1.5\n",
              " 0586045007     0.0\n",
              " 9022906116     3.5\n",
              " 9032803328     0.0\n",
              "...             ...\n",
              "cn113107        0.0\n",
              "ooo7156103      7.0\n",
              "§423350229      0.0\n",
              "´3499128624     8.0\n",
              "Ô½crosoft       7.0\n",
              "\n",
              "[340556 rows x 1 columns]"
            ]
          },
          "metadata": {
            "tags": []
          },
          "execution_count": 8
        }
      ]
    },
    {
      "cell_type": "markdown",
      "metadata": {
        "id": "M9dOdijk2MTK"
      },
      "source": [
        "### Book Section"
      ]
    },
    {
      "cell_type": "code",
      "metadata": {
        "id": "wXzAhXGp6Q72",
        "colab": {
          "base_uri": "https://localhost:8080/",
          "height": 462
        },
        "outputId": "ee54bb56-e5b7-43f1-8609-dab30a27093b"
      },
      "source": [
        "df_book = pd.read_csv('Books.csv')\n",
        "df_book.head()"
      ],
      "execution_count": 9,
      "outputs": [
        {
          "output_type": "stream",
          "text": [
            "/usr/local/lib/python3.7/dist-packages/IPython/core/interactiveshell.py:2718: DtypeWarning: Columns (3) have mixed types.Specify dtype option on import or set low_memory=False.\n",
            "  interactivity=interactivity, compiler=compiler, result=result)\n"
          ],
          "name": "stderr"
        },
        {
          "output_type": "execute_result",
          "data": {
            "text/html": [
              "<div>\n",
              "<style scoped>\n",
              "    .dataframe tbody tr th:only-of-type {\n",
              "        vertical-align: middle;\n",
              "    }\n",
              "\n",
              "    .dataframe tbody tr th {\n",
              "        vertical-align: top;\n",
              "    }\n",
              "\n",
              "    .dataframe thead th {\n",
              "        text-align: right;\n",
              "    }\n",
              "</style>\n",
              "<table border=\"1\" class=\"dataframe\">\n",
              "  <thead>\n",
              "    <tr style=\"text-align: right;\">\n",
              "      <th></th>\n",
              "      <th>ISBN</th>\n",
              "      <th>Book-Title</th>\n",
              "      <th>Book-Author</th>\n",
              "      <th>Year-Of-Publication</th>\n",
              "      <th>Publisher</th>\n",
              "      <th>Image-URL-S</th>\n",
              "      <th>Image-URL-M</th>\n",
              "      <th>Image-URL-L</th>\n",
              "    </tr>\n",
              "  </thead>\n",
              "  <tbody>\n",
              "    <tr>\n",
              "      <th>0</th>\n",
              "      <td>0195153448</td>\n",
              "      <td>Classical Mythology</td>\n",
              "      <td>Mark P. O. Morford</td>\n",
              "      <td>2002</td>\n",
              "      <td>Oxford University Press</td>\n",
              "      <td>http://images.amazon.com/images/P/0195153448.0...</td>\n",
              "      <td>http://images.amazon.com/images/P/0195153448.0...</td>\n",
              "      <td>http://images.amazon.com/images/P/0195153448.0...</td>\n",
              "    </tr>\n",
              "    <tr>\n",
              "      <th>1</th>\n",
              "      <td>0002005018</td>\n",
              "      <td>Clara Callan</td>\n",
              "      <td>Richard Bruce Wright</td>\n",
              "      <td>2001</td>\n",
              "      <td>HarperFlamingo Canada</td>\n",
              "      <td>http://images.amazon.com/images/P/0002005018.0...</td>\n",
              "      <td>http://images.amazon.com/images/P/0002005018.0...</td>\n",
              "      <td>http://images.amazon.com/images/P/0002005018.0...</td>\n",
              "    </tr>\n",
              "    <tr>\n",
              "      <th>2</th>\n",
              "      <td>0060973129</td>\n",
              "      <td>Decision in Normandy</td>\n",
              "      <td>Carlo D'Este</td>\n",
              "      <td>1991</td>\n",
              "      <td>HarperPerennial</td>\n",
              "      <td>http://images.amazon.com/images/P/0060973129.0...</td>\n",
              "      <td>http://images.amazon.com/images/P/0060973129.0...</td>\n",
              "      <td>http://images.amazon.com/images/P/0060973129.0...</td>\n",
              "    </tr>\n",
              "    <tr>\n",
              "      <th>3</th>\n",
              "      <td>0374157065</td>\n",
              "      <td>Flu: The Story of the Great Influenza Pandemic...</td>\n",
              "      <td>Gina Bari Kolata</td>\n",
              "      <td>1999</td>\n",
              "      <td>Farrar Straus Giroux</td>\n",
              "      <td>http://images.amazon.com/images/P/0374157065.0...</td>\n",
              "      <td>http://images.amazon.com/images/P/0374157065.0...</td>\n",
              "      <td>http://images.amazon.com/images/P/0374157065.0...</td>\n",
              "    </tr>\n",
              "    <tr>\n",
              "      <th>4</th>\n",
              "      <td>0393045218</td>\n",
              "      <td>The Mummies of Urumchi</td>\n",
              "      <td>E. J. W. Barber</td>\n",
              "      <td>1999</td>\n",
              "      <td>W. W. Norton &amp;amp; Company</td>\n",
              "      <td>http://images.amazon.com/images/P/0393045218.0...</td>\n",
              "      <td>http://images.amazon.com/images/P/0393045218.0...</td>\n",
              "      <td>http://images.amazon.com/images/P/0393045218.0...</td>\n",
              "    </tr>\n",
              "  </tbody>\n",
              "</table>\n",
              "</div>"
            ],
            "text/plain": [
              "         ISBN  ...                                        Image-URL-L\n",
              "0  0195153448  ...  http://images.amazon.com/images/P/0195153448.0...\n",
              "1  0002005018  ...  http://images.amazon.com/images/P/0002005018.0...\n",
              "2  0060973129  ...  http://images.amazon.com/images/P/0060973129.0...\n",
              "3  0374157065  ...  http://images.amazon.com/images/P/0374157065.0...\n",
              "4  0393045218  ...  http://images.amazon.com/images/P/0393045218.0...\n",
              "\n",
              "[5 rows x 8 columns]"
            ]
          },
          "metadata": {
            "tags": []
          },
          "execution_count": 9
        }
      ]
    },
    {
      "cell_type": "code",
      "metadata": {
        "id": "IlkhYrHN3Q69",
        "colab": {
          "base_uri": "https://localhost:8080/",
          "height": 864
        },
        "outputId": "a4866bcf-304b-4c4e-eaf8-11c3dcb02f40"
      },
      "source": [
        "df_book.columns = columnfix(df_book.columns)                  # fix column name\n",
        "\n",
        "df_book = df_book.join(newrate, on=\"isbn\")                    # join df_book with newrate\n",
        "\n",
        "df_book['rating'] = df_book['rating'].fillna(0)               # fill NaN rating with 0\n",
        "\n",
        "df_book = df_book[df_book['booktitle'].notna()]               # remove data with NaN book title\n",
        "\n",
        "df_book.insert(loc=0, column='bookid', value=df_book.index)   # add bookid in first column\n",
        "\n",
        "df_book = df_book.replace(\",\", \"\", regex=True)                # remove comma\n",
        "\n",
        "df_book"
      ],
      "execution_count": 10,
      "outputs": [
        {
          "output_type": "execute_result",
          "data": {
            "text/html": [
              "<div>\n",
              "<style scoped>\n",
              "    .dataframe tbody tr th:only-of-type {\n",
              "        vertical-align: middle;\n",
              "    }\n",
              "\n",
              "    .dataframe tbody tr th {\n",
              "        vertical-align: top;\n",
              "    }\n",
              "\n",
              "    .dataframe thead th {\n",
              "        text-align: right;\n",
              "    }\n",
              "</style>\n",
              "<table border=\"1\" class=\"dataframe\">\n",
              "  <thead>\n",
              "    <tr style=\"text-align: right;\">\n",
              "      <th></th>\n",
              "      <th>bookid</th>\n",
              "      <th>isbn</th>\n",
              "      <th>booktitle</th>\n",
              "      <th>bookauthor</th>\n",
              "      <th>yearofpublication</th>\n",
              "      <th>publisher</th>\n",
              "      <th>imageurls</th>\n",
              "      <th>imageurlm</th>\n",
              "      <th>imageurll</th>\n",
              "      <th>rating</th>\n",
              "    </tr>\n",
              "  </thead>\n",
              "  <tbody>\n",
              "    <tr>\n",
              "      <th>0</th>\n",
              "      <td>0</td>\n",
              "      <td>0195153448</td>\n",
              "      <td>Classical Mythology</td>\n",
              "      <td>Mark P. O. Morford</td>\n",
              "      <td>2002</td>\n",
              "      <td>Oxford University Press</td>\n",
              "      <td>http://images.amazon.com/images/P/0195153448.0...</td>\n",
              "      <td>http://images.amazon.com/images/P/0195153448.0...</td>\n",
              "      <td>http://images.amazon.com/images/P/0195153448.0...</td>\n",
              "      <td>0.000000</td>\n",
              "    </tr>\n",
              "    <tr>\n",
              "      <th>1</th>\n",
              "      <td>1</td>\n",
              "      <td>0002005018</td>\n",
              "      <td>Clara Callan</td>\n",
              "      <td>Richard Bruce Wright</td>\n",
              "      <td>2001</td>\n",
              "      <td>HarperFlamingo Canada</td>\n",
              "      <td>http://images.amazon.com/images/P/0002005018.0...</td>\n",
              "      <td>http://images.amazon.com/images/P/0002005018.0...</td>\n",
              "      <td>http://images.amazon.com/images/P/0002005018.0...</td>\n",
              "      <td>4.928571</td>\n",
              "    </tr>\n",
              "    <tr>\n",
              "      <th>2</th>\n",
              "      <td>2</td>\n",
              "      <td>0060973129</td>\n",
              "      <td>Decision in Normandy</td>\n",
              "      <td>Carlo D'Este</td>\n",
              "      <td>1991</td>\n",
              "      <td>HarperPerennial</td>\n",
              "      <td>http://images.amazon.com/images/P/0060973129.0...</td>\n",
              "      <td>http://images.amazon.com/images/P/0060973129.0...</td>\n",
              "      <td>http://images.amazon.com/images/P/0060973129.0...</td>\n",
              "      <td>5.000000</td>\n",
              "    </tr>\n",
              "    <tr>\n",
              "      <th>3</th>\n",
              "      <td>3</td>\n",
              "      <td>0374157065</td>\n",
              "      <td>Flu: The Story of the Great Influenza Pandemic...</td>\n",
              "      <td>Gina Bari Kolata</td>\n",
              "      <td>1999</td>\n",
              "      <td>Farrar Straus Giroux</td>\n",
              "      <td>http://images.amazon.com/images/P/0374157065.0...</td>\n",
              "      <td>http://images.amazon.com/images/P/0374157065.0...</td>\n",
              "      <td>http://images.amazon.com/images/P/0374157065.0...</td>\n",
              "      <td>4.272727</td>\n",
              "    </tr>\n",
              "    <tr>\n",
              "      <th>4</th>\n",
              "      <td>4</td>\n",
              "      <td>0393045218</td>\n",
              "      <td>The Mummies of Urumchi</td>\n",
              "      <td>E. J. W. Barber</td>\n",
              "      <td>1999</td>\n",
              "      <td>W. W. Norton &amp;amp; Company</td>\n",
              "      <td>http://images.amazon.com/images/P/0393045218.0...</td>\n",
              "      <td>http://images.amazon.com/images/P/0393045218.0...</td>\n",
              "      <td>http://images.amazon.com/images/P/0393045218.0...</td>\n",
              "      <td>0.000000</td>\n",
              "    </tr>\n",
              "    <tr>\n",
              "      <th>...</th>\n",
              "      <td>...</td>\n",
              "      <td>...</td>\n",
              "      <td>...</td>\n",
              "      <td>...</td>\n",
              "      <td>...</td>\n",
              "      <td>...</td>\n",
              "      <td>...</td>\n",
              "      <td>...</td>\n",
              "      <td>...</td>\n",
              "      <td>...</td>\n",
              "    </tr>\n",
              "    <tr>\n",
              "      <th>271355</th>\n",
              "      <td>271355</td>\n",
              "      <td>0440400988</td>\n",
              "      <td>There's a Bat in Bunk Five</td>\n",
              "      <td>Paula Danziger</td>\n",
              "      <td>1988</td>\n",
              "      <td>Random House Childrens Pub (Mm)</td>\n",
              "      <td>http://images.amazon.com/images/P/0440400988.0...</td>\n",
              "      <td>http://images.amazon.com/images/P/0440400988.0...</td>\n",
              "      <td>http://images.amazon.com/images/P/0440400988.0...</td>\n",
              "      <td>7.000000</td>\n",
              "    </tr>\n",
              "    <tr>\n",
              "      <th>271356</th>\n",
              "      <td>271356</td>\n",
              "      <td>0525447644</td>\n",
              "      <td>From One to One Hundred</td>\n",
              "      <td>Teri Sloat</td>\n",
              "      <td>1991</td>\n",
              "      <td>Dutton Books</td>\n",
              "      <td>http://images.amazon.com/images/P/0525447644.0...</td>\n",
              "      <td>http://images.amazon.com/images/P/0525447644.0...</td>\n",
              "      <td>http://images.amazon.com/images/P/0525447644.0...</td>\n",
              "      <td>4.000000</td>\n",
              "    </tr>\n",
              "    <tr>\n",
              "      <th>271357</th>\n",
              "      <td>271357</td>\n",
              "      <td>006008667X</td>\n",
              "      <td>Lily Dale : The True Story of the Town that Ta...</td>\n",
              "      <td>Christine Wicker</td>\n",
              "      <td>2004</td>\n",
              "      <td>HarperSanFrancisco</td>\n",
              "      <td>http://images.amazon.com/images/P/006008667X.0...</td>\n",
              "      <td>http://images.amazon.com/images/P/006008667X.0...</td>\n",
              "      <td>http://images.amazon.com/images/P/006008667X.0...</td>\n",
              "      <td>0.000000</td>\n",
              "    </tr>\n",
              "    <tr>\n",
              "      <th>271358</th>\n",
              "      <td>271358</td>\n",
              "      <td>0192126040</td>\n",
              "      <td>Republic (World's Classics)</td>\n",
              "      <td>Plato</td>\n",
              "      <td>1996</td>\n",
              "      <td>Oxford University Press</td>\n",
              "      <td>http://images.amazon.com/images/P/0192126040.0...</td>\n",
              "      <td>http://images.amazon.com/images/P/0192126040.0...</td>\n",
              "      <td>http://images.amazon.com/images/P/0192126040.0...</td>\n",
              "      <td>0.000000</td>\n",
              "    </tr>\n",
              "    <tr>\n",
              "      <th>271359</th>\n",
              "      <td>271359</td>\n",
              "      <td>0767409752</td>\n",
              "      <td>A Guided Tour of Rene Descartes' Meditations o...</td>\n",
              "      <td>Christopher  Biffle</td>\n",
              "      <td>2000</td>\n",
              "      <td>McGraw-Hill Humanities/Social Sciences/Languages</td>\n",
              "      <td>http://images.amazon.com/images/P/0767409752.0...</td>\n",
              "      <td>http://images.amazon.com/images/P/0767409752.0...</td>\n",
              "      <td>http://images.amazon.com/images/P/0767409752.0...</td>\n",
              "      <td>0.000000</td>\n",
              "    </tr>\n",
              "  </tbody>\n",
              "</table>\n",
              "<p>271360 rows × 10 columns</p>\n",
              "</div>"
            ],
            "text/plain": [
              "        bookid  ...    rating\n",
              "0            0  ...  0.000000\n",
              "1            1  ...  4.928571\n",
              "2            2  ...  5.000000\n",
              "3            3  ...  4.272727\n",
              "4            4  ...  0.000000\n",
              "...        ...  ...       ...\n",
              "271355  271355  ...  7.000000\n",
              "271356  271356  ...  4.000000\n",
              "271357  271357  ...  0.000000\n",
              "271358  271358  ...  0.000000\n",
              "271359  271359  ...  0.000000\n",
              "\n",
              "[271360 rows x 10 columns]"
            ]
          },
          "metadata": {
            "tags": []
          },
          "execution_count": 10
        }
      ]
    },
    {
      "cell_type": "code",
      "metadata": {
        "id": "d0vBbit4353m"
      },
      "source": [
        "df_book.to_csv('newbook.csv', index=False, quoting=csv.QUOTE_NONNUMERIC)"
      ],
      "execution_count": 11,
      "outputs": []
    },
    {
      "cell_type": "markdown",
      "metadata": {
        "id": "GCFZhQNN2SKr"
      },
      "source": [
        "### User Section"
      ]
    },
    {
      "cell_type": "code",
      "metadata": {
        "id": "LqQ45KXloFty",
        "colab": {
          "base_uri": "https://localhost:8080/",
          "height": 204
        },
        "outputId": "0e693217-a7a2-4b9b-d9ee-c1c49bf589a4"
      },
      "source": [
        "df_user = pd.read_csv('Users.csv')\n",
        "df_user.head()"
      ],
      "execution_count": 12,
      "outputs": [
        {
          "output_type": "execute_result",
          "data": {
            "text/html": [
              "<div>\n",
              "<style scoped>\n",
              "    .dataframe tbody tr th:only-of-type {\n",
              "        vertical-align: middle;\n",
              "    }\n",
              "\n",
              "    .dataframe tbody tr th {\n",
              "        vertical-align: top;\n",
              "    }\n",
              "\n",
              "    .dataframe thead th {\n",
              "        text-align: right;\n",
              "    }\n",
              "</style>\n",
              "<table border=\"1\" class=\"dataframe\">\n",
              "  <thead>\n",
              "    <tr style=\"text-align: right;\">\n",
              "      <th></th>\n",
              "      <th>User-ID</th>\n",
              "      <th>Location</th>\n",
              "      <th>Age</th>\n",
              "    </tr>\n",
              "  </thead>\n",
              "  <tbody>\n",
              "    <tr>\n",
              "      <th>0</th>\n",
              "      <td>1</td>\n",
              "      <td>nyc, new york, usa</td>\n",
              "      <td>NaN</td>\n",
              "    </tr>\n",
              "    <tr>\n",
              "      <th>1</th>\n",
              "      <td>2</td>\n",
              "      <td>stockton, california, usa</td>\n",
              "      <td>18.0</td>\n",
              "    </tr>\n",
              "    <tr>\n",
              "      <th>2</th>\n",
              "      <td>3</td>\n",
              "      <td>moscow, yukon territory, russia</td>\n",
              "      <td>NaN</td>\n",
              "    </tr>\n",
              "    <tr>\n",
              "      <th>3</th>\n",
              "      <td>4</td>\n",
              "      <td>porto, v.n.gaia, portugal</td>\n",
              "      <td>17.0</td>\n",
              "    </tr>\n",
              "    <tr>\n",
              "      <th>4</th>\n",
              "      <td>5</td>\n",
              "      <td>farnborough, hants, united kingdom</td>\n",
              "      <td>NaN</td>\n",
              "    </tr>\n",
              "  </tbody>\n",
              "</table>\n",
              "</div>"
            ],
            "text/plain": [
              "   User-ID                            Location   Age\n",
              "0        1                  nyc, new york, usa   NaN\n",
              "1        2           stockton, california, usa  18.0\n",
              "2        3     moscow, yukon territory, russia   NaN\n",
              "3        4           porto, v.n.gaia, portugal  17.0\n",
              "4        5  farnborough, hants, united kingdom   NaN"
            ]
          },
          "metadata": {
            "tags": []
          },
          "execution_count": 12
        }
      ]
    },
    {
      "cell_type": "code",
      "metadata": {
        "id": "SZzucZDD6GzW",
        "colab": {
          "base_uri": "https://localhost:8080/",
          "height": 419
        },
        "outputId": "abde8328-bbdc-4666-ee43-b89fe0e57b18"
      },
      "source": [
        "df_user = df_user.fillna(0)                   # fill NaN age with zero\n",
        "\n",
        "df_user.columns = columnfix(df_user.columns)  # fix column name\n",
        "\n",
        "df_user"
      ],
      "execution_count": 13,
      "outputs": [
        {
          "output_type": "execute_result",
          "data": {
            "text/html": [
              "<div>\n",
              "<style scoped>\n",
              "    .dataframe tbody tr th:only-of-type {\n",
              "        vertical-align: middle;\n",
              "    }\n",
              "\n",
              "    .dataframe tbody tr th {\n",
              "        vertical-align: top;\n",
              "    }\n",
              "\n",
              "    .dataframe thead th {\n",
              "        text-align: right;\n",
              "    }\n",
              "</style>\n",
              "<table border=\"1\" class=\"dataframe\">\n",
              "  <thead>\n",
              "    <tr style=\"text-align: right;\">\n",
              "      <th></th>\n",
              "      <th>userid</th>\n",
              "      <th>location</th>\n",
              "      <th>age</th>\n",
              "    </tr>\n",
              "  </thead>\n",
              "  <tbody>\n",
              "    <tr>\n",
              "      <th>0</th>\n",
              "      <td>1</td>\n",
              "      <td>nyc, new york, usa</td>\n",
              "      <td>0.0</td>\n",
              "    </tr>\n",
              "    <tr>\n",
              "      <th>1</th>\n",
              "      <td>2</td>\n",
              "      <td>stockton, california, usa</td>\n",
              "      <td>18.0</td>\n",
              "    </tr>\n",
              "    <tr>\n",
              "      <th>2</th>\n",
              "      <td>3</td>\n",
              "      <td>moscow, yukon territory, russia</td>\n",
              "      <td>0.0</td>\n",
              "    </tr>\n",
              "    <tr>\n",
              "      <th>3</th>\n",
              "      <td>4</td>\n",
              "      <td>porto, v.n.gaia, portugal</td>\n",
              "      <td>17.0</td>\n",
              "    </tr>\n",
              "    <tr>\n",
              "      <th>4</th>\n",
              "      <td>5</td>\n",
              "      <td>farnborough, hants, united kingdom</td>\n",
              "      <td>0.0</td>\n",
              "    </tr>\n",
              "    <tr>\n",
              "      <th>...</th>\n",
              "      <td>...</td>\n",
              "      <td>...</td>\n",
              "      <td>...</td>\n",
              "    </tr>\n",
              "    <tr>\n",
              "      <th>278853</th>\n",
              "      <td>278854</td>\n",
              "      <td>portland, oregon, usa</td>\n",
              "      <td>0.0</td>\n",
              "    </tr>\n",
              "    <tr>\n",
              "      <th>278854</th>\n",
              "      <td>278855</td>\n",
              "      <td>tacoma, washington, united kingdom</td>\n",
              "      <td>50.0</td>\n",
              "    </tr>\n",
              "    <tr>\n",
              "      <th>278855</th>\n",
              "      <td>278856</td>\n",
              "      <td>brampton, ontario, canada</td>\n",
              "      <td>0.0</td>\n",
              "    </tr>\n",
              "    <tr>\n",
              "      <th>278856</th>\n",
              "      <td>278857</td>\n",
              "      <td>knoxville, tennessee, usa</td>\n",
              "      <td>0.0</td>\n",
              "    </tr>\n",
              "    <tr>\n",
              "      <th>278857</th>\n",
              "      <td>278858</td>\n",
              "      <td>dublin, n/a, ireland</td>\n",
              "      <td>0.0</td>\n",
              "    </tr>\n",
              "  </tbody>\n",
              "</table>\n",
              "<p>278858 rows × 3 columns</p>\n",
              "</div>"
            ],
            "text/plain": [
              "        userid                            location   age\n",
              "0            1                  nyc, new york, usa   0.0\n",
              "1            2           stockton, california, usa  18.0\n",
              "2            3     moscow, yukon territory, russia   0.0\n",
              "3            4           porto, v.n.gaia, portugal  17.0\n",
              "4            5  farnborough, hants, united kingdom   0.0\n",
              "...        ...                                 ...   ...\n",
              "278853  278854               portland, oregon, usa   0.0\n",
              "278854  278855  tacoma, washington, united kingdom  50.0\n",
              "278855  278856           brampton, ontario, canada   0.0\n",
              "278856  278857           knoxville, tennessee, usa   0.0\n",
              "278857  278858                dublin, n/a, ireland   0.0\n",
              "\n",
              "[278858 rows x 3 columns]"
            ]
          },
          "metadata": {
            "tags": []
          },
          "execution_count": 13
        }
      ]
    },
    {
      "cell_type": "code",
      "metadata": {
        "id": "PgEVt_uC6_Da"
      },
      "source": [
        "df_user.to_csv('newuser.csv', index=False, quoting=csv.QUOTE_NONNUMERIC)"
      ],
      "execution_count": 14,
      "outputs": []
    },
    {
      "cell_type": "markdown",
      "metadata": {
        "id": "HXNAvP7KLEUk"
      },
      "source": [
        "### Rating Section (2)"
      ]
    },
    {
      "cell_type": "code",
      "metadata": {
        "id": "tRSybkffLNyh",
        "colab": {
          "base_uri": "https://localhost:8080/",
          "height": 450
        },
        "outputId": "dd503c27-90a8-4af8-c728-4f167a11f91f"
      },
      "source": [
        "df_isbn_id = df_book[[\"isbn\", \"bookid\"]].copy()\n",
        "df_isbn_id = df_isbn_id.set_index('isbn')\n",
        "df_isbn_id"
      ],
      "execution_count": 15,
      "outputs": [
        {
          "output_type": "execute_result",
          "data": {
            "text/html": [
              "<div>\n",
              "<style scoped>\n",
              "    .dataframe tbody tr th:only-of-type {\n",
              "        vertical-align: middle;\n",
              "    }\n",
              "\n",
              "    .dataframe tbody tr th {\n",
              "        vertical-align: top;\n",
              "    }\n",
              "\n",
              "    .dataframe thead th {\n",
              "        text-align: right;\n",
              "    }\n",
              "</style>\n",
              "<table border=\"1\" class=\"dataframe\">\n",
              "  <thead>\n",
              "    <tr style=\"text-align: right;\">\n",
              "      <th></th>\n",
              "      <th>bookid</th>\n",
              "    </tr>\n",
              "    <tr>\n",
              "      <th>isbn</th>\n",
              "      <th></th>\n",
              "    </tr>\n",
              "  </thead>\n",
              "  <tbody>\n",
              "    <tr>\n",
              "      <th>0195153448</th>\n",
              "      <td>0</td>\n",
              "    </tr>\n",
              "    <tr>\n",
              "      <th>0002005018</th>\n",
              "      <td>1</td>\n",
              "    </tr>\n",
              "    <tr>\n",
              "      <th>0060973129</th>\n",
              "      <td>2</td>\n",
              "    </tr>\n",
              "    <tr>\n",
              "      <th>0374157065</th>\n",
              "      <td>3</td>\n",
              "    </tr>\n",
              "    <tr>\n",
              "      <th>0393045218</th>\n",
              "      <td>4</td>\n",
              "    </tr>\n",
              "    <tr>\n",
              "      <th>...</th>\n",
              "      <td>...</td>\n",
              "    </tr>\n",
              "    <tr>\n",
              "      <th>0440400988</th>\n",
              "      <td>271355</td>\n",
              "    </tr>\n",
              "    <tr>\n",
              "      <th>0525447644</th>\n",
              "      <td>271356</td>\n",
              "    </tr>\n",
              "    <tr>\n",
              "      <th>006008667X</th>\n",
              "      <td>271357</td>\n",
              "    </tr>\n",
              "    <tr>\n",
              "      <th>0192126040</th>\n",
              "      <td>271358</td>\n",
              "    </tr>\n",
              "    <tr>\n",
              "      <th>0767409752</th>\n",
              "      <td>271359</td>\n",
              "    </tr>\n",
              "  </tbody>\n",
              "</table>\n",
              "<p>271360 rows × 1 columns</p>\n",
              "</div>"
            ],
            "text/plain": [
              "            bookid\n",
              "isbn              \n",
              "0195153448       0\n",
              "0002005018       1\n",
              "0060973129       2\n",
              "0374157065       3\n",
              "0393045218       4\n",
              "...            ...\n",
              "0440400988  271355\n",
              "0525447644  271356\n",
              "006008667X  271357\n",
              "0192126040  271358\n",
              "0767409752  271359\n",
              "\n",
              "[271360 rows x 1 columns]"
            ]
          },
          "metadata": {
            "tags": []
          },
          "execution_count": 15
        }
      ]
    },
    {
      "cell_type": "code",
      "metadata": {
        "id": "1q89vtcNLUVi",
        "colab": {
          "base_uri": "https://localhost:8080/",
          "height": 419
        },
        "outputId": "676730ac-78ac-4528-bfa1-f5d715b58332"
      },
      "source": [
        "df_rate = df_rate.join(df_isbn_id, on=\"isbn\")\n",
        "df_rate = df_rate[df_rate['bookid'].notna()]\n",
        "df_rate['bookid'] = df_rate['bookid'].astype(int)\n",
        "df_rate"
      ],
      "execution_count": 16,
      "outputs": [
        {
          "output_type": "execute_result",
          "data": {
            "text/html": [
              "<div>\n",
              "<style scoped>\n",
              "    .dataframe tbody tr th:only-of-type {\n",
              "        vertical-align: middle;\n",
              "    }\n",
              "\n",
              "    .dataframe tbody tr th {\n",
              "        vertical-align: top;\n",
              "    }\n",
              "\n",
              "    .dataframe thead th {\n",
              "        text-align: right;\n",
              "    }\n",
              "</style>\n",
              "<table border=\"1\" class=\"dataframe\">\n",
              "  <thead>\n",
              "    <tr style=\"text-align: right;\">\n",
              "      <th></th>\n",
              "      <th>userid</th>\n",
              "      <th>isbn</th>\n",
              "      <th>bookrating</th>\n",
              "      <th>bookid</th>\n",
              "    </tr>\n",
              "  </thead>\n",
              "  <tbody>\n",
              "    <tr>\n",
              "      <th>0</th>\n",
              "      <td>276725</td>\n",
              "      <td>034545104X</td>\n",
              "      <td>0</td>\n",
              "      <td>2966</td>\n",
              "    </tr>\n",
              "    <tr>\n",
              "      <th>1</th>\n",
              "      <td>276726</td>\n",
              "      <td>0155061224</td>\n",
              "      <td>5</td>\n",
              "      <td>225816</td>\n",
              "    </tr>\n",
              "    <tr>\n",
              "      <th>2</th>\n",
              "      <td>276727</td>\n",
              "      <td>0446520802</td>\n",
              "      <td>0</td>\n",
              "      <td>11053</td>\n",
              "    </tr>\n",
              "    <tr>\n",
              "      <th>3</th>\n",
              "      <td>276729</td>\n",
              "      <td>052165615X</td>\n",
              "      <td>3</td>\n",
              "      <td>246838</td>\n",
              "    </tr>\n",
              "    <tr>\n",
              "      <th>4</th>\n",
              "      <td>276729</td>\n",
              "      <td>0521795028</td>\n",
              "      <td>6</td>\n",
              "      <td>246839</td>\n",
              "    </tr>\n",
              "    <tr>\n",
              "      <th>...</th>\n",
              "      <td>...</td>\n",
              "      <td>...</td>\n",
              "      <td>...</td>\n",
              "      <td>...</td>\n",
              "    </tr>\n",
              "    <tr>\n",
              "      <th>1149774</th>\n",
              "      <td>276704</td>\n",
              "      <td>0876044011</td>\n",
              "      <td>0</td>\n",
              "      <td>69543</td>\n",
              "    </tr>\n",
              "    <tr>\n",
              "      <th>1149775</th>\n",
              "      <td>276704</td>\n",
              "      <td>1563526298</td>\n",
              "      <td>9</td>\n",
              "      <td>69544</td>\n",
              "    </tr>\n",
              "    <tr>\n",
              "      <th>1149776</th>\n",
              "      <td>276706</td>\n",
              "      <td>0679447156</td>\n",
              "      <td>0</td>\n",
              "      <td>52540</td>\n",
              "    </tr>\n",
              "    <tr>\n",
              "      <th>1149777</th>\n",
              "      <td>276709</td>\n",
              "      <td>0515107662</td>\n",
              "      <td>10</td>\n",
              "      <td>15978</td>\n",
              "    </tr>\n",
              "    <tr>\n",
              "      <th>1149778</th>\n",
              "      <td>276721</td>\n",
              "      <td>0590442449</td>\n",
              "      <td>10</td>\n",
              "      <td>56814</td>\n",
              "    </tr>\n",
              "  </tbody>\n",
              "</table>\n",
              "<p>1031136 rows × 4 columns</p>\n",
              "</div>"
            ],
            "text/plain": [
              "         userid        isbn  bookrating  bookid\n",
              "0        276725  034545104X           0    2966\n",
              "1        276726  0155061224           5  225816\n",
              "2        276727  0446520802           0   11053\n",
              "3        276729  052165615X           3  246838\n",
              "4        276729  0521795028           6  246839\n",
              "...         ...         ...         ...     ...\n",
              "1149774  276704  0876044011           0   69543\n",
              "1149775  276704  1563526298           9   69544\n",
              "1149776  276706  0679447156           0   52540\n",
              "1149777  276709  0515107662          10   15978\n",
              "1149778  276721  0590442449          10   56814\n",
              "\n",
              "[1031136 rows x 4 columns]"
            ]
          },
          "metadata": {
            "tags": []
          },
          "execution_count": 16
        }
      ]
    },
    {
      "cell_type": "code",
      "metadata": {
        "id": "ZRR8LGpIJhYB"
      },
      "source": [
        "df_rate.to_csv('newrating.csv', index=False, quoting=csv.QUOTE_NONNUMERIC)"
      ],
      "execution_count": 17,
      "outputs": []
    },
    {
      "cell_type": "markdown",
      "metadata": {
        "id": "LJmzgFS3qdD1"
      },
      "source": [
        "# Recommendation Model"
      ]
    },
    {
      "cell_type": "markdown",
      "metadata": {
        "id": "i6PeftH1Nz2C"
      },
      "source": [
        "### Create Model"
      ]
    },
    {
      "cell_type": "code",
      "metadata": {
        "id": "cIMLhPaPHmH3",
        "colab": {
          "base_uri": "https://localhost:8080/"
        },
        "outputId": "c16ea51a-2d46-4369-8b3a-66a5eb4e6ea8"
      },
      "source": [
        "print('books length : {}'.format(len(df_rate.bookid)))\n",
        "print('users length : {}'.format(len(df_rate.userid)))\n",
        "print('unique books length : {}'.format(len(df_rate.bookid.unique())))\n",
        "print('unique users length : {}'.format(len(df_rate.userid.unique())))"
      ],
      "execution_count": 18,
      "outputs": [
        {
          "output_type": "stream",
          "text": [
            "books length : 1031136\n",
            "users length : 1031136\n",
            "unique books length : 270151\n",
            "unique users length : 92106\n"
          ],
          "name": "stdout"
        }
      ]
    },
    {
      "cell_type": "code",
      "metadata": {
        "colab": {
          "base_uri": "https://localhost:8080/"
        },
        "id": "W-dKLKf0Jj-l",
        "outputId": "d27cabac-b5d2-488a-8bb2-5202daab0de0"
      },
      "source": [
        "book_data = np.array(list(set(df_book.bookid)))\n",
        "user_data = np.array([85 for i in range(len(book_data))])\n",
        "length = len(book_data)\n",
        "\n",
        "print('book data :')\n",
        "print(book_data[:15])\n",
        "\n",
        "print('user data :')\n",
        "print(user_data[:15])\n",
        "\n",
        "print('length : {}'.format(length))"
      ],
      "execution_count": 42,
      "outputs": [
        {
          "output_type": "stream",
          "text": [
            "book data :\n",
            "[ 0  1  2  3  4  5  6  7  8  9 10 11 12 13 14]\n",
            "user data :\n",
            "[85 85 85 85 85 85 85 85 85 85 85 85 85 85 85]\n",
            "length : 271360\n"
          ],
          "name": "stdout"
        }
      ]
    },
    {
      "cell_type": "code",
      "metadata": {
        "id": "12jlfz77QacS",
        "colab": {
          "base_uri": "https://localhost:8080/"
        },
        "outputId": "4f5f292a-213d-4d6b-b7e1-b1f9de733ff6"
      },
      "source": [
        "book_embedding_size = 8\n",
        "user_embedding_size = 8\n",
        "\n",
        "user_input = tf.keras.Input(shape=(1,), name='User-Input')\n",
        "book_input = tf.keras.Input(shape=(1,), name='Book-Input')\n",
        "\n",
        "user_embedded = tf.keras.layers.Embedding(df_rate.userid.max()+1, user_embedding_size, input_length=1, name='User-Embedding')(user_input)\n",
        "book_embedded = tf.keras.layers.Embedding(df_rate.bookid.max()+1, book_embedding_size, input_length=1, name='Book-Embedding')(book_input)\n",
        "\n",
        "concatenated = tf.keras.layers.Concatenate()([user_embedded, book_embedded])\n",
        "\n",
        "out = tf.keras.layers.Flatten()(concatenated)\n",
        "out = tf.keras.layers.Dense(128, activation='relu')(out)\n",
        "out = tf.keras.layers.Dense(32, activation='relu')(out)\n",
        "out = tf.keras.layers.Dense(1, activation='linear', name='prediction')(out)\n",
        "\n",
        "model = tf.keras.Model(\n",
        "    inputs = [user_input, book_input],\n",
        "    outputs = out,\n",
        ")\n",
        "model.summary(line_length=88)"
      ],
      "execution_count": 20,
      "outputs": [
        {
          "output_type": "stream",
          "text": [
            "Model: \"model\"\n",
            "________________________________________________________________________________________\n",
            "Layer (type)                 Output Shape       Param #   Connected to                  \n",
            "========================================================================================\n",
            "User-Input (InputLayer)      [(None, 1)]        0                                       \n",
            "________________________________________________________________________________________\n",
            "Book-Input (InputLayer)      [(None, 1)]        0                                       \n",
            "________________________________________________________________________________________\n",
            "User-Embedding (Embedding)   (None, 1, 8)       2230840   User-Input[0][0]              \n",
            "________________________________________________________________________________________\n",
            "Book-Embedding (Embedding)   (None, 1, 8)       2170880   Book-Input[0][0]              \n",
            "________________________________________________________________________________________\n",
            "concatenate (Concatenate)    (None, 1, 16)      0         User-Embedding[0][0]          \n",
            "                                                          Book-Embedding[0][0]          \n",
            "________________________________________________________________________________________\n",
            "flatten (Flatten)            (None, 16)         0         concatenate[0][0]             \n",
            "________________________________________________________________________________________\n",
            "dense (Dense)                (None, 128)        2176      flatten[0][0]                 \n",
            "________________________________________________________________________________________\n",
            "dense_1 (Dense)              (None, 32)         4128      dense[0][0]                   \n",
            "________________________________________________________________________________________\n",
            "prediction (Dense)           (None, 1)          33        dense_1[0][0]                 \n",
            "========================================================================================\n",
            "Total params: 4,408,057\n",
            "Trainable params: 4,408,057\n",
            "Non-trainable params: 0\n",
            "________________________________________________________________________________________\n"
          ],
          "name": "stdout"
        }
      ]
    },
    {
      "cell_type": "code",
      "metadata": {
        "id": "5Ge0oymYQbnh"
      },
      "source": [
        "model.compile(\n",
        "    tf.optimizers.Adam(0.005),\n",
        "    loss='MSE',\n",
        "    metrics=['MAE']\n",
        ")"
      ],
      "execution_count": 21,
      "outputs": []
    },
    {
      "cell_type": "markdown",
      "metadata": {
        "id": "FiSWNDiuN43T"
      },
      "source": [
        "### Train Data"
      ]
    },
    {
      "cell_type": "code",
      "metadata": {
        "id": "luqCFJVMQeDD"
      },
      "source": [
        "train, test = train_test_split(df_rate, test_size=0.2, random_state=42)"
      ],
      "execution_count": 22,
      "outputs": []
    },
    {
      "cell_type": "code",
      "metadata": {
        "id": "sUUraqcGJ5Os"
      },
      "source": [
        "if os.path.exists('regression_model.h5'):\n",
        "  model2 = tf.keras.models.load_model('regression_model.h5')\n",
        "else:\n",
        "  # history = model.fit([train.userid, train.bookid], train.bookrating, epochs=10, verbose=1)\n",
        "  history = model.fit([df_rate.userid, df_rate.bookid], df_rate.bookrating, epochs=5, verbose=1)\n",
        "  model.save('regression_model.h5')\n",
        "  plt.plot(history.history['loss'])\n",
        "  plt.xlabel(\"Epochs\")\n",
        "  plt.ylabel(\"Training Error\")"
      ],
      "execution_count": 25,
      "outputs": []
    },
    {
      "cell_type": "code",
      "metadata": {
        "id": "K8hjHWDIJ66D",
        "colab": {
          "base_uri": "https://localhost:8080/"
        },
        "outputId": "8a65862e-d21c-47b7-8404-c9a56fb90df5"
      },
      "source": [
        "  model.evaluate([test.userid, test.bookid], test.bookrating)"
      ],
      "execution_count": 26,
      "outputs": [
        {
          "output_type": "stream",
          "text": [
            "6445/6445 [==============================] - 18s 2ms/step - loss: 22.8432 - MAE: 2.8373\n"
          ],
          "name": "stdout"
        },
        {
          "output_type": "execute_result",
          "data": {
            "text/plain": [
              "[22.84319305419922, 2.837311029434204]"
            ]
          },
          "metadata": {
            "tags": []
          },
          "execution_count": 26
        }
      ]
    },
    {
      "cell_type": "markdown",
      "metadata": {
        "id": "1GZ0hwH9Mc9b"
      },
      "source": [
        "### Predict Data"
      ]
    },
    {
      "cell_type": "code",
      "metadata": {
        "id": "PY0rIpYl_8fn",
        "colab": {
          "base_uri": "https://localhost:8080/"
        },
        "outputId": "5110c923-2f75-49a5-f06b-b5cbd4148e66"
      },
      "source": [
        "predictions = model.predict([user_data, book_data])\n",
        "predictions.shape"
      ],
      "execution_count": 43,
      "outputs": [
        {
          "output_type": "execute_result",
          "data": {
            "text/plain": [
              "(271360, 1)"
            ]
          },
          "metadata": {
            "tags": []
          },
          "execution_count": 43
        }
      ]
    },
    {
      "cell_type": "code",
      "metadata": {
        "id": "VJp3795UZ6rP",
        "colab": {
          "base_uri": "https://localhost:8080/"
        },
        "outputId": "34f8f26a-a8f5-4e72-8da4-dca45bd058d7"
      },
      "source": [
        "predictions[:10]"
      ],
      "execution_count": 44,
      "outputs": [
        {
          "output_type": "execute_result",
          "data": {
            "text/plain": [
              "array([[0.00692733],\n",
              "       [0.01071682],\n",
              "       [0.01997386],\n",
              "       [0.01559203],\n",
              "       [0.00232491],\n",
              "       [0.00821089],\n",
              "       [0.01594045],\n",
              "       [0.01135223],\n",
              "       [0.00214908],\n",
              "       [0.00052661]], dtype=float32)"
            ]
          },
          "metadata": {
            "tags": []
          },
          "execution_count": 44
        }
      ]
    },
    {
      "cell_type": "code",
      "metadata": {
        "id": "pnT7kjOqdapq",
        "colab": {
          "base_uri": "https://localhost:8080/"
        },
        "outputId": "1b44f23f-463d-4b24-efe2-a14112e644e6"
      },
      "source": [
        "predictions = np.array([a[0] for a in predictions])\n",
        "predictions[:25]"
      ],
      "execution_count": 45,
      "outputs": [
        {
          "output_type": "execute_result",
          "data": {
            "text/plain": [
              "array([ 0.00692733,  0.01071682,  0.01997386,  0.01559203,  0.00232491,\n",
              "        0.00821089,  0.01594045,  0.01135223,  0.00214908,  0.00052661,\n",
              "        0.00973466,  0.00762339,  0.00092916,  0.02655368,  0.00962452,\n",
              "        0.00436051,  0.00890927, -0.00081995,  0.00627706,  0.00862658,\n",
              "        0.00820902,  0.00685372,  0.02446755,  0.0182433 ,  0.00568684],\n",
              "      dtype=float32)"
            ]
          },
          "metadata": {
            "tags": []
          },
          "execution_count": 45
        }
      ]
    },
    {
      "cell_type": "code",
      "metadata": {
        "id": "2JGNdNapilmA",
        "colab": {
          "base_uri": "https://localhost:8080/"
        },
        "outputId": "c60ccd90-db04-4fb7-d2c6-8a91076d7371"
      },
      "source": [
        "recommended_book_id = (-predictions).argsort()    # Sorting + ambil 5 data terbesar\n",
        "recommended_book_id[:25]"
      ],
      "execution_count": 46,
      "outputs": [
        {
          "output_type": "execute_result",
          "data": {
            "text/plain": [
              "array([229734,  75757, 263973, 247159, 146699,  20125, 201424, 214050,\n",
              "         8512,  94369, 243887, 216309,  36692, 237210,  15416,  29221,\n",
              "        32220,  22419,  90076, 141051,  56141,  84626, 253031, 226254,\n",
              "        62919])"
            ]
          },
          "metadata": {
            "tags": []
          },
          "execution_count": 46
        }
      ]
    },
    {
      "cell_type": "code",
      "metadata": {
        "id": "q9dcmIagSmLf",
        "colab": {
          "base_uri": "https://localhost:8080/"
        },
        "outputId": "585e48f1-e57d-4636-82f9-96c1c85c83e4"
      },
      "source": [
        "predictions[recommended_book_id][:25]"
      ],
      "execution_count": 47,
      "outputs": [
        {
          "output_type": "execute_result",
          "data": {
            "text/plain": [
              "array([0.04502257, 0.04280353, 0.04253614, 0.04171232, 0.0410908 ,\n",
              "       0.04068025, 0.04055754, 0.04031461, 0.0401352 , 0.04012797,\n",
              "       0.04007761, 0.03999387, 0.03985026, 0.03979322, 0.03963859,\n",
              "       0.03954826, 0.03946888, 0.03927473, 0.0386938 , 0.03863627,\n",
              "       0.03856922, 0.03845753, 0.03827792, 0.03825669, 0.03823726],\n",
              "      dtype=float32)"
            ]
          },
          "metadata": {
            "tags": []
          },
          "execution_count": 47
        }
      ]
    },
    {
      "cell_type": "code",
      "metadata": {
        "id": "Hdo0B2oESorh",
        "colab": {
          "base_uri": "https://localhost:8080/",
          "height": 864
        },
        "outputId": "fc2b3229-70d3-46ec-bf67-b2b1eddee9cf"
      },
      "source": [
        "df_book[df_book['bookid'].isin(recommended_book_id)]"
      ],
      "execution_count": 48,
      "outputs": [
        {
          "output_type": "execute_result",
          "data": {
            "text/html": [
              "<div>\n",
              "<style scoped>\n",
              "    .dataframe tbody tr th:only-of-type {\n",
              "        vertical-align: middle;\n",
              "    }\n",
              "\n",
              "    .dataframe tbody tr th {\n",
              "        vertical-align: top;\n",
              "    }\n",
              "\n",
              "    .dataframe thead th {\n",
              "        text-align: right;\n",
              "    }\n",
              "</style>\n",
              "<table border=\"1\" class=\"dataframe\">\n",
              "  <thead>\n",
              "    <tr style=\"text-align: right;\">\n",
              "      <th></th>\n",
              "      <th>bookid</th>\n",
              "      <th>isbn</th>\n",
              "      <th>booktitle</th>\n",
              "      <th>bookauthor</th>\n",
              "      <th>yearofpublication</th>\n",
              "      <th>publisher</th>\n",
              "      <th>imageurls</th>\n",
              "      <th>imageurlm</th>\n",
              "      <th>imageurll</th>\n",
              "      <th>rating</th>\n",
              "    </tr>\n",
              "  </thead>\n",
              "  <tbody>\n",
              "    <tr>\n",
              "      <th>0</th>\n",
              "      <td>0</td>\n",
              "      <td>0195153448</td>\n",
              "      <td>Classical Mythology</td>\n",
              "      <td>Mark P. O. Morford</td>\n",
              "      <td>2002</td>\n",
              "      <td>Oxford University Press</td>\n",
              "      <td>http://images.amazon.com/images/P/0195153448.0...</td>\n",
              "      <td>http://images.amazon.com/images/P/0195153448.0...</td>\n",
              "      <td>http://images.amazon.com/images/P/0195153448.0...</td>\n",
              "      <td>0.000000</td>\n",
              "    </tr>\n",
              "    <tr>\n",
              "      <th>1</th>\n",
              "      <td>1</td>\n",
              "      <td>0002005018</td>\n",
              "      <td>Clara Callan</td>\n",
              "      <td>Richard Bruce Wright</td>\n",
              "      <td>2001</td>\n",
              "      <td>HarperFlamingo Canada</td>\n",
              "      <td>http://images.amazon.com/images/P/0002005018.0...</td>\n",
              "      <td>http://images.amazon.com/images/P/0002005018.0...</td>\n",
              "      <td>http://images.amazon.com/images/P/0002005018.0...</td>\n",
              "      <td>4.928571</td>\n",
              "    </tr>\n",
              "    <tr>\n",
              "      <th>2</th>\n",
              "      <td>2</td>\n",
              "      <td>0060973129</td>\n",
              "      <td>Decision in Normandy</td>\n",
              "      <td>Carlo D'Este</td>\n",
              "      <td>1991</td>\n",
              "      <td>HarperPerennial</td>\n",
              "      <td>http://images.amazon.com/images/P/0060973129.0...</td>\n",
              "      <td>http://images.amazon.com/images/P/0060973129.0...</td>\n",
              "      <td>http://images.amazon.com/images/P/0060973129.0...</td>\n",
              "      <td>5.000000</td>\n",
              "    </tr>\n",
              "    <tr>\n",
              "      <th>3</th>\n",
              "      <td>3</td>\n",
              "      <td>0374157065</td>\n",
              "      <td>Flu: The Story of the Great Influenza Pandemic...</td>\n",
              "      <td>Gina Bari Kolata</td>\n",
              "      <td>1999</td>\n",
              "      <td>Farrar Straus Giroux</td>\n",
              "      <td>http://images.amazon.com/images/P/0374157065.0...</td>\n",
              "      <td>http://images.amazon.com/images/P/0374157065.0...</td>\n",
              "      <td>http://images.amazon.com/images/P/0374157065.0...</td>\n",
              "      <td>4.272727</td>\n",
              "    </tr>\n",
              "    <tr>\n",
              "      <th>4</th>\n",
              "      <td>4</td>\n",
              "      <td>0393045218</td>\n",
              "      <td>The Mummies of Urumchi</td>\n",
              "      <td>E. J. W. Barber</td>\n",
              "      <td>1999</td>\n",
              "      <td>W. W. Norton &amp;amp; Company</td>\n",
              "      <td>http://images.amazon.com/images/P/0393045218.0...</td>\n",
              "      <td>http://images.amazon.com/images/P/0393045218.0...</td>\n",
              "      <td>http://images.amazon.com/images/P/0393045218.0...</td>\n",
              "      <td>0.000000</td>\n",
              "    </tr>\n",
              "    <tr>\n",
              "      <th>...</th>\n",
              "      <td>...</td>\n",
              "      <td>...</td>\n",
              "      <td>...</td>\n",
              "      <td>...</td>\n",
              "      <td>...</td>\n",
              "      <td>...</td>\n",
              "      <td>...</td>\n",
              "      <td>...</td>\n",
              "      <td>...</td>\n",
              "      <td>...</td>\n",
              "    </tr>\n",
              "    <tr>\n",
              "      <th>271355</th>\n",
              "      <td>271355</td>\n",
              "      <td>0440400988</td>\n",
              "      <td>There's a Bat in Bunk Five</td>\n",
              "      <td>Paula Danziger</td>\n",
              "      <td>1988</td>\n",
              "      <td>Random House Childrens Pub (Mm)</td>\n",
              "      <td>http://images.amazon.com/images/P/0440400988.0...</td>\n",
              "      <td>http://images.amazon.com/images/P/0440400988.0...</td>\n",
              "      <td>http://images.amazon.com/images/P/0440400988.0...</td>\n",
              "      <td>7.000000</td>\n",
              "    </tr>\n",
              "    <tr>\n",
              "      <th>271356</th>\n",
              "      <td>271356</td>\n",
              "      <td>0525447644</td>\n",
              "      <td>From One to One Hundred</td>\n",
              "      <td>Teri Sloat</td>\n",
              "      <td>1991</td>\n",
              "      <td>Dutton Books</td>\n",
              "      <td>http://images.amazon.com/images/P/0525447644.0...</td>\n",
              "      <td>http://images.amazon.com/images/P/0525447644.0...</td>\n",
              "      <td>http://images.amazon.com/images/P/0525447644.0...</td>\n",
              "      <td>4.000000</td>\n",
              "    </tr>\n",
              "    <tr>\n",
              "      <th>271357</th>\n",
              "      <td>271357</td>\n",
              "      <td>006008667X</td>\n",
              "      <td>Lily Dale : The True Story of the Town that Ta...</td>\n",
              "      <td>Christine Wicker</td>\n",
              "      <td>2004</td>\n",
              "      <td>HarperSanFrancisco</td>\n",
              "      <td>http://images.amazon.com/images/P/006008667X.0...</td>\n",
              "      <td>http://images.amazon.com/images/P/006008667X.0...</td>\n",
              "      <td>http://images.amazon.com/images/P/006008667X.0...</td>\n",
              "      <td>0.000000</td>\n",
              "    </tr>\n",
              "    <tr>\n",
              "      <th>271358</th>\n",
              "      <td>271358</td>\n",
              "      <td>0192126040</td>\n",
              "      <td>Republic (World's Classics)</td>\n",
              "      <td>Plato</td>\n",
              "      <td>1996</td>\n",
              "      <td>Oxford University Press</td>\n",
              "      <td>http://images.amazon.com/images/P/0192126040.0...</td>\n",
              "      <td>http://images.amazon.com/images/P/0192126040.0...</td>\n",
              "      <td>http://images.amazon.com/images/P/0192126040.0...</td>\n",
              "      <td>0.000000</td>\n",
              "    </tr>\n",
              "    <tr>\n",
              "      <th>271359</th>\n",
              "      <td>271359</td>\n",
              "      <td>0767409752</td>\n",
              "      <td>A Guided Tour of Rene Descartes' Meditations o...</td>\n",
              "      <td>Christopher  Biffle</td>\n",
              "      <td>2000</td>\n",
              "      <td>McGraw-Hill Humanities/Social Sciences/Languages</td>\n",
              "      <td>http://images.amazon.com/images/P/0767409752.0...</td>\n",
              "      <td>http://images.amazon.com/images/P/0767409752.0...</td>\n",
              "      <td>http://images.amazon.com/images/P/0767409752.0...</td>\n",
              "      <td>0.000000</td>\n",
              "    </tr>\n",
              "  </tbody>\n",
              "</table>\n",
              "<p>271360 rows × 10 columns</p>\n",
              "</div>"
            ],
            "text/plain": [
              "        bookid  ...    rating\n",
              "0            0  ...  0.000000\n",
              "1            1  ...  4.928571\n",
              "2            2  ...  5.000000\n",
              "3            3  ...  4.272727\n",
              "4            4  ...  0.000000\n",
              "...        ...  ...       ...\n",
              "271355  271355  ...  7.000000\n",
              "271356  271356  ...  4.000000\n",
              "271357  271357  ...  0.000000\n",
              "271358  271358  ...  0.000000\n",
              "271359  271359  ...  0.000000\n",
              "\n",
              "[271360 rows x 10 columns]"
            ]
          },
          "metadata": {
            "tags": []
          },
          "execution_count": 48
        }
      ]
    },
    {
      "cell_type": "markdown",
      "metadata": {
        "id": "iSJvtap1Hsfs"
      },
      "source": [
        "### Prediction Table"
      ]
    },
    {
      "cell_type": "code",
      "metadata": {
        "id": "0Kc8lUYdHrzs",
        "colab": {
          "base_uri": "https://localhost:8080/",
          "height": 359
        },
        "outputId": "3b02fdf4-49a4-43da-8b6c-5843526e35b0"
      },
      "source": [
        "new_df = pd.DataFrame()\n",
        "new_df['user_data'] = user_data\n",
        "new_df['book_data'] = book_data\n",
        "new_df['predictions'] = predictions\n",
        "new_df['predictsort'] = list(predictions[recommended_book_id])\n",
        "new_df['recom_book'] = list(recommended_book_id)\n",
        "new_df[:10]"
      ],
      "execution_count": 49,
      "outputs": [
        {
          "output_type": "execute_result",
          "data": {
            "text/html": [
              "<div>\n",
              "<style scoped>\n",
              "    .dataframe tbody tr th:only-of-type {\n",
              "        vertical-align: middle;\n",
              "    }\n",
              "\n",
              "    .dataframe tbody tr th {\n",
              "        vertical-align: top;\n",
              "    }\n",
              "\n",
              "    .dataframe thead th {\n",
              "        text-align: right;\n",
              "    }\n",
              "</style>\n",
              "<table border=\"1\" class=\"dataframe\">\n",
              "  <thead>\n",
              "    <tr style=\"text-align: right;\">\n",
              "      <th></th>\n",
              "      <th>user_data</th>\n",
              "      <th>book_data</th>\n",
              "      <th>predictions</th>\n",
              "      <th>predictsort</th>\n",
              "      <th>recom_book</th>\n",
              "    </tr>\n",
              "  </thead>\n",
              "  <tbody>\n",
              "    <tr>\n",
              "      <th>0</th>\n",
              "      <td>85</td>\n",
              "      <td>0</td>\n",
              "      <td>0.006927</td>\n",
              "      <td>0.045023</td>\n",
              "      <td>229734</td>\n",
              "    </tr>\n",
              "    <tr>\n",
              "      <th>1</th>\n",
              "      <td>85</td>\n",
              "      <td>1</td>\n",
              "      <td>0.010717</td>\n",
              "      <td>0.042804</td>\n",
              "      <td>75757</td>\n",
              "    </tr>\n",
              "    <tr>\n",
              "      <th>2</th>\n",
              "      <td>85</td>\n",
              "      <td>2</td>\n",
              "      <td>0.019974</td>\n",
              "      <td>0.042536</td>\n",
              "      <td>263973</td>\n",
              "    </tr>\n",
              "    <tr>\n",
              "      <th>3</th>\n",
              "      <td>85</td>\n",
              "      <td>3</td>\n",
              "      <td>0.015592</td>\n",
              "      <td>0.041712</td>\n",
              "      <td>247159</td>\n",
              "    </tr>\n",
              "    <tr>\n",
              "      <th>4</th>\n",
              "      <td>85</td>\n",
              "      <td>4</td>\n",
              "      <td>0.002325</td>\n",
              "      <td>0.041091</td>\n",
              "      <td>146699</td>\n",
              "    </tr>\n",
              "    <tr>\n",
              "      <th>5</th>\n",
              "      <td>85</td>\n",
              "      <td>5</td>\n",
              "      <td>0.008211</td>\n",
              "      <td>0.040680</td>\n",
              "      <td>20125</td>\n",
              "    </tr>\n",
              "    <tr>\n",
              "      <th>6</th>\n",
              "      <td>85</td>\n",
              "      <td>6</td>\n",
              "      <td>0.015940</td>\n",
              "      <td>0.040558</td>\n",
              "      <td>201424</td>\n",
              "    </tr>\n",
              "    <tr>\n",
              "      <th>7</th>\n",
              "      <td>85</td>\n",
              "      <td>7</td>\n",
              "      <td>0.011352</td>\n",
              "      <td>0.040315</td>\n",
              "      <td>214050</td>\n",
              "    </tr>\n",
              "    <tr>\n",
              "      <th>8</th>\n",
              "      <td>85</td>\n",
              "      <td>8</td>\n",
              "      <td>0.002149</td>\n",
              "      <td>0.040135</td>\n",
              "      <td>8512</td>\n",
              "    </tr>\n",
              "    <tr>\n",
              "      <th>9</th>\n",
              "      <td>85</td>\n",
              "      <td>9</td>\n",
              "      <td>0.000527</td>\n",
              "      <td>0.040128</td>\n",
              "      <td>94369</td>\n",
              "    </tr>\n",
              "  </tbody>\n",
              "</table>\n",
              "</div>"
            ],
            "text/plain": [
              "   user_data  book_data  predictions  predictsort  recom_book\n",
              "0         85          0     0.006927     0.045023      229734\n",
              "1         85          1     0.010717     0.042804       75757\n",
              "2         85          2     0.019974     0.042536      263973\n",
              "3         85          3     0.015592     0.041712      247159\n",
              "4         85          4     0.002325     0.041091      146699\n",
              "5         85          5     0.008211     0.040680       20125\n",
              "6         85          6     0.015940     0.040558      201424\n",
              "7         85          7     0.011352     0.040315      214050\n",
              "8         85          8     0.002149     0.040135        8512\n",
              "9         85          9     0.000527     0.040128       94369"
            ]
          },
          "metadata": {
            "tags": []
          },
          "execution_count": 49
        }
      ]
    },
    {
      "cell_type": "markdown",
      "metadata": {
        "id": "-suWEooQLe85"
      },
      "source": [
        "### Deploy Model"
      ]
    },
    {
      "cell_type": "code",
      "metadata": {
        "id": "MH8N0FXS0SMg"
      },
      "source": [
        "converter = tf.lite.TFLiteConverter.from_keras_model(model)"
      ],
      "execution_count": 51,
      "outputs": []
    },
    {
      "cell_type": "code",
      "metadata": {
        "id": "-xbhyAky0Y1C",
        "colab": {
          "base_uri": "https://localhost:8080/"
        },
        "outputId": "83b6328b-630e-437b-ddb5-04987d67b0f1"
      },
      "source": [
        "tfmodel = converter.convert()"
      ],
      "execution_count": 52,
      "outputs": [
        {
          "output_type": "stream",
          "text": [
            "WARNING:absl:Function `_wrapped_model` contains input name(s) User-Input, Book-Input with unsupported characters which will be renamed to user_input, book_input in the SavedModel.\n"
          ],
          "name": "stderr"
        },
        {
          "output_type": "stream",
          "text": [
            "INFO:tensorflow:Assets written to: /tmp/tmpnjuo0xbc/assets\n"
          ],
          "name": "stdout"
        },
        {
          "output_type": "stream",
          "text": [
            "INFO:tensorflow:Assets written to: /tmp/tmpnjuo0xbc/assets\n"
          ],
          "name": "stderr"
        }
      ]
    },
    {
      "cell_type": "code",
      "metadata": {
        "id": "rxxHsNR20dff",
        "colab": {
          "base_uri": "https://localhost:8080/"
        },
        "outputId": "95c80165-f9e7-44d3-a27f-1ec109eb0fd8"
      },
      "source": [
        "open('model.tflite', 'wb').write(tfmodel)"
      ],
      "execution_count": 53,
      "outputs": [
        {
          "output_type": "execute_result",
          "data": {
            "text/plain": [
              "17634272"
            ]
          },
          "metadata": {
            "tags": []
          },
          "execution_count": 53
        }
      ]
    },
    {
      "cell_type": "markdown",
      "metadata": {
        "id": "0i-2-IfIqoI-"
      },
      "source": [
        "# Photo Detection"
      ]
    },
    {
      "cell_type": "markdown",
      "metadata": {
        "id": "WEgMSf_aIbeN"
      },
      "source": [
        "Unused Photo Detection Code using PyTesseract"
      ]
    },
    {
      "cell_type": "markdown",
      "metadata": {
        "id": "XQXVPwSjHv4t"
      },
      "source": [
        "### Install & Import"
      ]
    },
    {
      "cell_type": "code",
      "metadata": {
        "colab": {
          "base_uri": "https://localhost:8080/"
        },
        "id": "cTxM9fIDH2Ur",
        "outputId": "284dacaa-d90d-460c-f1d6-ac5bf5721714"
      },
      "source": [
        "!apt install subversion\n",
        "!apt install tesseract-ocr\n",
        "!pip install pytesseract"
      ],
      "execution_count": 54,
      "outputs": [
        {
          "output_type": "stream",
          "text": [
            "Reading package lists... Done\n",
            "Building dependency tree       \n",
            "Reading state information... Done\n",
            "The following additional packages will be installed:\n",
            "  libapr1 libaprutil1 libserf-1-1 libsvn1\n",
            "Suggested packages:\n",
            "  db5.3-util libapache2-mod-svn subversion-tools\n",
            "The following NEW packages will be installed:\n",
            "  libapr1 libaprutil1 libserf-1-1 libsvn1 subversion\n",
            "0 upgraded, 5 newly installed, 0 to remove and 39 not upgraded.\n",
            "Need to get 2,237 kB of archives.\n",
            "After this operation, 9,910 kB of additional disk space will be used.\n",
            "Get:1 http://archive.ubuntu.com/ubuntu bionic/main amd64 libapr1 amd64 1.6.3-2 [90.9 kB]\n",
            "Get:2 http://archive.ubuntu.com/ubuntu bionic/main amd64 libaprutil1 amd64 1.6.1-2 [84.4 kB]\n",
            "Get:3 http://archive.ubuntu.com/ubuntu bionic/universe amd64 libserf-1-1 amd64 1.3.9-6 [44.4 kB]\n",
            "Get:4 http://archive.ubuntu.com/ubuntu bionic/universe amd64 libsvn1 amd64 1.9.7-4ubuntu1 [1,183 kB]\n",
            "Get:5 http://archive.ubuntu.com/ubuntu bionic/universe amd64 subversion amd64 1.9.7-4ubuntu1 [834 kB]\n",
            "Fetched 2,237 kB in 0s (18.8 MB/s)\n",
            "Selecting previously unselected package libapr1:amd64.\n",
            "(Reading database ... 160819 files and directories currently installed.)\n",
            "Preparing to unpack .../libapr1_1.6.3-2_amd64.deb ...\n",
            "Unpacking libapr1:amd64 (1.6.3-2) ...\n",
            "Selecting previously unselected package libaprutil1:amd64.\n",
            "Preparing to unpack .../libaprutil1_1.6.1-2_amd64.deb ...\n",
            "Unpacking libaprutil1:amd64 (1.6.1-2) ...\n",
            "Selecting previously unselected package libserf-1-1:amd64.\n",
            "Preparing to unpack .../libserf-1-1_1.3.9-6_amd64.deb ...\n",
            "Unpacking libserf-1-1:amd64 (1.3.9-6) ...\n",
            "Selecting previously unselected package libsvn1:amd64.\n",
            "Preparing to unpack .../libsvn1_1.9.7-4ubuntu1_amd64.deb ...\n",
            "Unpacking libsvn1:amd64 (1.9.7-4ubuntu1) ...\n",
            "Selecting previously unselected package subversion.\n",
            "Preparing to unpack .../subversion_1.9.7-4ubuntu1_amd64.deb ...\n",
            "Unpacking subversion (1.9.7-4ubuntu1) ...\n",
            "Setting up libapr1:amd64 (1.6.3-2) ...\n",
            "Setting up libaprutil1:amd64 (1.6.1-2) ...\n",
            "Setting up libserf-1-1:amd64 (1.3.9-6) ...\n",
            "Setting up libsvn1:amd64 (1.9.7-4ubuntu1) ...\n",
            "Setting up subversion (1.9.7-4ubuntu1) ...\n",
            "Processing triggers for libc-bin (2.27-3ubuntu1.2) ...\n",
            "/sbin/ldconfig.real: /usr/local/lib/python3.7/dist-packages/ideep4py/lib/libmkldnn.so.0 is not a symbolic link\n",
            "\n",
            "Processing triggers for man-db (2.8.3-2ubuntu0.1) ...\n",
            "Reading package lists... Done\n",
            "Building dependency tree       \n",
            "Reading state information... Done\n",
            "tesseract-ocr is already the newest version (4.00~git2288-10f4998a-2).\n",
            "0 upgraded, 0 newly installed, 0 to remove and 39 not upgraded.\n",
            "Requirement already satisfied: pytesseract in /usr/local/lib/python3.7/dist-packages (0.3.7)\n",
            "Requirement already satisfied: Pillow in /usr/local/lib/python3.7/dist-packages (from pytesseract) (7.1.2)\n"
          ],
          "name": "stdout"
        }
      ]
    },
    {
      "cell_type": "code",
      "metadata": {
        "id": "9pIkHOhWH2FX"
      },
      "source": [
        "import pytesseract\n",
        "try:\n",
        "  from PIL import Image\n",
        "except ImportError:\n",
        "  import Image"
      ],
      "execution_count": 55,
      "outputs": []
    },
    {
      "cell_type": "code",
      "metadata": {
        "colab": {
          "base_uri": "https://localhost:8080/"
        },
        "id": "4J5X6y0yIWnM",
        "outputId": "bcc1f016-dc29-4346-ff0a-744c23b75aad"
      },
      "source": [
        "!svn checkout https://github.com/Turing-Team-B21-CAP0257/ML/trunk/ImageTest"
      ],
      "execution_count": 56,
      "outputs": [
        {
          "output_type": "stream",
          "text": [
            "A    ImageTest/CM-1.jpg\n",
            "A    ImageTest/CM-2.jpg\n",
            "A    ImageTest/CM-3.jpg\n",
            "A    ImageTest/CM-4.jpg\n",
            "A    ImageTest/DN-1.jpg\n",
            "A    ImageTest/DN-2.jpg\n",
            "A    ImageTest/DN-3.jpg\n",
            "A    ImageTest/GM-1.jpg\n",
            "A    ImageTest/GM-2.jpg\n",
            "A    ImageTest/H-1.jpeg\n",
            "A    ImageTest/H-2.jpg\n",
            "A    ImageTest/LV-1.jpg\n",
            "A    ImageTest/LV-2.jpg\n",
            "A    ImageTest/TDO.jpg\n",
            "A    ImageTest/WTD-1.jpg\n",
            "A    ImageTest/WTD-2.jpg\n",
            "A    ImageTest/WTD-3.jpg\n",
            "Checked out revision 6.\n"
          ],
          "name": "stdout"
        }
      ]
    },
    {
      "cell_type": "markdown",
      "metadata": {
        "id": "pz67qhGYMfz8"
      },
      "source": [
        "### Image to Text"
      ]
    },
    {
      "cell_type": "code",
      "metadata": {
        "id": "CFA_mobEHqDG",
        "colab": {
          "base_uri": "https://localhost:8080/"
        },
        "outputId": "bcd4271c-2514-4331-dc73-969a183563b0"
      },
      "source": [
        "image_path = 'ImageTest/CM-1.jpg'\n",
        "text = pytesseract.image_to_string(Image.open(image_path))\n",
        "print(text)"
      ],
      "execution_count": 57,
      "outputs": [
        {
          "output_type": "stream",
          "text": [
            "classical\n",
            "\n",
            "Mythology\n",
            "\n",
            "Seventh Edition\n",
            "\n",
            "MARK P.0. MORFORD @ ROBERT J. LENARDON\n",
            "\n",
            " \n",
            "\f\n"
          ],
          "name": "stdout"
        }
      ]
    },
    {
      "cell_type": "code",
      "metadata": {
        "id": "KBWUJxgCKbqs",
        "colab": {
          "base_uri": "https://localhost:8080/"
        },
        "outputId": "ddee24a0-8230-4ebe-a1b0-f159918c8091"
      },
      "source": [
        "text = re.sub(r'\\n+', \" \", text)\n",
        "text = text.lower()\n",
        "text = text.translate(str.maketrans(\"\",\"\",string.punctuation))\n",
        "\n",
        "text = text.lstrip()\n",
        "text = text.rstrip()\n",
        "print(text)"
      ],
      "execution_count": 58,
      "outputs": [
        {
          "output_type": "stream",
          "text": [
            "classical mythology seventh edition mark p0 morford  robert j lenardon\n"
          ],
          "name": "stdout"
        }
      ]
    },
    {
      "cell_type": "code",
      "metadata": {
        "id": "lYOOCJlU3a2B",
        "colab": {
          "base_uri": "https://localhost:8080/"
        },
        "outputId": "2e719439-ac0a-46a2-a6da-d152fc9aa648"
      },
      "source": [
        "text = text.split(\" \")\n",
        "print(text)"
      ],
      "execution_count": 59,
      "outputs": [
        {
          "output_type": "stream",
          "text": [
            "['classical', 'mythology', 'seventh', 'edition', 'mark', 'p0', 'morford', '', 'robert', 'j', 'lenardon']\n"
          ],
          "name": "stdout"
        }
      ]
    },
    {
      "cell_type": "markdown",
      "metadata": {
        "id": "ukiLv6ajNhiJ"
      },
      "source": [
        "### Search Data from Text"
      ]
    },
    {
      "cell_type": "code",
      "metadata": {
        "id": "JaaHCLY5NnS5",
        "colab": {
          "base_uri": "https://localhost:8080/"
        },
        "outputId": "10fff890-a94f-4a3d-d9b9-bf5713d631c4"
      },
      "source": [
        "bookData = pd.DataFrame(df_book, columns= ['booktitle', 'bookauthor']).values.tolist()\n",
        "bookData[:5]"
      ],
      "execution_count": 60,
      "outputs": [
        {
          "output_type": "execute_result",
          "data": {
            "text/plain": [
              "[['Classical Mythology', 'Mark P. O. Morford'],\n",
              " ['Clara Callan', 'Richard Bruce Wright'],\n",
              " ['Decision in Normandy', \"Carlo D'Este\"],\n",
              " ['Flu: The Story of the Great Influenza Pandemic of 1918 and the Search for the Virus That Caused It',\n",
              "  'Gina Bari Kolata'],\n",
              " ['The Mummies of Urumchi', 'E. J. W. Barber']]"
            ]
          },
          "metadata": {
            "tags": []
          },
          "execution_count": 60
        }
      ]
    },
    {
      "cell_type": "code",
      "metadata": {
        "id": "YzhT3CgxRl3O",
        "colab": {
          "base_uri": "https://localhost:8080/"
        },
        "outputId": "f5cff855-3178-4db9-ea5c-d1daff86ce2c"
      },
      "source": [
        "for i in range(len(bookData)):\n",
        "  bookData[i] = str(bookData[i][0]) + \" \" + str(bookData[i][1])\n",
        "  bookData[i] = bookData[i].lower()\n",
        "  bookData[i] = bookData[i].translate(str.maketrans(\"\",\"\",string.punctuation))\n",
        "\n",
        "bookData[:10]"
      ],
      "execution_count": 61,
      "outputs": [
        {
          "output_type": "execute_result",
          "data": {
            "text/plain": [
              "['classical mythology mark p o morford',\n",
              " 'clara callan richard bruce wright',\n",
              " 'decision in normandy carlo deste',\n",
              " 'flu the story of the great influenza pandemic of 1918 and the search for the virus that caused it gina bari kolata',\n",
              " 'the mummies of urumchi e j w barber',\n",
              " 'the kitchen gods wife amy tan',\n",
              " 'what if the worlds foremost military historians imagine what might have been robert cowley',\n",
              " 'pleading guilty scott turow',\n",
              " 'under the black flag the romance and the reality of life among the pirates david cordingly',\n",
              " 'where youll find me and other stories ann beattie']"
            ]
          },
          "metadata": {
            "tags": []
          },
          "execution_count": 61
        }
      ]
    },
    {
      "cell_type": "code",
      "metadata": {
        "id": "sTSd1Cm5e4N8",
        "colab": {
          "base_uri": "https://localhost:8080/"
        },
        "outputId": "554cf96a-f446-49f7-b7a1-f0112349bcaa"
      },
      "source": [
        "for i in range(len(bookData)):\n",
        "  bookData[i] = bookData[i].split()\n",
        "\n",
        "bookData[:3]"
      ],
      "execution_count": 62,
      "outputs": [
        {
          "output_type": "execute_result",
          "data": {
            "text/plain": [
              "[['classical', 'mythology', 'mark', 'p', 'o', 'morford'],\n",
              " ['clara', 'callan', 'richard', 'bruce', 'wright'],\n",
              " ['decision', 'in', 'normandy', 'carlo', 'deste']]"
            ]
          },
          "metadata": {
            "tags": []
          },
          "execution_count": 62
        }
      ]
    },
    {
      "cell_type": "code",
      "metadata": {
        "id": "JF4A3Sw_qKoy",
        "colab": {
          "base_uri": "https://localhost:8080/"
        },
        "outputId": "d004c257-f3f9-4f3b-83c0-3b0a77794349"
      },
      "source": [
        "similarityList = []\n",
        "\n",
        "index = 0\n",
        "\n",
        "for book in bookData:\n",
        "  similarity = 0\n",
        "  for word in text:\n",
        "    if word in book:\n",
        "      similarity += 1\n",
        "  similarityList.append([index, similarity])\n",
        "  index += 1\n",
        "\n",
        "similarityList[:10]"
      ],
      "execution_count": 63,
      "outputs": [
        {
          "output_type": "execute_result",
          "data": {
            "text/plain": [
              "[[0, 4],\n",
              " [1, 0],\n",
              " [2, 0],\n",
              " [3, 0],\n",
              " [4, 1],\n",
              " [5, 0],\n",
              " [6, 1],\n",
              " [7, 0],\n",
              " [8, 0],\n",
              " [9, 0]]"
            ]
          },
          "metadata": {
            "tags": []
          },
          "execution_count": 63
        }
      ]
    },
    {
      "cell_type": "code",
      "metadata": {
        "id": "hSkPi2QRvL9l",
        "colab": {
          "base_uri": "https://localhost:8080/"
        },
        "outputId": "824c1ba5-590f-4455-ef14-a338c02608a6"
      },
      "source": [
        "similarityList.sort(key=lambda x: x[1], reverse=True)\n",
        "similarityList[:20]"
      ],
      "execution_count": 64,
      "outputs": [
        {
          "output_type": "execute_result",
          "data": {
            "text/plain": [
              "[[0, 4],\n",
              " [95231, 4],\n",
              " [111977, 4],\n",
              " [193923, 4],\n",
              " [42118, 3],\n",
              " [124762, 3],\n",
              " [127454, 3],\n",
              " [158903, 3],\n",
              " [196622, 3],\n",
              " [241341, 3],\n",
              " [264304, 3],\n",
              " [1087, 2],\n",
              " [1763, 2],\n",
              " [3179, 2],\n",
              " [3472, 2],\n",
              " [5008, 2],\n",
              " [7116, 2],\n",
              " [10299, 2],\n",
              " [10317, 2],\n",
              " [10663, 2]]"
            ]
          },
          "metadata": {
            "tags": []
          },
          "execution_count": 64
        }
      ]
    },
    {
      "cell_type": "code",
      "metadata": {
        "id": "oJz17BtGqNJz",
        "colab": {
          "base_uri": "https://localhost:8080/"
        },
        "outputId": "e03fcd9e-c80e-41e6-c8e1-d8e677e3b154"
      },
      "source": [
        "output = [i[0] for i in similarityList[:4]]\n",
        "output"
      ],
      "execution_count": 65,
      "outputs": [
        {
          "output_type": "execute_result",
          "data": {
            "text/plain": [
              "[0, 95231, 111977, 193923]"
            ]
          },
          "metadata": {
            "tags": []
          },
          "execution_count": 65
        }
      ]
    }
  ]
}
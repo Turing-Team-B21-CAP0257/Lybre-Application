{
  "nbformat": 4,
  "nbformat_minor": 0,
  "metadata": {
    "colab": {
      "name": "Lybre - ML.ipynb",
      "provenance": [],
      "collapsed_sections": [],
      "toc_visible": true
    },
    "kernelspec": {
      "name": "python3",
      "display_name": "Python 3"
    },
    "language_info": {
      "name": "python"
    },
    "accelerator": "GPU"
  },
  "cells": [
    {
      "cell_type": "markdown",
      "metadata": {
        "id": "wFlles4tqwoF"
      },
      "source": [
        "# Install & Import"
      ]
    },
    {
      "cell_type": "code",
      "metadata": {
        "id": "eQIh0fHDvnaf"
      },
      "source": [
        "# from google.colab import drive\n",
        "# drive.mount('/content/drive')"
      ],
      "execution_count": null,
      "outputs": []
    },
    {
      "cell_type": "markdown",
      "metadata": {
        "id": "5rE-dTRKq_d8"
      },
      "source": [
        "Ini Projek Machine Learning"
      ]
    },
    {
      "cell_type": "code",
      "metadata": {
        "id": "Jjslle2G3RBB",
        "colab": {
          "base_uri": "https://localhost:8080/"
        },
        "outputId": "89af52ff-33b4-4e56-baa5-5372abe196bc"
      },
      "source": [
        "!apt install tesseract-ocr\n",
        "!pip install pytesseract"
      ],
      "execution_count": null,
      "outputs": [
        {
          "output_type": "stream",
          "text": [
            "Reading package lists... Done\n",
            "Building dependency tree       \n",
            "Reading state information... Done\n",
            "The following additional packages will be installed:\n",
            "  tesseract-ocr-eng tesseract-ocr-osd\n",
            "The following NEW packages will be installed:\n",
            "  tesseract-ocr tesseract-ocr-eng tesseract-ocr-osd\n",
            "0 upgraded, 3 newly installed, 0 to remove and 39 not upgraded.\n",
            "Need to get 4,795 kB of archives.\n",
            "After this operation, 15.8 MB of additional disk space will be used.\n",
            "Get:1 http://archive.ubuntu.com/ubuntu bionic/universe amd64 tesseract-ocr-eng all 4.00~git24-0e00fe6-1.2 [1,588 kB]\n",
            "Get:2 http://archive.ubuntu.com/ubuntu bionic/universe amd64 tesseract-ocr-osd all 4.00~git24-0e00fe6-1.2 [2,989 kB]\n",
            "Get:3 http://archive.ubuntu.com/ubuntu bionic/universe amd64 tesseract-ocr amd64 4.00~git2288-10f4998a-2 [218 kB]\n",
            "Fetched 4,795 kB in 1s (4,553 kB/s)\n",
            "Selecting previously unselected package tesseract-ocr-eng.\n",
            "(Reading database ... 160772 files and directories currently installed.)\n",
            "Preparing to unpack .../tesseract-ocr-eng_4.00~git24-0e00fe6-1.2_all.deb ...\n",
            "Unpacking tesseract-ocr-eng (4.00~git24-0e00fe6-1.2) ...\n",
            "Selecting previously unselected package tesseract-ocr-osd.\n",
            "Preparing to unpack .../tesseract-ocr-osd_4.00~git24-0e00fe6-1.2_all.deb ...\n",
            "Unpacking tesseract-ocr-osd (4.00~git24-0e00fe6-1.2) ...\n",
            "Selecting previously unselected package tesseract-ocr.\n",
            "Preparing to unpack .../tesseract-ocr_4.00~git2288-10f4998a-2_amd64.deb ...\n",
            "Unpacking tesseract-ocr (4.00~git2288-10f4998a-2) ...\n",
            "Setting up tesseract-ocr-osd (4.00~git24-0e00fe6-1.2) ...\n",
            "Setting up tesseract-ocr-eng (4.00~git24-0e00fe6-1.2) ...\n",
            "Setting up tesseract-ocr (4.00~git2288-10f4998a-2) ...\n",
            "Processing triggers for man-db (2.8.3-2ubuntu0.1) ...\n",
            "Collecting pytesseract\n",
            "  Downloading https://files.pythonhosted.org/packages/a0/e6/a4e9fc8a93c1318540e8de6d8d4beb5749b7960388a7c7f27799fc2dd016/pytesseract-0.3.7.tar.gz\n",
            "Requirement already satisfied: Pillow in /usr/local/lib/python3.7/dist-packages (from pytesseract) (7.1.2)\n",
            "Building wheels for collected packages: pytesseract\n",
            "  Building wheel for pytesseract (setup.py) ... \u001b[?25l\u001b[?25hdone\n",
            "  Created wheel for pytesseract: filename=pytesseract-0.3.7-py2.py3-none-any.whl size=13953 sha256=55fce112ce2055f528b2cf45252db4987f5b0d5a4931f3cf5b6b88ee6743bd9c\n",
            "  Stored in directory: /root/.cache/pip/wheels/81/20/7e/1dd0daad1575d5260916bb1e9781246430647adaef4b3ca3b3\n",
            "Successfully built pytesseract\n",
            "Installing collected packages: pytesseract\n",
            "Successfully installed pytesseract-0.3.7\n"
          ],
          "name": "stdout"
        }
      ]
    },
    {
      "cell_type": "code",
      "metadata": {
        "id": "Wvs4CtfYxn6g",
        "colab": {
          "base_uri": "https://localhost:8080/"
        },
        "outputId": "bca37541-2c9a-4aef-859c-ef101da64812"
      },
      "source": [
        "!apt install subversion"
      ],
      "execution_count": null,
      "outputs": [
        {
          "output_type": "stream",
          "text": [
            "Reading package lists... Done\n",
            "Building dependency tree       \n",
            "Reading state information... Done\n",
            "The following additional packages will be installed:\n",
            "  libapr1 libaprutil1 libserf-1-1 libsvn1\n",
            "Suggested packages:\n",
            "  db5.3-util libapache2-mod-svn subversion-tools\n",
            "The following NEW packages will be installed:\n",
            "  libapr1 libaprutil1 libserf-1-1 libsvn1 subversion\n",
            "0 upgraded, 5 newly installed, 0 to remove and 39 not upgraded.\n",
            "Need to get 2,237 kB of archives.\n",
            "After this operation, 9,910 kB of additional disk space will be used.\n",
            "Get:1 http://archive.ubuntu.com/ubuntu bionic/main amd64 libapr1 amd64 1.6.3-2 [90.9 kB]\n",
            "Get:2 http://archive.ubuntu.com/ubuntu bionic/main amd64 libaprutil1 amd64 1.6.1-2 [84.4 kB]\n",
            "Get:3 http://archive.ubuntu.com/ubuntu bionic/universe amd64 libserf-1-1 amd64 1.3.9-6 [44.4 kB]\n",
            "Get:4 http://archive.ubuntu.com/ubuntu bionic/universe amd64 libsvn1 amd64 1.9.7-4ubuntu1 [1,183 kB]\n",
            "Get:5 http://archive.ubuntu.com/ubuntu bionic/universe amd64 subversion amd64 1.9.7-4ubuntu1 [834 kB]\n",
            "Fetched 2,237 kB in 1s (2,277 kB/s)\n",
            "Selecting previously unselected package libapr1:amd64.\n",
            "(Reading database ... 160819 files and directories currently installed.)\n",
            "Preparing to unpack .../libapr1_1.6.3-2_amd64.deb ...\n",
            "Unpacking libapr1:amd64 (1.6.3-2) ...\n",
            "Selecting previously unselected package libaprutil1:amd64.\n",
            "Preparing to unpack .../libaprutil1_1.6.1-2_amd64.deb ...\n",
            "Unpacking libaprutil1:amd64 (1.6.1-2) ...\n",
            "Selecting previously unselected package libserf-1-1:amd64.\n",
            "Preparing to unpack .../libserf-1-1_1.3.9-6_amd64.deb ...\n",
            "Unpacking libserf-1-1:amd64 (1.3.9-6) ...\n",
            "Selecting previously unselected package libsvn1:amd64.\n",
            "Preparing to unpack .../libsvn1_1.9.7-4ubuntu1_amd64.deb ...\n",
            "Unpacking libsvn1:amd64 (1.9.7-4ubuntu1) ...\n",
            "Selecting previously unselected package subversion.\n",
            "Preparing to unpack .../subversion_1.9.7-4ubuntu1_amd64.deb ...\n",
            "Unpacking subversion (1.9.7-4ubuntu1) ...\n",
            "Setting up libapr1:amd64 (1.6.3-2) ...\n",
            "Setting up libaprutil1:amd64 (1.6.1-2) ...\n",
            "Setting up libserf-1-1:amd64 (1.3.9-6) ...\n",
            "Setting up libsvn1:amd64 (1.9.7-4ubuntu1) ...\n",
            "Setting up subversion (1.9.7-4ubuntu1) ...\n",
            "Processing triggers for libc-bin (2.27-3ubuntu1.2) ...\n",
            "/sbin/ldconfig.real: /usr/local/lib/python3.7/dist-packages/ideep4py/lib/libmkldnn.so.0 is not a symbolic link\n",
            "\n",
            "Processing triggers for man-db (2.8.3-2ubuntu0.1) ...\n"
          ],
          "name": "stdout"
        }
      ]
    },
    {
      "cell_type": "code",
      "metadata": {
        "colab": {
          "base_uri": "https://localhost:8080/"
        },
        "id": "gGWZ0mFu2fo3",
        "outputId": "fc8f3bac-f13d-4c2e-83c0-0813c139ef24"
      },
      "source": [
        "!pip install tfkerassurgeon"
      ],
      "execution_count": null,
      "outputs": [
        {
          "output_type": "stream",
          "text": [
            "Collecting tfkerassurgeon\n",
            "  Downloading https://files.pythonhosted.org/packages/10/a1/3d4cd1b8d8c9289cb26e2c568493d40c1b6b15a35a54a8ed96a4c5c7f5ba/tfkerassurgeon-0.2.1.tar.gz\n",
            "Building wheels for collected packages: tfkerassurgeon\n",
            "  Building wheel for tfkerassurgeon (setup.py) ... \u001b[?25l\u001b[?25hdone\n",
            "  Created wheel for tfkerassurgeon: filename=tfkerassurgeon-0.2.1-cp37-none-any.whl size=22040 sha256=b53c36309f87f2a90ebe87703b5b08342e7addf1f4e5413fcb907dee7571f86c\n",
            "  Stored in directory: /root/.cache/pip/wheels/33/41/28/daca963a6834fecf8cd9a3b207288ba325fdf012a7ebd95715\n",
            "Successfully built tfkerassurgeon\n",
            "Installing collected packages: tfkerassurgeon\n",
            "Successfully installed tfkerassurgeon-0.2.1\n"
          ],
          "name": "stdout"
        }
      ]
    },
    {
      "cell_type": "code",
      "metadata": {
        "id": "wUKu_dlL30uY",
        "colab": {
          "base_uri": "https://localhost:8080/"
        },
        "outputId": "a31bb8f2-aa0d-4289-a388-423bef2254ab"
      },
      "source": [
        "import tensorflow as tf\n",
        "from tensorflow import lite\n",
        "from tensorflow.keras.models import load_model\n",
        "from sklearn.model_selection import train_test_split\n",
        "\n",
        "import numpy as np\n",
        "import pandas as pd\n",
        "import matplotlib.pyplot as plt\n",
        "%matplotlib inline\n",
        "\n",
        "import re\n",
        "import string\n",
        "import csv\n",
        "import warnings\n",
        "warnings.filterwarnings('ignore')\n",
        "\n",
        "import pytesseract\n",
        "import shutil\n",
        "import os\n",
        "import random\n",
        "try:\n",
        "  from PIL import Image\n",
        "except ImportError:\n",
        "  import Image\n",
        "\n",
        "print(tf.__version__)"
      ],
      "execution_count": null,
      "outputs": [
        {
          "output_type": "stream",
          "text": [
            "2.5.0\n"
          ],
          "name": "stdout"
        }
      ]
    },
    {
      "cell_type": "markdown",
      "metadata": {
        "id": "6SoCN5ef84le"
      },
      "source": [
        "# Get Data"
      ]
    },
    {
      "cell_type": "code",
      "metadata": {
        "id": "yvVysfKmxaD3",
        "colab": {
          "base_uri": "https://localhost:8080/"
        },
        "outputId": "d7e64d4f-5aff-4eda-b3b0-128a0d51936c"
      },
      "source": [
        "# Upload your kaggle.json to colab main directory\n",
        "! chmod 600 kaggle.json && (ls ~/.kaggle 2>/dev/null || mkdir ~/.kaggle) && mv kaggle.json ~/.kaggle/ && echo 'Done'"
      ],
      "execution_count": null,
      "outputs": [
        {
          "output_type": "stream",
          "text": [
            "Done\n"
          ],
          "name": "stdout"
        }
      ]
    },
    {
      "cell_type": "code",
      "metadata": {
        "id": "7SzFCo6x3PI9",
        "colab": {
          "base_uri": "https://localhost:8080/"
        },
        "outputId": "d266d5e2-2acb-469c-97fa-1042d111577c"
      },
      "source": [
        "!kaggle datasets download arashnic/book-recommendation-dataset\n",
        "!unzip -o book-recommendation-dataset.zip\n",
        "!ls"
      ],
      "execution_count": null,
      "outputs": [
        {
          "output_type": "stream",
          "text": [
            "Downloading book-recommendation-dataset.zip to /content\n",
            " 55% 13.0M/23.8M [00:00<00:00, 131MB/s]\n",
            "100% 23.8M/23.8M [00:00<00:00, 152MB/s]\n",
            "Archive:  book-recommendation-dataset.zip\n",
            "  inflating: Books.csv               \n",
            "  inflating: Ratings.csv             \n",
            "  inflating: Users.csv               \n",
            "book-recommendation-dataset.zip  Ratings.csv\t      sample_data\n",
            "Books.csv\t\t\t regression_model.h5  Users.csv\n"
          ],
          "name": "stdout"
        }
      ]
    },
    {
      "cell_type": "code",
      "metadata": {
        "id": "pRXql36R1Oh3",
        "colab": {
          "base_uri": "https://localhost:8080/"
        },
        "outputId": "5ec19f7f-61b1-48d8-f26d-9550f24679c5"
      },
      "source": [
        "!svn checkout https://github.com/Turing-Team-B21-CAP0257/ML/trunk/ImageTest"
      ],
      "execution_count": null,
      "outputs": [
        {
          "output_type": "stream",
          "text": [
            "A    ImageTest/CM-1.jpg\n",
            "A    ImageTest/CM-2.jpg\n",
            "A    ImageTest/CM-3.jpg\n",
            "A    ImageTest/CM-4.jpg\n",
            "A    ImageTest/DN-1.jpg\n",
            "A    ImageTest/DN-2.jpg\n",
            "A    ImageTest/DN-3.jpg\n",
            "A    ImageTest/GM-1.jpg\n",
            "A    ImageTest/GM-2.jpg\n",
            "A    ImageTest/H-1.jpeg\n",
            "A    ImageTest/H-2.jpg\n",
            "A    ImageTest/LV-1.jpg\n",
            "A    ImageTest/LV-2.jpg\n",
            "A    ImageTest/TDO.jpg\n",
            "A    ImageTest/WTD-1.jpg\n",
            "A    ImageTest/WTD-2.jpg\n",
            "A    ImageTest/WTD-3.jpg\n",
            "Checked out revision 5.\n"
          ],
          "name": "stdout"
        }
      ]
    },
    {
      "cell_type": "markdown",
      "metadata": {
        "id": "2SXum7Hi3GGY"
      },
      "source": [
        "# Preprocessing"
      ]
    },
    {
      "cell_type": "code",
      "metadata": {
        "id": "1BIS364808OT"
      },
      "source": [
        "# fix column name\n",
        "def columnfix(columnlist):\n",
        "  columnlist = list(columnlist)\n",
        "  for i in range(len(columnlist)):\n",
        "    columnlist[i] = columnlist[i].lower()\n",
        "    columnlist[i] = columnlist[i].translate(str.maketrans(\"\",\"\",string.punctuation))\n",
        "\n",
        "  return columnlist"
      ],
      "execution_count": null,
      "outputs": []
    },
    {
      "cell_type": "markdown",
      "metadata": {
        "id": "xbJv1vGw2Ha2"
      },
      "source": [
        "### Rating Section"
      ]
    },
    {
      "cell_type": "code",
      "metadata": {
        "id": "mJnI7QstDxv4",
        "colab": {
          "base_uri": "https://localhost:8080/",
          "height": 419
        },
        "outputId": "55d3137b-c322-4e21-b3e7-c9692f894209"
      },
      "source": [
        "df_rate = pd.read_csv('Ratings.csv')\n",
        "df_rate.columns = columnfix(df_rate.columns)   # fix column name\n",
        "df_rate"
      ],
      "execution_count": null,
      "outputs": [
        {
          "output_type": "execute_result",
          "data": {
            "text/html": [
              "<div>\n",
              "<style scoped>\n",
              "    .dataframe tbody tr th:only-of-type {\n",
              "        vertical-align: middle;\n",
              "    }\n",
              "\n",
              "    .dataframe tbody tr th {\n",
              "        vertical-align: top;\n",
              "    }\n",
              "\n",
              "    .dataframe thead th {\n",
              "        text-align: right;\n",
              "    }\n",
              "</style>\n",
              "<table border=\"1\" class=\"dataframe\">\n",
              "  <thead>\n",
              "    <tr style=\"text-align: right;\">\n",
              "      <th></th>\n",
              "      <th>userid</th>\n",
              "      <th>isbn</th>\n",
              "      <th>bookrating</th>\n",
              "    </tr>\n",
              "  </thead>\n",
              "  <tbody>\n",
              "    <tr>\n",
              "      <th>0</th>\n",
              "      <td>276725</td>\n",
              "      <td>034545104X</td>\n",
              "      <td>0</td>\n",
              "    </tr>\n",
              "    <tr>\n",
              "      <th>1</th>\n",
              "      <td>276726</td>\n",
              "      <td>0155061224</td>\n",
              "      <td>5</td>\n",
              "    </tr>\n",
              "    <tr>\n",
              "      <th>2</th>\n",
              "      <td>276727</td>\n",
              "      <td>0446520802</td>\n",
              "      <td>0</td>\n",
              "    </tr>\n",
              "    <tr>\n",
              "      <th>3</th>\n",
              "      <td>276729</td>\n",
              "      <td>052165615X</td>\n",
              "      <td>3</td>\n",
              "    </tr>\n",
              "    <tr>\n",
              "      <th>4</th>\n",
              "      <td>276729</td>\n",
              "      <td>0521795028</td>\n",
              "      <td>6</td>\n",
              "    </tr>\n",
              "    <tr>\n",
              "      <th>...</th>\n",
              "      <td>...</td>\n",
              "      <td>...</td>\n",
              "      <td>...</td>\n",
              "    </tr>\n",
              "    <tr>\n",
              "      <th>1149775</th>\n",
              "      <td>276704</td>\n",
              "      <td>1563526298</td>\n",
              "      <td>9</td>\n",
              "    </tr>\n",
              "    <tr>\n",
              "      <th>1149776</th>\n",
              "      <td>276706</td>\n",
              "      <td>0679447156</td>\n",
              "      <td>0</td>\n",
              "    </tr>\n",
              "    <tr>\n",
              "      <th>1149777</th>\n",
              "      <td>276709</td>\n",
              "      <td>0515107662</td>\n",
              "      <td>10</td>\n",
              "    </tr>\n",
              "    <tr>\n",
              "      <th>1149778</th>\n",
              "      <td>276721</td>\n",
              "      <td>0590442449</td>\n",
              "      <td>10</td>\n",
              "    </tr>\n",
              "    <tr>\n",
              "      <th>1149779</th>\n",
              "      <td>276723</td>\n",
              "      <td>05162443314</td>\n",
              "      <td>8</td>\n",
              "    </tr>\n",
              "  </tbody>\n",
              "</table>\n",
              "<p>1149780 rows × 3 columns</p>\n",
              "</div>"
            ],
            "text/plain": [
              "         userid         isbn  bookrating\n",
              "0        276725   034545104X           0\n",
              "1        276726   0155061224           5\n",
              "2        276727   0446520802           0\n",
              "3        276729   052165615X           3\n",
              "4        276729   0521795028           6\n",
              "...         ...          ...         ...\n",
              "1149775  276704   1563526298           9\n",
              "1149776  276706   0679447156           0\n",
              "1149777  276709   0515107662          10\n",
              "1149778  276721   0590442449          10\n",
              "1149779  276723  05162443314           8\n",
              "\n",
              "[1149780 rows x 3 columns]"
            ]
          },
          "metadata": {
            "tags": []
          },
          "execution_count": 11
        }
      ]
    },
    {
      "cell_type": "code",
      "metadata": {
        "id": "WXjrRviT1D_n",
        "colab": {
          "base_uri": "https://localhost:8080/",
          "height": 450
        },
        "outputId": "a03f6a2a-226f-4321-ddba-171ceff68173"
      },
      "source": [
        "newrate = df_rate.groupby('isbn').agg(         # Create new dataframe group by isbn and have column from mean rating\n",
        "  rating=(\"bookrating\", \"mean\")\n",
        ")\n",
        "\n",
        "# newrate.reset_index(inplace=True)\n",
        "newrate"
      ],
      "execution_count": null,
      "outputs": [
        {
          "output_type": "execute_result",
          "data": {
            "text/html": [
              "<div>\n",
              "<style scoped>\n",
              "    .dataframe tbody tr th:only-of-type {\n",
              "        vertical-align: middle;\n",
              "    }\n",
              "\n",
              "    .dataframe tbody tr th {\n",
              "        vertical-align: top;\n",
              "    }\n",
              "\n",
              "    .dataframe thead th {\n",
              "        text-align: right;\n",
              "    }\n",
              "</style>\n",
              "<table border=\"1\" class=\"dataframe\">\n",
              "  <thead>\n",
              "    <tr style=\"text-align: right;\">\n",
              "      <th></th>\n",
              "      <th>rating</th>\n",
              "    </tr>\n",
              "    <tr>\n",
              "      <th>isbn</th>\n",
              "      <th></th>\n",
              "    </tr>\n",
              "  </thead>\n",
              "  <tbody>\n",
              "    <tr>\n",
              "      <th>0330299891</th>\n",
              "      <td>3.0</td>\n",
              "    </tr>\n",
              "    <tr>\n",
              "      <th>0375404120</th>\n",
              "      <td>1.5</td>\n",
              "    </tr>\n",
              "    <tr>\n",
              "      <th>0586045007</th>\n",
              "      <td>0.0</td>\n",
              "    </tr>\n",
              "    <tr>\n",
              "      <th>9022906116</th>\n",
              "      <td>3.5</td>\n",
              "    </tr>\n",
              "    <tr>\n",
              "      <th>9032803328</th>\n",
              "      <td>0.0</td>\n",
              "    </tr>\n",
              "    <tr>\n",
              "      <th>...</th>\n",
              "      <td>...</td>\n",
              "    </tr>\n",
              "    <tr>\n",
              "      <th>cn113107</th>\n",
              "      <td>0.0</td>\n",
              "    </tr>\n",
              "    <tr>\n",
              "      <th>ooo7156103</th>\n",
              "      <td>7.0</td>\n",
              "    </tr>\n",
              "    <tr>\n",
              "      <th>§423350229</th>\n",
              "      <td>0.0</td>\n",
              "    </tr>\n",
              "    <tr>\n",
              "      <th>´3499128624</th>\n",
              "      <td>8.0</td>\n",
              "    </tr>\n",
              "    <tr>\n",
              "      <th>Ô½crosoft</th>\n",
              "      <td>7.0</td>\n",
              "    </tr>\n",
              "  </tbody>\n",
              "</table>\n",
              "<p>340556 rows × 1 columns</p>\n",
              "</div>"
            ],
            "text/plain": [
              "             rating\n",
              "isbn               \n",
              " 0330299891     3.0\n",
              " 0375404120     1.5\n",
              " 0586045007     0.0\n",
              " 9022906116     3.5\n",
              " 9032803328     0.0\n",
              "...             ...\n",
              "cn113107        0.0\n",
              "ooo7156103      7.0\n",
              "§423350229      0.0\n",
              "´3499128624     8.0\n",
              "Ô½crosoft       7.0\n",
              "\n",
              "[340556 rows x 1 columns]"
            ]
          },
          "metadata": {
            "tags": []
          },
          "execution_count": 12
        }
      ]
    },
    {
      "cell_type": "markdown",
      "metadata": {
        "id": "M9dOdijk2MTK"
      },
      "source": [
        "### Book Section"
      ]
    },
    {
      "cell_type": "code",
      "metadata": {
        "id": "wXzAhXGp6Q72",
        "colab": {
          "base_uri": "https://localhost:8080/",
          "height": 428
        },
        "outputId": "c9021e20-500f-47b5-cc77-9be41535b737"
      },
      "source": [
        "df_book = pd.read_csv('Books.csv')\n",
        "df_book.head()"
      ],
      "execution_count": null,
      "outputs": [
        {
          "output_type": "execute_result",
          "data": {
            "text/html": [
              "<div>\n",
              "<style scoped>\n",
              "    .dataframe tbody tr th:only-of-type {\n",
              "        vertical-align: middle;\n",
              "    }\n",
              "\n",
              "    .dataframe tbody tr th {\n",
              "        vertical-align: top;\n",
              "    }\n",
              "\n",
              "    .dataframe thead th {\n",
              "        text-align: right;\n",
              "    }\n",
              "</style>\n",
              "<table border=\"1\" class=\"dataframe\">\n",
              "  <thead>\n",
              "    <tr style=\"text-align: right;\">\n",
              "      <th></th>\n",
              "      <th>ISBN</th>\n",
              "      <th>Book-Title</th>\n",
              "      <th>Book-Author</th>\n",
              "      <th>Year-Of-Publication</th>\n",
              "      <th>Publisher</th>\n",
              "      <th>Image-URL-S</th>\n",
              "      <th>Image-URL-M</th>\n",
              "      <th>Image-URL-L</th>\n",
              "    </tr>\n",
              "  </thead>\n",
              "  <tbody>\n",
              "    <tr>\n",
              "      <th>0</th>\n",
              "      <td>0195153448</td>\n",
              "      <td>Classical Mythology</td>\n",
              "      <td>Mark P. O. Morford</td>\n",
              "      <td>2002</td>\n",
              "      <td>Oxford University Press</td>\n",
              "      <td>http://images.amazon.com/images/P/0195153448.0...</td>\n",
              "      <td>http://images.amazon.com/images/P/0195153448.0...</td>\n",
              "      <td>http://images.amazon.com/images/P/0195153448.0...</td>\n",
              "    </tr>\n",
              "    <tr>\n",
              "      <th>1</th>\n",
              "      <td>0002005018</td>\n",
              "      <td>Clara Callan</td>\n",
              "      <td>Richard Bruce Wright</td>\n",
              "      <td>2001</td>\n",
              "      <td>HarperFlamingo Canada</td>\n",
              "      <td>http://images.amazon.com/images/P/0002005018.0...</td>\n",
              "      <td>http://images.amazon.com/images/P/0002005018.0...</td>\n",
              "      <td>http://images.amazon.com/images/P/0002005018.0...</td>\n",
              "    </tr>\n",
              "    <tr>\n",
              "      <th>2</th>\n",
              "      <td>0060973129</td>\n",
              "      <td>Decision in Normandy</td>\n",
              "      <td>Carlo D'Este</td>\n",
              "      <td>1991</td>\n",
              "      <td>HarperPerennial</td>\n",
              "      <td>http://images.amazon.com/images/P/0060973129.0...</td>\n",
              "      <td>http://images.amazon.com/images/P/0060973129.0...</td>\n",
              "      <td>http://images.amazon.com/images/P/0060973129.0...</td>\n",
              "    </tr>\n",
              "    <tr>\n",
              "      <th>3</th>\n",
              "      <td>0374157065</td>\n",
              "      <td>Flu: The Story of the Great Influenza Pandemic...</td>\n",
              "      <td>Gina Bari Kolata</td>\n",
              "      <td>1999</td>\n",
              "      <td>Farrar Straus Giroux</td>\n",
              "      <td>http://images.amazon.com/images/P/0374157065.0...</td>\n",
              "      <td>http://images.amazon.com/images/P/0374157065.0...</td>\n",
              "      <td>http://images.amazon.com/images/P/0374157065.0...</td>\n",
              "    </tr>\n",
              "    <tr>\n",
              "      <th>4</th>\n",
              "      <td>0393045218</td>\n",
              "      <td>The Mummies of Urumchi</td>\n",
              "      <td>E. J. W. Barber</td>\n",
              "      <td>1999</td>\n",
              "      <td>W. W. Norton &amp;amp; Company</td>\n",
              "      <td>http://images.amazon.com/images/P/0393045218.0...</td>\n",
              "      <td>http://images.amazon.com/images/P/0393045218.0...</td>\n",
              "      <td>http://images.amazon.com/images/P/0393045218.0...</td>\n",
              "    </tr>\n",
              "  </tbody>\n",
              "</table>\n",
              "</div>"
            ],
            "text/plain": [
              "         ISBN  ...                                        Image-URL-L\n",
              "0  0195153448  ...  http://images.amazon.com/images/P/0195153448.0...\n",
              "1  0002005018  ...  http://images.amazon.com/images/P/0002005018.0...\n",
              "2  0060973129  ...  http://images.amazon.com/images/P/0060973129.0...\n",
              "3  0374157065  ...  http://images.amazon.com/images/P/0374157065.0...\n",
              "4  0393045218  ...  http://images.amazon.com/images/P/0393045218.0...\n",
              "\n",
              "[5 rows x 8 columns]"
            ]
          },
          "metadata": {
            "tags": []
          },
          "execution_count": 13
        }
      ]
    },
    {
      "cell_type": "code",
      "metadata": {
        "id": "IlkhYrHN3Q69",
        "colab": {
          "base_uri": "https://localhost:8080/",
          "height": 864
        },
        "outputId": "61aa27a9-1d7c-484a-e765-8cffb5ec987e"
      },
      "source": [
        "df_book.columns = columnfix(df_book.columns)                  # fix column name\n",
        "\n",
        "df_book = df_book.join(newrate, on=\"isbn\")                    # join df_book with newrate\n",
        "\n",
        "df_book['rating'] = df_book['rating'].fillna(0)               # fill NaN rating with 0\n",
        "\n",
        "df_book = df_book[df_book['booktitle'].notna()]               # remove data with NaN book title\n",
        "\n",
        "df_book.insert(loc=0, column='bookid', value=df_book.index)   # add bookid in first column\n",
        "\n",
        "df_book = df_book.replace(\",\", \"\", regex=True)                # remove comma\n",
        "\n",
        "df_book"
      ],
      "execution_count": null,
      "outputs": [
        {
          "output_type": "execute_result",
          "data": {
            "text/html": [
              "<div>\n",
              "<style scoped>\n",
              "    .dataframe tbody tr th:only-of-type {\n",
              "        vertical-align: middle;\n",
              "    }\n",
              "\n",
              "    .dataframe tbody tr th {\n",
              "        vertical-align: top;\n",
              "    }\n",
              "\n",
              "    .dataframe thead th {\n",
              "        text-align: right;\n",
              "    }\n",
              "</style>\n",
              "<table border=\"1\" class=\"dataframe\">\n",
              "  <thead>\n",
              "    <tr style=\"text-align: right;\">\n",
              "      <th></th>\n",
              "      <th>bookid</th>\n",
              "      <th>isbn</th>\n",
              "      <th>booktitle</th>\n",
              "      <th>bookauthor</th>\n",
              "      <th>yearofpublication</th>\n",
              "      <th>publisher</th>\n",
              "      <th>imageurls</th>\n",
              "      <th>imageurlm</th>\n",
              "      <th>imageurll</th>\n",
              "      <th>rating</th>\n",
              "    </tr>\n",
              "  </thead>\n",
              "  <tbody>\n",
              "    <tr>\n",
              "      <th>0</th>\n",
              "      <td>0</td>\n",
              "      <td>0195153448</td>\n",
              "      <td>Classical Mythology</td>\n",
              "      <td>Mark P. O. Morford</td>\n",
              "      <td>2002</td>\n",
              "      <td>Oxford University Press</td>\n",
              "      <td>http://images.amazon.com/images/P/0195153448.0...</td>\n",
              "      <td>http://images.amazon.com/images/P/0195153448.0...</td>\n",
              "      <td>http://images.amazon.com/images/P/0195153448.0...</td>\n",
              "      <td>0.000000</td>\n",
              "    </tr>\n",
              "    <tr>\n",
              "      <th>1</th>\n",
              "      <td>1</td>\n",
              "      <td>0002005018</td>\n",
              "      <td>Clara Callan</td>\n",
              "      <td>Richard Bruce Wright</td>\n",
              "      <td>2001</td>\n",
              "      <td>HarperFlamingo Canada</td>\n",
              "      <td>http://images.amazon.com/images/P/0002005018.0...</td>\n",
              "      <td>http://images.amazon.com/images/P/0002005018.0...</td>\n",
              "      <td>http://images.amazon.com/images/P/0002005018.0...</td>\n",
              "      <td>4.928571</td>\n",
              "    </tr>\n",
              "    <tr>\n",
              "      <th>2</th>\n",
              "      <td>2</td>\n",
              "      <td>0060973129</td>\n",
              "      <td>Decision in Normandy</td>\n",
              "      <td>Carlo D'Este</td>\n",
              "      <td>1991</td>\n",
              "      <td>HarperPerennial</td>\n",
              "      <td>http://images.amazon.com/images/P/0060973129.0...</td>\n",
              "      <td>http://images.amazon.com/images/P/0060973129.0...</td>\n",
              "      <td>http://images.amazon.com/images/P/0060973129.0...</td>\n",
              "      <td>5.000000</td>\n",
              "    </tr>\n",
              "    <tr>\n",
              "      <th>3</th>\n",
              "      <td>3</td>\n",
              "      <td>0374157065</td>\n",
              "      <td>Flu: The Story of the Great Influenza Pandemic...</td>\n",
              "      <td>Gina Bari Kolata</td>\n",
              "      <td>1999</td>\n",
              "      <td>Farrar Straus Giroux</td>\n",
              "      <td>http://images.amazon.com/images/P/0374157065.0...</td>\n",
              "      <td>http://images.amazon.com/images/P/0374157065.0...</td>\n",
              "      <td>http://images.amazon.com/images/P/0374157065.0...</td>\n",
              "      <td>4.272727</td>\n",
              "    </tr>\n",
              "    <tr>\n",
              "      <th>4</th>\n",
              "      <td>4</td>\n",
              "      <td>0393045218</td>\n",
              "      <td>The Mummies of Urumchi</td>\n",
              "      <td>E. J. W. Barber</td>\n",
              "      <td>1999</td>\n",
              "      <td>W. W. Norton &amp;amp; Company</td>\n",
              "      <td>http://images.amazon.com/images/P/0393045218.0...</td>\n",
              "      <td>http://images.amazon.com/images/P/0393045218.0...</td>\n",
              "      <td>http://images.amazon.com/images/P/0393045218.0...</td>\n",
              "      <td>0.000000</td>\n",
              "    </tr>\n",
              "    <tr>\n",
              "      <th>...</th>\n",
              "      <td>...</td>\n",
              "      <td>...</td>\n",
              "      <td>...</td>\n",
              "      <td>...</td>\n",
              "      <td>...</td>\n",
              "      <td>...</td>\n",
              "      <td>...</td>\n",
              "      <td>...</td>\n",
              "      <td>...</td>\n",
              "      <td>...</td>\n",
              "    </tr>\n",
              "    <tr>\n",
              "      <th>271355</th>\n",
              "      <td>271355</td>\n",
              "      <td>0440400988</td>\n",
              "      <td>There's a Bat in Bunk Five</td>\n",
              "      <td>Paula Danziger</td>\n",
              "      <td>1988</td>\n",
              "      <td>Random House Childrens Pub (Mm)</td>\n",
              "      <td>http://images.amazon.com/images/P/0440400988.0...</td>\n",
              "      <td>http://images.amazon.com/images/P/0440400988.0...</td>\n",
              "      <td>http://images.amazon.com/images/P/0440400988.0...</td>\n",
              "      <td>7.000000</td>\n",
              "    </tr>\n",
              "    <tr>\n",
              "      <th>271356</th>\n",
              "      <td>271356</td>\n",
              "      <td>0525447644</td>\n",
              "      <td>From One to One Hundred</td>\n",
              "      <td>Teri Sloat</td>\n",
              "      <td>1991</td>\n",
              "      <td>Dutton Books</td>\n",
              "      <td>http://images.amazon.com/images/P/0525447644.0...</td>\n",
              "      <td>http://images.amazon.com/images/P/0525447644.0...</td>\n",
              "      <td>http://images.amazon.com/images/P/0525447644.0...</td>\n",
              "      <td>4.000000</td>\n",
              "    </tr>\n",
              "    <tr>\n",
              "      <th>271357</th>\n",
              "      <td>271357</td>\n",
              "      <td>006008667X</td>\n",
              "      <td>Lily Dale : The True Story of the Town that Ta...</td>\n",
              "      <td>Christine Wicker</td>\n",
              "      <td>2004</td>\n",
              "      <td>HarperSanFrancisco</td>\n",
              "      <td>http://images.amazon.com/images/P/006008667X.0...</td>\n",
              "      <td>http://images.amazon.com/images/P/006008667X.0...</td>\n",
              "      <td>http://images.amazon.com/images/P/006008667X.0...</td>\n",
              "      <td>0.000000</td>\n",
              "    </tr>\n",
              "    <tr>\n",
              "      <th>271358</th>\n",
              "      <td>271358</td>\n",
              "      <td>0192126040</td>\n",
              "      <td>Republic (World's Classics)</td>\n",
              "      <td>Plato</td>\n",
              "      <td>1996</td>\n",
              "      <td>Oxford University Press</td>\n",
              "      <td>http://images.amazon.com/images/P/0192126040.0...</td>\n",
              "      <td>http://images.amazon.com/images/P/0192126040.0...</td>\n",
              "      <td>http://images.amazon.com/images/P/0192126040.0...</td>\n",
              "      <td>0.000000</td>\n",
              "    </tr>\n",
              "    <tr>\n",
              "      <th>271359</th>\n",
              "      <td>271359</td>\n",
              "      <td>0767409752</td>\n",
              "      <td>A Guided Tour of Rene Descartes' Meditations o...</td>\n",
              "      <td>Christopher  Biffle</td>\n",
              "      <td>2000</td>\n",
              "      <td>McGraw-Hill Humanities/Social Sciences/Languages</td>\n",
              "      <td>http://images.amazon.com/images/P/0767409752.0...</td>\n",
              "      <td>http://images.amazon.com/images/P/0767409752.0...</td>\n",
              "      <td>http://images.amazon.com/images/P/0767409752.0...</td>\n",
              "      <td>0.000000</td>\n",
              "    </tr>\n",
              "  </tbody>\n",
              "</table>\n",
              "<p>271360 rows × 10 columns</p>\n",
              "</div>"
            ],
            "text/plain": [
              "        bookid  ...    rating\n",
              "0            0  ...  0.000000\n",
              "1            1  ...  4.928571\n",
              "2            2  ...  5.000000\n",
              "3            3  ...  4.272727\n",
              "4            4  ...  0.000000\n",
              "...        ...  ...       ...\n",
              "271355  271355  ...  7.000000\n",
              "271356  271356  ...  4.000000\n",
              "271357  271357  ...  0.000000\n",
              "271358  271358  ...  0.000000\n",
              "271359  271359  ...  0.000000\n",
              "\n",
              "[271360 rows x 10 columns]"
            ]
          },
          "metadata": {
            "tags": []
          },
          "execution_count": 14
        }
      ]
    },
    {
      "cell_type": "code",
      "metadata": {
        "id": "d0vBbit4353m"
      },
      "source": [
        "df_book.to_csv('newbook.csv', index=False, quoting=csv.QUOTE_NONNUMERIC)"
      ],
      "execution_count": null,
      "outputs": []
    },
    {
      "cell_type": "markdown",
      "metadata": {
        "id": "GCFZhQNN2SKr"
      },
      "source": [
        "### User Section"
      ]
    },
    {
      "cell_type": "code",
      "metadata": {
        "id": "LqQ45KXloFty",
        "colab": {
          "base_uri": "https://localhost:8080/",
          "height": 204
        },
        "outputId": "73c2ecad-3ada-4aba-aa33-b3c94f2afe9f"
      },
      "source": [
        "df_user = pd.read_csv('Users.csv')\n",
        "df_user.head()"
      ],
      "execution_count": null,
      "outputs": [
        {
          "output_type": "execute_result",
          "data": {
            "text/html": [
              "<div>\n",
              "<style scoped>\n",
              "    .dataframe tbody tr th:only-of-type {\n",
              "        vertical-align: middle;\n",
              "    }\n",
              "\n",
              "    .dataframe tbody tr th {\n",
              "        vertical-align: top;\n",
              "    }\n",
              "\n",
              "    .dataframe thead th {\n",
              "        text-align: right;\n",
              "    }\n",
              "</style>\n",
              "<table border=\"1\" class=\"dataframe\">\n",
              "  <thead>\n",
              "    <tr style=\"text-align: right;\">\n",
              "      <th></th>\n",
              "      <th>User-ID</th>\n",
              "      <th>Location</th>\n",
              "      <th>Age</th>\n",
              "    </tr>\n",
              "  </thead>\n",
              "  <tbody>\n",
              "    <tr>\n",
              "      <th>0</th>\n",
              "      <td>1</td>\n",
              "      <td>nyc, new york, usa</td>\n",
              "      <td>NaN</td>\n",
              "    </tr>\n",
              "    <tr>\n",
              "      <th>1</th>\n",
              "      <td>2</td>\n",
              "      <td>stockton, california, usa</td>\n",
              "      <td>18.0</td>\n",
              "    </tr>\n",
              "    <tr>\n",
              "      <th>2</th>\n",
              "      <td>3</td>\n",
              "      <td>moscow, yukon territory, russia</td>\n",
              "      <td>NaN</td>\n",
              "    </tr>\n",
              "    <tr>\n",
              "      <th>3</th>\n",
              "      <td>4</td>\n",
              "      <td>porto, v.n.gaia, portugal</td>\n",
              "      <td>17.0</td>\n",
              "    </tr>\n",
              "    <tr>\n",
              "      <th>4</th>\n",
              "      <td>5</td>\n",
              "      <td>farnborough, hants, united kingdom</td>\n",
              "      <td>NaN</td>\n",
              "    </tr>\n",
              "  </tbody>\n",
              "</table>\n",
              "</div>"
            ],
            "text/plain": [
              "   User-ID                            Location   Age\n",
              "0        1                  nyc, new york, usa   NaN\n",
              "1        2           stockton, california, usa  18.0\n",
              "2        3     moscow, yukon territory, russia   NaN\n",
              "3        4           porto, v.n.gaia, portugal  17.0\n",
              "4        5  farnborough, hants, united kingdom   NaN"
            ]
          },
          "metadata": {
            "tags": []
          },
          "execution_count": 16
        }
      ]
    },
    {
      "cell_type": "code",
      "metadata": {
        "id": "SZzucZDD6GzW",
        "colab": {
          "base_uri": "https://localhost:8080/",
          "height": 419
        },
        "outputId": "70a33a65-ec9f-4be7-b914-ef4c290486ca"
      },
      "source": [
        "df_user = df_user.fillna(0)                   # fill NaN age with zero\n",
        "\n",
        "df_user.columns = columnfix(df_user.columns)  # fix column name\n",
        "\n",
        "df_user"
      ],
      "execution_count": null,
      "outputs": [
        {
          "output_type": "execute_result",
          "data": {
            "text/html": [
              "<div>\n",
              "<style scoped>\n",
              "    .dataframe tbody tr th:only-of-type {\n",
              "        vertical-align: middle;\n",
              "    }\n",
              "\n",
              "    .dataframe tbody tr th {\n",
              "        vertical-align: top;\n",
              "    }\n",
              "\n",
              "    .dataframe thead th {\n",
              "        text-align: right;\n",
              "    }\n",
              "</style>\n",
              "<table border=\"1\" class=\"dataframe\">\n",
              "  <thead>\n",
              "    <tr style=\"text-align: right;\">\n",
              "      <th></th>\n",
              "      <th>userid</th>\n",
              "      <th>location</th>\n",
              "      <th>age</th>\n",
              "    </tr>\n",
              "  </thead>\n",
              "  <tbody>\n",
              "    <tr>\n",
              "      <th>0</th>\n",
              "      <td>1</td>\n",
              "      <td>nyc, new york, usa</td>\n",
              "      <td>0.0</td>\n",
              "    </tr>\n",
              "    <tr>\n",
              "      <th>1</th>\n",
              "      <td>2</td>\n",
              "      <td>stockton, california, usa</td>\n",
              "      <td>18.0</td>\n",
              "    </tr>\n",
              "    <tr>\n",
              "      <th>2</th>\n",
              "      <td>3</td>\n",
              "      <td>moscow, yukon territory, russia</td>\n",
              "      <td>0.0</td>\n",
              "    </tr>\n",
              "    <tr>\n",
              "      <th>3</th>\n",
              "      <td>4</td>\n",
              "      <td>porto, v.n.gaia, portugal</td>\n",
              "      <td>17.0</td>\n",
              "    </tr>\n",
              "    <tr>\n",
              "      <th>4</th>\n",
              "      <td>5</td>\n",
              "      <td>farnborough, hants, united kingdom</td>\n",
              "      <td>0.0</td>\n",
              "    </tr>\n",
              "    <tr>\n",
              "      <th>...</th>\n",
              "      <td>...</td>\n",
              "      <td>...</td>\n",
              "      <td>...</td>\n",
              "    </tr>\n",
              "    <tr>\n",
              "      <th>278853</th>\n",
              "      <td>278854</td>\n",
              "      <td>portland, oregon, usa</td>\n",
              "      <td>0.0</td>\n",
              "    </tr>\n",
              "    <tr>\n",
              "      <th>278854</th>\n",
              "      <td>278855</td>\n",
              "      <td>tacoma, washington, united kingdom</td>\n",
              "      <td>50.0</td>\n",
              "    </tr>\n",
              "    <tr>\n",
              "      <th>278855</th>\n",
              "      <td>278856</td>\n",
              "      <td>brampton, ontario, canada</td>\n",
              "      <td>0.0</td>\n",
              "    </tr>\n",
              "    <tr>\n",
              "      <th>278856</th>\n",
              "      <td>278857</td>\n",
              "      <td>knoxville, tennessee, usa</td>\n",
              "      <td>0.0</td>\n",
              "    </tr>\n",
              "    <tr>\n",
              "      <th>278857</th>\n",
              "      <td>278858</td>\n",
              "      <td>dublin, n/a, ireland</td>\n",
              "      <td>0.0</td>\n",
              "    </tr>\n",
              "  </tbody>\n",
              "</table>\n",
              "<p>278858 rows × 3 columns</p>\n",
              "</div>"
            ],
            "text/plain": [
              "        userid                            location   age\n",
              "0            1                  nyc, new york, usa   0.0\n",
              "1            2           stockton, california, usa  18.0\n",
              "2            3     moscow, yukon territory, russia   0.0\n",
              "3            4           porto, v.n.gaia, portugal  17.0\n",
              "4            5  farnborough, hants, united kingdom   0.0\n",
              "...        ...                                 ...   ...\n",
              "278853  278854               portland, oregon, usa   0.0\n",
              "278854  278855  tacoma, washington, united kingdom  50.0\n",
              "278855  278856           brampton, ontario, canada   0.0\n",
              "278856  278857           knoxville, tennessee, usa   0.0\n",
              "278857  278858                dublin, n/a, ireland   0.0\n",
              "\n",
              "[278858 rows x 3 columns]"
            ]
          },
          "metadata": {
            "tags": []
          },
          "execution_count": 17
        }
      ]
    },
    {
      "cell_type": "code",
      "metadata": {
        "id": "PgEVt_uC6_Da"
      },
      "source": [
        "df_user.to_csv('newuser.csv', index=False, quoting=csv.QUOTE_NONNUMERIC)"
      ],
      "execution_count": null,
      "outputs": []
    },
    {
      "cell_type": "markdown",
      "metadata": {
        "id": "HXNAvP7KLEUk"
      },
      "source": [
        "### Rating Section (2)"
      ]
    },
    {
      "cell_type": "code",
      "metadata": {
        "id": "tRSybkffLNyh",
        "colab": {
          "base_uri": "https://localhost:8080/",
          "height": 450
        },
        "outputId": "5138dd13-7894-4ca8-c181-941e8c9da6f2"
      },
      "source": [
        "df_isbn_id = df_book[[\"isbn\", \"bookid\"]].copy()\n",
        "df_isbn_id = df_isbn_id.set_index('isbn')\n",
        "df_isbn_id"
      ],
      "execution_count": null,
      "outputs": [
        {
          "output_type": "execute_result",
          "data": {
            "text/html": [
              "<div>\n",
              "<style scoped>\n",
              "    .dataframe tbody tr th:only-of-type {\n",
              "        vertical-align: middle;\n",
              "    }\n",
              "\n",
              "    .dataframe tbody tr th {\n",
              "        vertical-align: top;\n",
              "    }\n",
              "\n",
              "    .dataframe thead th {\n",
              "        text-align: right;\n",
              "    }\n",
              "</style>\n",
              "<table border=\"1\" class=\"dataframe\">\n",
              "  <thead>\n",
              "    <tr style=\"text-align: right;\">\n",
              "      <th></th>\n",
              "      <th>bookid</th>\n",
              "    </tr>\n",
              "    <tr>\n",
              "      <th>isbn</th>\n",
              "      <th></th>\n",
              "    </tr>\n",
              "  </thead>\n",
              "  <tbody>\n",
              "    <tr>\n",
              "      <th>0195153448</th>\n",
              "      <td>0</td>\n",
              "    </tr>\n",
              "    <tr>\n",
              "      <th>0002005018</th>\n",
              "      <td>1</td>\n",
              "    </tr>\n",
              "    <tr>\n",
              "      <th>0060973129</th>\n",
              "      <td>2</td>\n",
              "    </tr>\n",
              "    <tr>\n",
              "      <th>0374157065</th>\n",
              "      <td>3</td>\n",
              "    </tr>\n",
              "    <tr>\n",
              "      <th>0393045218</th>\n",
              "      <td>4</td>\n",
              "    </tr>\n",
              "    <tr>\n",
              "      <th>...</th>\n",
              "      <td>...</td>\n",
              "    </tr>\n",
              "    <tr>\n",
              "      <th>0440400988</th>\n",
              "      <td>271355</td>\n",
              "    </tr>\n",
              "    <tr>\n",
              "      <th>0525447644</th>\n",
              "      <td>271356</td>\n",
              "    </tr>\n",
              "    <tr>\n",
              "      <th>006008667X</th>\n",
              "      <td>271357</td>\n",
              "    </tr>\n",
              "    <tr>\n",
              "      <th>0192126040</th>\n",
              "      <td>271358</td>\n",
              "    </tr>\n",
              "    <tr>\n",
              "      <th>0767409752</th>\n",
              "      <td>271359</td>\n",
              "    </tr>\n",
              "  </tbody>\n",
              "</table>\n",
              "<p>271360 rows × 1 columns</p>\n",
              "</div>"
            ],
            "text/plain": [
              "            bookid\n",
              "isbn              \n",
              "0195153448       0\n",
              "0002005018       1\n",
              "0060973129       2\n",
              "0374157065       3\n",
              "0393045218       4\n",
              "...            ...\n",
              "0440400988  271355\n",
              "0525447644  271356\n",
              "006008667X  271357\n",
              "0192126040  271358\n",
              "0767409752  271359\n",
              "\n",
              "[271360 rows x 1 columns]"
            ]
          },
          "metadata": {
            "tags": []
          },
          "execution_count": 19
        }
      ]
    },
    {
      "cell_type": "code",
      "metadata": {
        "id": "1q89vtcNLUVi",
        "colab": {
          "base_uri": "https://localhost:8080/",
          "height": 419
        },
        "outputId": "820f807c-0273-4a74-da4e-edb9b7c06ce3"
      },
      "source": [
        "df_rate = df_rate.join(df_isbn_id, on=\"isbn\")\n",
        "df_rate = df_rate[df_rate['bookid'].notna()]\n",
        "df_rate['bookid'] = df_rate['bookid'].astype(int)\n",
        "df_rate"
      ],
      "execution_count": null,
      "outputs": [
        {
          "output_type": "execute_result",
          "data": {
            "text/html": [
              "<div>\n",
              "<style scoped>\n",
              "    .dataframe tbody tr th:only-of-type {\n",
              "        vertical-align: middle;\n",
              "    }\n",
              "\n",
              "    .dataframe tbody tr th {\n",
              "        vertical-align: top;\n",
              "    }\n",
              "\n",
              "    .dataframe thead th {\n",
              "        text-align: right;\n",
              "    }\n",
              "</style>\n",
              "<table border=\"1\" class=\"dataframe\">\n",
              "  <thead>\n",
              "    <tr style=\"text-align: right;\">\n",
              "      <th></th>\n",
              "      <th>userid</th>\n",
              "      <th>isbn</th>\n",
              "      <th>bookrating</th>\n",
              "      <th>bookid</th>\n",
              "    </tr>\n",
              "  </thead>\n",
              "  <tbody>\n",
              "    <tr>\n",
              "      <th>0</th>\n",
              "      <td>276725</td>\n",
              "      <td>034545104X</td>\n",
              "      <td>0</td>\n",
              "      <td>2966</td>\n",
              "    </tr>\n",
              "    <tr>\n",
              "      <th>1</th>\n",
              "      <td>276726</td>\n",
              "      <td>0155061224</td>\n",
              "      <td>5</td>\n",
              "      <td>225816</td>\n",
              "    </tr>\n",
              "    <tr>\n",
              "      <th>2</th>\n",
              "      <td>276727</td>\n",
              "      <td>0446520802</td>\n",
              "      <td>0</td>\n",
              "      <td>11053</td>\n",
              "    </tr>\n",
              "    <tr>\n",
              "      <th>3</th>\n",
              "      <td>276729</td>\n",
              "      <td>052165615X</td>\n",
              "      <td>3</td>\n",
              "      <td>246838</td>\n",
              "    </tr>\n",
              "    <tr>\n",
              "      <th>4</th>\n",
              "      <td>276729</td>\n",
              "      <td>0521795028</td>\n",
              "      <td>6</td>\n",
              "      <td>246839</td>\n",
              "    </tr>\n",
              "    <tr>\n",
              "      <th>...</th>\n",
              "      <td>...</td>\n",
              "      <td>...</td>\n",
              "      <td>...</td>\n",
              "      <td>...</td>\n",
              "    </tr>\n",
              "    <tr>\n",
              "      <th>1149774</th>\n",
              "      <td>276704</td>\n",
              "      <td>0876044011</td>\n",
              "      <td>0</td>\n",
              "      <td>69543</td>\n",
              "    </tr>\n",
              "    <tr>\n",
              "      <th>1149775</th>\n",
              "      <td>276704</td>\n",
              "      <td>1563526298</td>\n",
              "      <td>9</td>\n",
              "      <td>69544</td>\n",
              "    </tr>\n",
              "    <tr>\n",
              "      <th>1149776</th>\n",
              "      <td>276706</td>\n",
              "      <td>0679447156</td>\n",
              "      <td>0</td>\n",
              "      <td>52540</td>\n",
              "    </tr>\n",
              "    <tr>\n",
              "      <th>1149777</th>\n",
              "      <td>276709</td>\n",
              "      <td>0515107662</td>\n",
              "      <td>10</td>\n",
              "      <td>15978</td>\n",
              "    </tr>\n",
              "    <tr>\n",
              "      <th>1149778</th>\n",
              "      <td>276721</td>\n",
              "      <td>0590442449</td>\n",
              "      <td>10</td>\n",
              "      <td>56814</td>\n",
              "    </tr>\n",
              "  </tbody>\n",
              "</table>\n",
              "<p>1031136 rows × 4 columns</p>\n",
              "</div>"
            ],
            "text/plain": [
              "         userid        isbn  bookrating  bookid\n",
              "0        276725  034545104X           0    2966\n",
              "1        276726  0155061224           5  225816\n",
              "2        276727  0446520802           0   11053\n",
              "3        276729  052165615X           3  246838\n",
              "4        276729  0521795028           6  246839\n",
              "...         ...         ...         ...     ...\n",
              "1149774  276704  0876044011           0   69543\n",
              "1149775  276704  1563526298           9   69544\n",
              "1149776  276706  0679447156           0   52540\n",
              "1149777  276709  0515107662          10   15978\n",
              "1149778  276721  0590442449          10   56814\n",
              "\n",
              "[1031136 rows x 4 columns]"
            ]
          },
          "metadata": {
            "tags": []
          },
          "execution_count": 20
        }
      ]
    },
    {
      "cell_type": "code",
      "metadata": {
        "id": "ZRR8LGpIJhYB"
      },
      "source": [
        "df_rate.to_csv('newrating.csv', index=False, quoting=csv.QUOTE_NONNUMERIC)"
      ],
      "execution_count": null,
      "outputs": []
    },
    {
      "cell_type": "markdown",
      "metadata": {
        "id": "IzzaS9Nwg8FS"
      },
      "source": [
        "### Junk Code"
      ]
    },
    {
      "cell_type": "code",
      "metadata": {
        "id": "q1YhXRsleJ_D"
      },
      "source": [
        "# new_df = df_rate.groupby('ISBN').agg('BookRating').mean()\n",
        "# new_df.columns = ['ISBN', 'avg_BookRating']\n",
        "# new_df"
      ],
      "execution_count": null,
      "outputs": []
    },
    {
      "cell_type": "code",
      "metadata": {
        "id": "WIr6EpvSkJQU"
      },
      "source": [
        "# df_rate['BookRating'] = df_rate['BookRating'].astype(str)\n",
        "# df_rate = df_rate.groupby('UserID').agg(\n",
        "#   ISBN=(\"ISBN\", \",\".join),\n",
        "#   BookRating=(\"BookRating\", \",\".join)\n",
        "# )\n",
        "# df_rate"
      ],
      "execution_count": null,
      "outputs": []
    },
    {
      "cell_type": "markdown",
      "metadata": {
        "id": "0i-2-IfIqoI-"
      },
      "source": [
        "# Photo Detection"
      ]
    },
    {
      "cell_type": "markdown",
      "metadata": {
        "id": "pz67qhGYMfz8"
      },
      "source": [
        "### Image to Text"
      ]
    },
    {
      "cell_type": "code",
      "metadata": {
        "id": "CFA_mobEHqDG",
        "colab": {
          "base_uri": "https://localhost:8080/"
        },
        "outputId": "376672e0-e3fa-4e34-86a4-f0cbcda183b8"
      },
      "source": [
        "image_path = 'ImageTest/CM-1.jpg'\n",
        "text = pytesseract.image_to_string(Image.open(image_path))\n",
        "print(text)"
      ],
      "execution_count": null,
      "outputs": [
        {
          "output_type": "stream",
          "text": [
            "classical\n",
            "\n",
            "Mythology\n",
            "\n",
            "Seventh Edition\n",
            "\n",
            "MARK P.0. MORFORD @ ROBERT J. LENARDON\n",
            "\n",
            " \n",
            "\f\n"
          ],
          "name": "stdout"
        }
      ]
    },
    {
      "cell_type": "code",
      "metadata": {
        "id": "o1g6G3n_Schm"
      },
      "source": [
        "# def ocr_core(fileimage):\n",
        "#   text = pytesseract.image_to_string(Image.open(fileimage))\n",
        "\n",
        "#   return text\n",
        "\n",
        "# print(ocr_core('/content/ImageTest/CM-1.jpg'))"
      ],
      "execution_count": null,
      "outputs": []
    },
    {
      "cell_type": "code",
      "metadata": {
        "id": "KBWUJxgCKbqs",
        "colab": {
          "base_uri": "https://localhost:8080/"
        },
        "outputId": "c835c1b0-b189-4c2e-dbc6-d4cbf9c476e2"
      },
      "source": [
        "text = re.sub(r'\\n+', \" \", text)\n",
        "text = text.lower()\n",
        "text = text.translate(str.maketrans(\"\",\"\",string.punctuation))\n",
        "\n",
        "text = text.lstrip()\n",
        "text = text.rstrip()\n",
        "print(text)"
      ],
      "execution_count": null,
      "outputs": [
        {
          "output_type": "stream",
          "text": [
            "classical mythology seventh edition mark p0 morford  robert j lenardon\n"
          ],
          "name": "stdout"
        }
      ]
    },
    {
      "cell_type": "code",
      "metadata": {
        "id": "lYOOCJlU3a2B",
        "colab": {
          "base_uri": "https://localhost:8080/"
        },
        "outputId": "8c1f6b87-5f42-4dea-f06f-6372a27b6ef4"
      },
      "source": [
        "text = text.split(\" \")\n",
        "print(text)"
      ],
      "execution_count": null,
      "outputs": [
        {
          "output_type": "stream",
          "text": [
            "['classical', 'mythology', 'seventh', 'edition', 'mark', 'p0', 'morford', '', 'robert', 'j', 'lenardon']\n"
          ],
          "name": "stdout"
        }
      ]
    },
    {
      "cell_type": "markdown",
      "metadata": {
        "id": "ukiLv6ajNhiJ"
      },
      "source": [
        "### Search Data from Text"
      ]
    },
    {
      "cell_type": "code",
      "metadata": {
        "id": "JaaHCLY5NnS5",
        "colab": {
          "base_uri": "https://localhost:8080/"
        },
        "outputId": "3a3bf169-065f-42a5-98a1-f5af51d99ddd"
      },
      "source": [
        "bookData = pd.DataFrame(df_book, columns= ['booktitle', 'bookauthor']).values.tolist()\n",
        "bookData[:5]"
      ],
      "execution_count": null,
      "outputs": [
        {
          "output_type": "execute_result",
          "data": {
            "text/plain": [
              "[['Classical Mythology', 'Mark P. O. Morford'],\n",
              " ['Clara Callan', 'Richard Bruce Wright'],\n",
              " ['Decision in Normandy', \"Carlo D'Este\"],\n",
              " ['Flu: The Story of the Great Influenza Pandemic of 1918 and the Search for the Virus That Caused It',\n",
              "  'Gina Bari Kolata'],\n",
              " ['The Mummies of Urumchi', 'E. J. W. Barber']]"
            ]
          },
          "metadata": {
            "tags": []
          },
          "execution_count": 28
        }
      ]
    },
    {
      "cell_type": "code",
      "metadata": {
        "id": "YzhT3CgxRl3O",
        "colab": {
          "base_uri": "https://localhost:8080/"
        },
        "outputId": "c17884a4-eb54-495a-9228-7492d8c91d0f"
      },
      "source": [
        "for i in range(len(bookData)):\n",
        "  bookData[i] = str(bookData[i][0]) + \" \" + str(bookData[i][1])\n",
        "  bookData[i] = bookData[i].lower()\n",
        "  bookData[i] = bookData[i].translate(str.maketrans(\"\",\"\",string.punctuation))\n",
        "\n",
        "bookData[:10]"
      ],
      "execution_count": null,
      "outputs": [
        {
          "output_type": "execute_result",
          "data": {
            "text/plain": [
              "['classical mythology mark p o morford',\n",
              " 'clara callan richard bruce wright',\n",
              " 'decision in normandy carlo deste',\n",
              " 'flu the story of the great influenza pandemic of 1918 and the search for the virus that caused it gina bari kolata',\n",
              " 'the mummies of urumchi e j w barber',\n",
              " 'the kitchen gods wife amy tan',\n",
              " 'what if the worlds foremost military historians imagine what might have been robert cowley',\n",
              " 'pleading guilty scott turow',\n",
              " 'under the black flag the romance and the reality of life among the pirates david cordingly',\n",
              " 'where youll find me and other stories ann beattie']"
            ]
          },
          "metadata": {
            "tags": []
          },
          "execution_count": 29
        }
      ]
    },
    {
      "cell_type": "code",
      "metadata": {
        "id": "sTSd1Cm5e4N8",
        "colab": {
          "base_uri": "https://localhost:8080/"
        },
        "outputId": "2d3f8f01-3f99-41d9-85f4-5f01f2e8c284"
      },
      "source": [
        "for i in range(len(bookData)):\n",
        "  bookData[i] = bookData[i].split()\n",
        "\n",
        "bookData[:3]"
      ],
      "execution_count": null,
      "outputs": [
        {
          "output_type": "execute_result",
          "data": {
            "text/plain": [
              "[['classical', 'mythology', 'mark', 'p', 'o', 'morford'],\n",
              " ['clara', 'callan', 'richard', 'bruce', 'wright'],\n",
              " ['decision', 'in', 'normandy', 'carlo', 'deste']]"
            ]
          },
          "metadata": {
            "tags": []
          },
          "execution_count": 30
        }
      ]
    },
    {
      "cell_type": "code",
      "metadata": {
        "id": "JF4A3Sw_qKoy",
        "colab": {
          "base_uri": "https://localhost:8080/"
        },
        "outputId": "c296eccc-37e1-48f3-9a05-919f1474ed42"
      },
      "source": [
        "similarityList = []\n",
        "\n",
        "index = 0\n",
        "\n",
        "for book in bookData:\n",
        "  similarity = 0\n",
        "  for word in text:\n",
        "    if word in book:\n",
        "      similarity += 1\n",
        "  similarityList.append([index, similarity])\n",
        "  index += 1\n",
        "\n",
        "similarityList[:10]"
      ],
      "execution_count": null,
      "outputs": [
        {
          "output_type": "execute_result",
          "data": {
            "text/plain": [
              "[[0, 4],\n",
              " [1, 0],\n",
              " [2, 0],\n",
              " [3, 0],\n",
              " [4, 1],\n",
              " [5, 0],\n",
              " [6, 1],\n",
              " [7, 0],\n",
              " [8, 0],\n",
              " [9, 0]]"
            ]
          },
          "metadata": {
            "tags": []
          },
          "execution_count": 31
        }
      ]
    },
    {
      "cell_type": "code",
      "metadata": {
        "id": "hSkPi2QRvL9l",
        "colab": {
          "base_uri": "https://localhost:8080/"
        },
        "outputId": "0db86ca6-5104-4555-c0bf-5ff54b36b448"
      },
      "source": [
        "similarityList.sort(key=lambda x: x[1], reverse=True)\n",
        "similarityList[:20]\n",
        "\n",
        "#  [0, 95231, 1119777, 193923]"
      ],
      "execution_count": null,
      "outputs": [
        {
          "output_type": "execute_result",
          "data": {
            "text/plain": [
              "[[0, 4],\n",
              " [95231, 4],\n",
              " [111977, 4],\n",
              " [193923, 4],\n",
              " [42118, 3],\n",
              " [124762, 3],\n",
              " [127454, 3],\n",
              " [158903, 3],\n",
              " [196622, 3],\n",
              " [241341, 3],\n",
              " [264304, 3],\n",
              " [1087, 2],\n",
              " [1763, 2],\n",
              " [3179, 2],\n",
              " [3472, 2],\n",
              " [5008, 2],\n",
              " [7116, 2],\n",
              " [10299, 2],\n",
              " [10317, 2],\n",
              " [10663, 2]]"
            ]
          },
          "metadata": {
            "tags": []
          },
          "execution_count": 32
        }
      ]
    },
    {
      "cell_type": "code",
      "metadata": {
        "id": "oJz17BtGqNJz",
        "colab": {
          "base_uri": "https://localhost:8080/"
        },
        "outputId": "2d486b63-c2c5-49f7-ad70-fd4248f68ec3"
      },
      "source": [
        "output = [i[0] for i in similarityList[:4]]\n",
        "output"
      ],
      "execution_count": null,
      "outputs": [
        {
          "output_type": "execute_result",
          "data": {
            "text/plain": [
              "[0, 95231, 111977, 193923]"
            ]
          },
          "metadata": {
            "tags": []
          },
          "execution_count": 33
        }
      ]
    },
    {
      "cell_type": "markdown",
      "metadata": {
        "id": "LJmzgFS3qdD1"
      },
      "source": [
        "# Recommendation Model"
      ]
    },
    {
      "cell_type": "markdown",
      "metadata": {
        "id": "i6PeftH1Nz2C"
      },
      "source": [
        "### Create Model"
      ]
    },
    {
      "cell_type": "code",
      "metadata": {
        "id": "cIMLhPaPHmH3",
        "colab": {
          "base_uri": "https://localhost:8080/"
        },
        "outputId": "9bd98b8d-7efe-447f-e42c-c65fa862dd8d"
      },
      "source": [
        "print('books length : {}'.format(len(df_rate.bookid)))\n",
        "print('users length : {}'.format(len(df_rate.userid)))\n",
        "print('unique books length : {}'.format(len(df_rate.bookid.unique())))\n",
        "print('unique users length : {}'.format(len(df_rate.userid.unique())))"
      ],
      "execution_count": null,
      "outputs": [
        {
          "output_type": "stream",
          "text": [
            "books length : 1031136\n",
            "users length : 1031136\n",
            "unique books length : 270151\n",
            "unique users length : 92106\n"
          ],
          "name": "stdout"
        }
      ]
    },
    {
      "cell_type": "code",
      "metadata": {
        "colab": {
          "base_uri": "https://localhost:8080/"
        },
        "id": "W-dKLKf0Jj-l",
        "outputId": "5812ba69-62fe-4be4-f88c-e8ed6fc3fb1f"
      },
      "source": [
        "book_data = np.array(list(set(df_book.bookid)))\n",
        "user_data = np.array([957 for i in range(len(book_data))])\n",
        "length = len(book_data)\n",
        "\n",
        "print('book data :')\n",
        "print(book_data[:25])\n",
        "\n",
        "print('user data :')\n",
        "print(user_data[:5])\n",
        "\n",
        "print('length : {}'.format(length))"
      ],
      "execution_count": null,
      "outputs": [
        {
          "output_type": "stream",
          "text": [
            "book data :\n",
            "[ 0  1  2  3  4  5  6  7  8  9 10 11 12 13 14 15 16 17 18 19 20 21 22 23\n",
            " 24]\n",
            "user data :\n",
            "[957 957 957 957 957]\n",
            "length : 271360\n"
          ],
          "name": "stdout"
        }
      ]
    },
    {
      "cell_type": "code",
      "metadata": {
        "id": "12jlfz77QacS",
        "colab": {
          "base_uri": "https://localhost:8080/"
        },
        "outputId": "0bc7e398-f9a3-4798-891f-f6825f8de754"
      },
      "source": [
        "book_embedding_size = 8\n",
        "user_embedding_size = 8\n",
        "\n",
        "user_input = tf.keras.Input(shape=(1,), name='User-Input')\n",
        "book_input = tf.keras.Input(shape=(1,), name='Book-Input')\n",
        "\n",
        "user_embedded = tf.keras.layers.Embedding(df_rate.userid.max()+1, user_embedding_size, input_length=1, name='User-Embedding')(user_input)\n",
        "book_embedded = tf.keras.layers.Embedding(df_rate.bookid.max()+1, book_embedding_size, input_length=1, name='Book-Embedding')(book_input)\n",
        "\n",
        "concatenated = tf.keras.layers.Concatenate()([user_embedded, book_embedded])\n",
        "\n",
        "out = tf.keras.layers.Flatten()(concatenated)\n",
        "out = tf.keras.layers.Dense(128, activation='relu')(out)\n",
        "out = tf.keras.layers.Dense(32, activation='relu')(out)\n",
        "out = tf.keras.layers.Dense(1, activation='linear', name='prediction')(out)\n",
        "\n",
        "model = tf.keras.Model(\n",
        "    inputs = [user_input, book_input],\n",
        "    outputs = out,\n",
        ")\n",
        "model.summary(line_length=88)"
      ],
      "execution_count": null,
      "outputs": [
        {
          "output_type": "stream",
          "text": [
            "Model: \"model_1\"\n",
            "________________________________________________________________________________________\n",
            "Layer (type)                 Output Shape       Param #   Connected to                  \n",
            "========================================================================================\n",
            "User-Input (InputLayer)      [(None, 1)]        0                                       \n",
            "________________________________________________________________________________________\n",
            "Book-Input (InputLayer)      [(None, 1)]        0                                       \n",
            "________________________________________________________________________________________\n",
            "User-Embedding (Embedding)   (None, 1, 8)       2230840   User-Input[0][0]              \n",
            "________________________________________________________________________________________\n",
            "Book-Embedding (Embedding)   (None, 1, 8)       2170880   Book-Input[0][0]              \n",
            "________________________________________________________________________________________\n",
            "concatenate_1 (Concatenate)  (None, 1, 16)      0         User-Embedding[0][0]          \n",
            "                                                          Book-Embedding[0][0]          \n",
            "________________________________________________________________________________________\n",
            "flatten_1 (Flatten)          (None, 16)         0         concatenate_1[0][0]           \n",
            "________________________________________________________________________________________\n",
            "dense_2 (Dense)              (None, 128)        2176      flatten_1[0][0]               \n",
            "________________________________________________________________________________________\n",
            "dense_3 (Dense)              (None, 32)         4128      dense_2[0][0]                 \n",
            "________________________________________________________________________________________\n",
            "prediction (Dense)           (None, 1)          33        dense_3[0][0]                 \n",
            "========================================================================================\n",
            "Total params: 4,408,057\n",
            "Trainable params: 4,408,057\n",
            "Non-trainable params: 0\n",
            "________________________________________________________________________________________\n"
          ],
          "name": "stdout"
        }
      ]
    },
    {
      "cell_type": "code",
      "metadata": {
        "id": "5Ge0oymYQbnh"
      },
      "source": [
        "model.compile(\n",
        "    tf.optimizers.Adam(0.005),\n",
        "    loss='MSE',\n",
        "    metrics=['MAE']\n",
        ")"
      ],
      "execution_count": null,
      "outputs": []
    },
    {
      "cell_type": "markdown",
      "metadata": {
        "id": "FiSWNDiuN43T"
      },
      "source": [
        "### Test Model"
      ]
    },
    {
      "cell_type": "code",
      "metadata": {
        "id": "luqCFJVMQeDD"
      },
      "source": [
        "train, test = train_test_split(df_rate, test_size=0.2, random_state=42)"
      ],
      "execution_count": null,
      "outputs": []
    },
    {
      "cell_type": "code",
      "metadata": {
        "id": "sUUraqcGJ5Os"
      },
      "source": [
        "if os.path.exists('regression_model.h5'):\n",
        "  model2 = tf.keras.models.load_model('regression_model.h5')\n",
        "else:\n",
        "  # history = model.fit([train.userid, train.bookid], train.bookrating, epochs=10, verbose=1)\n",
        "  history = model.fit([df_rate.userid, df_rate.bookid], df_rate.bookrating, epochs=5, verbose=1)\n",
        "  model.save('regression_model.h5')\n",
        "  plt.plot(history.history['loss'])\n",
        "  plt.xlabel(\"Epochs\")\n",
        "  plt.ylabel(\"Training Error\")"
      ],
      "execution_count": null,
      "outputs": []
    },
    {
      "cell_type": "code",
      "metadata": {
        "id": "K8hjHWDIJ66D",
        "colab": {
          "base_uri": "https://localhost:8080/"
        },
        "outputId": "f66c34df-8787-440c-a673-f4f7330d7262"
      },
      "source": [
        "  model.evaluate([test.userid, test.bookid], test.bookrating)"
      ],
      "execution_count": null,
      "outputs": [
        {
          "output_type": "stream",
          "text": [
            "6445/6445 [==============================] - 7s 1ms/step - loss: 22.8287 - MAE: 2.8375\n"
          ],
          "name": "stdout"
        },
        {
          "output_type": "execute_result",
          "data": {
            "text/plain": [
              "[22.828710556030273, 2.837491035461426]"
            ]
          },
          "metadata": {
            "tags": []
          },
          "execution_count": 92
        }
      ]
    },
    {
      "cell_type": "markdown",
      "metadata": {
        "id": "1GZ0hwH9Mc9b"
      },
      "source": [
        "### Predict data"
      ]
    },
    {
      "cell_type": "code",
      "metadata": {
        "id": "WakJERtiHtEl",
        "colab": {
          "base_uri": "https://localhost:8080/"
        },
        "outputId": "9c942edc-33a5-49f2-d3c3-1751affa9b0d"
      },
      "source": [
        "predictions = model.predict([test.userid.head(10), test.bookid.head(10)])\n",
        "\n",
        "[print(predictions[i], test.bookrating.iloc[i]) for i in range(0,10)]"
      ],
      "execution_count": null,
      "outputs": [
        {
          "output_type": "stream",
          "text": [
            "[0.01960097] 5\n",
            "[0.01919293] 7\n",
            "[0.00743141] 0\n",
            "[0.01103822] 4\n",
            "[0.00897555] 10\n",
            "[0.00282504] 0\n",
            "[0.0137674] 0\n",
            "[-0.00456957] 0\n",
            "[0.00611231] 0\n",
            "[0.01879044] 0\n"
          ],
          "name": "stdout"
        },
        {
          "output_type": "execute_result",
          "data": {
            "text/plain": [
              "[None, None, None, None, None, None, None, None, None, None]"
            ]
          },
          "metadata": {
            "tags": []
          },
          "execution_count": 68
        }
      ]
    },
    {
      "cell_type": "code",
      "metadata": {
        "id": "PY0rIpYl_8fn",
        "colab": {
          "base_uri": "https://localhost:8080/"
        },
        "outputId": "23107997-a0d0-4069-dae6-4e199932b431"
      },
      "source": [
        "predictions = model.predict([user_data, book_data])\n",
        "predictions.shape"
      ],
      "execution_count": null,
      "outputs": [
        {
          "output_type": "execute_result",
          "data": {
            "text/plain": [
              "(271360, 1)"
            ]
          },
          "metadata": {
            "tags": []
          },
          "execution_count": 93
        }
      ]
    },
    {
      "cell_type": "code",
      "metadata": {
        "id": "VJp3795UZ6rP",
        "colab": {
          "base_uri": "https://localhost:8080/"
        },
        "outputId": "cd59b728-3e79-4ed8-ff43-536ed12d09cf"
      },
      "source": [
        "predictions[:25]"
      ],
      "execution_count": null,
      "outputs": [
        {
          "output_type": "execute_result",
          "data": {
            "text/plain": [
              "array([[ 0.00943559],\n",
              "       [-0.00054312],\n",
              "       [ 0.00875589],\n",
              "       [ 0.01199192],\n",
              "       [ 0.00716341],\n",
              "       [ 0.00295257],\n",
              "       [ 0.00945492],\n",
              "       [ 0.00753285],\n",
              "       [ 0.00702061],\n",
              "       [ 0.00444154],\n",
              "       [ 0.01113363],\n",
              "       [ 0.00145853],\n",
              "       [ 0.00829699],\n",
              "       [ 0.00910367],\n",
              "       [ 0.00968371],\n",
              "       [ 0.01728912],\n",
              "       [ 0.00563196],\n",
              "       [ 0.01320671],\n",
              "       [-0.00017637],\n",
              "       [ 0.01146057],\n",
              "       [ 0.00828519],\n",
              "       [ 0.00695769],\n",
              "       [ 0.0061695 ],\n",
              "       [ 0.00353427],\n",
              "       [ 0.00542298]], dtype=float32)"
            ]
          },
          "metadata": {
            "tags": []
          },
          "execution_count": 94
        }
      ]
    },
    {
      "cell_type": "code",
      "metadata": {
        "id": "pnT7kjOqdapq",
        "colab": {
          "base_uri": "https://localhost:8080/"
        },
        "outputId": "097c06ca-bd85-45ee-b020-af17f5b09988"
      },
      "source": [
        "predictions = np.array([a[0] for a in predictions])\n",
        "predictions[:25]"
      ],
      "execution_count": null,
      "outputs": [
        {
          "output_type": "execute_result",
          "data": {
            "text/plain": [
              "array([ 0.00943559, -0.00054312,  0.00875589,  0.01199192,  0.00716341,\n",
              "        0.00295257,  0.00945492,  0.00753285,  0.00702061,  0.00444154,\n",
              "        0.01113363,  0.00145853,  0.00829699,  0.00910367,  0.00968371,\n",
              "        0.01728912,  0.00563196,  0.01320671, -0.00017637,  0.01146057,\n",
              "        0.00828519,  0.00695769,  0.0061695 ,  0.00353427,  0.00542298],\n",
              "      dtype=float32)"
            ]
          },
          "metadata": {
            "tags": []
          },
          "execution_count": 71
        }
      ]
    },
    {
      "cell_type": "code",
      "metadata": {
        "id": "2JGNdNapilmA",
        "colab": {
          "base_uri": "https://localhost:8080/"
        },
        "outputId": "24326e04-b7ae-4a3f-ea21-f4c9204aaada"
      },
      "source": [
        "recommended_book_id = (-predictions).argsort()[:25]    # Sorting + ambil 5 data terbesar\n",
        "recommended_book_id"
      ],
      "execution_count": null,
      "outputs": [
        {
          "output_type": "execute_result",
          "data": {
            "text/plain": [
              "array([  5374,  81090, 132489,  64908, 150836, 192902,  70954, 168626,\n",
              "       257707,  44791, 221239, 215133, 199771,  76495, 156825,  40696,\n",
              "       205469, 250037, 170643, 151976,  95479,  67103, 212223, 225557,\n",
              "       241632])"
            ]
          },
          "metadata": {
            "tags": []
          },
          "execution_count": 72
        }
      ]
    },
    {
      "cell_type": "code",
      "metadata": {
        "id": "q9dcmIagSmLf",
        "colab": {
          "base_uri": "https://localhost:8080/"
        },
        "outputId": "b949f042-5e3f-4659-8458-2084947cb733"
      },
      "source": [
        "predictions[recommended_book_id]"
      ],
      "execution_count": null,
      "outputs": [
        {
          "output_type": "execute_result",
          "data": {
            "text/plain": [
              "array([0.02398121, 0.02379338, 0.02378687, 0.02376336, 0.02375423,\n",
              "       0.02372372, 0.02368725, 0.02362499, 0.023403  , 0.02328616,\n",
              "       0.02324302, 0.02322474, 0.02307829, 0.0230304 , 0.02302613,\n",
              "       0.0230165 , 0.02299728, 0.02297174, 0.02294293, 0.02290964,\n",
              "       0.02281129, 0.02279934, 0.02273728, 0.02273217, 0.02272757],\n",
              "      dtype=float32)"
            ]
          },
          "metadata": {
            "tags": []
          },
          "execution_count": 73
        }
      ]
    },
    {
      "cell_type": "code",
      "metadata": {
        "id": "Hdo0B2oESorh",
        "colab": {
          "base_uri": "https://localhost:8080/",
          "height": 1000
        },
        "outputId": "fe7614f6-8431-4140-c0b5-6ab0b5fecc19"
      },
      "source": [
        "df_book[df_book['bookid'].isin(recommended_book_id)]"
      ],
      "execution_count": null,
      "outputs": [
        {
          "output_type": "execute_result",
          "data": {
            "text/html": [
              "<div>\n",
              "<style scoped>\n",
              "    .dataframe tbody tr th:only-of-type {\n",
              "        vertical-align: middle;\n",
              "    }\n",
              "\n",
              "    .dataframe tbody tr th {\n",
              "        vertical-align: top;\n",
              "    }\n",
              "\n",
              "    .dataframe thead th {\n",
              "        text-align: right;\n",
              "    }\n",
              "</style>\n",
              "<table border=\"1\" class=\"dataframe\">\n",
              "  <thead>\n",
              "    <tr style=\"text-align: right;\">\n",
              "      <th></th>\n",
              "      <th>bookid</th>\n",
              "      <th>isbn</th>\n",
              "      <th>booktitle</th>\n",
              "      <th>bookauthor</th>\n",
              "      <th>yearofpublication</th>\n",
              "      <th>publisher</th>\n",
              "      <th>imageurls</th>\n",
              "      <th>imageurlm</th>\n",
              "      <th>imageurll</th>\n",
              "      <th>rating</th>\n",
              "    </tr>\n",
              "  </thead>\n",
              "  <tbody>\n",
              "    <tr>\n",
              "      <th>5374</th>\n",
              "      <td>5374</td>\n",
              "      <td>0142000485</td>\n",
              "      <td>My Little Blue Dress</td>\n",
              "      <td>Bruno Maddox</td>\n",
              "      <td>2002</td>\n",
              "      <td>Penguin Books</td>\n",
              "      <td>http://images.amazon.com/images/P/0142000485.0...</td>\n",
              "      <td>http://images.amazon.com/images/P/0142000485.0...</td>\n",
              "      <td>http://images.amazon.com/images/P/0142000485.0...</td>\n",
              "      <td>2.812500</td>\n",
              "    </tr>\n",
              "    <tr>\n",
              "      <th>40696</th>\n",
              "      <td>40696</td>\n",
              "      <td>0465053548</td>\n",
              "      <td>The Origin of the Universe (Science Masters)</td>\n",
              "      <td>John D. Barrow</td>\n",
              "      <td>1994</td>\n",
              "      <td>Perseus Books Group</td>\n",
              "      <td>http://images.amazon.com/images/P/0465053548.0...</td>\n",
              "      <td>http://images.amazon.com/images/P/0465053548.0...</td>\n",
              "      <td>http://images.amazon.com/images/P/0465053548.0...</td>\n",
              "      <td>0.000000</td>\n",
              "    </tr>\n",
              "    <tr>\n",
              "      <th>44791</th>\n",
              "      <td>44791</td>\n",
              "      <td>0156000024</td>\n",
              "      <td>Consider This Senora</td>\n",
              "      <td>Harriet Doerr</td>\n",
              "      <td>1994</td>\n",
              "      <td>Harvest Books</td>\n",
              "      <td>http://images.amazon.com/images/P/0156000024.0...</td>\n",
              "      <td>http://images.amazon.com/images/P/0156000024.0...</td>\n",
              "      <td>http://images.amazon.com/images/P/0156000024.0...</td>\n",
              "      <td>2.846154</td>\n",
              "    </tr>\n",
              "    <tr>\n",
              "      <th>64908</th>\n",
              "      <td>64908</td>\n",
              "      <td>037311933X</td>\n",
              "      <td>Secret Mother (Nanny Wanted!) (Harlequin Prese...</td>\n",
              "      <td>Justin Wilkinson</td>\n",
              "      <td>1997</td>\n",
              "      <td>Harlequin</td>\n",
              "      <td>http://images.amazon.com/images/P/037311933X.0...</td>\n",
              "      <td>http://images.amazon.com/images/P/037311933X.0...</td>\n",
              "      <td>http://images.amazon.com/images/P/037311933X.0...</td>\n",
              "      <td>0.000000</td>\n",
              "    </tr>\n",
              "    <tr>\n",
              "      <th>67103</th>\n",
              "      <td>67103</td>\n",
              "      <td>0312284330</td>\n",
              "      <td>Crashing the Party: How to Tell the Truth and ...</td>\n",
              "      <td>Ralph Nader</td>\n",
              "      <td>2001</td>\n",
              "      <td>St. Martin's Press</td>\n",
              "      <td>http://images.amazon.com/images/P/0312284330.0...</td>\n",
              "      <td>http://images.amazon.com/images/P/0312284330.0...</td>\n",
              "      <td>http://images.amazon.com/images/P/0312284330.0...</td>\n",
              "      <td>4.111111</td>\n",
              "    </tr>\n",
              "    <tr>\n",
              "      <th>70954</th>\n",
              "      <td>70954</td>\n",
              "      <td>0893755214</td>\n",
              "      <td>Surprise Party (Giant First-Start Reader)</td>\n",
              "      <td>Sharon Gordon</td>\n",
              "      <td>1982</td>\n",
              "      <td>Troll Communications</td>\n",
              "      <td>http://images.amazon.com/images/P/0893755214.0...</td>\n",
              "      <td>http://images.amazon.com/images/P/0893755214.0...</td>\n",
              "      <td>http://images.amazon.com/images/P/0893755214.0...</td>\n",
              "      <td>0.000000</td>\n",
              "    </tr>\n",
              "    <tr>\n",
              "      <th>76495</th>\n",
              "      <td>76495</td>\n",
              "      <td>0870441973</td>\n",
              "      <td>Wonders of the desert world (Books for young e...</td>\n",
              "      <td>Judith E Rinard</td>\n",
              "      <td>1976</td>\n",
              "      <td>National Geographic Society</td>\n",
              "      <td>http://images.amazon.com/images/P/0870441973.0...</td>\n",
              "      <td>http://images.amazon.com/images/P/0870441973.0...</td>\n",
              "      <td>http://images.amazon.com/images/P/0870441973.0...</td>\n",
              "      <td>6.666667</td>\n",
              "    </tr>\n",
              "    <tr>\n",
              "      <th>81090</th>\n",
              "      <td>81090</td>\n",
              "      <td>0743227328</td>\n",
              "      <td>The Sex-Starved Marriage: A Couple's Guide to ...</td>\n",
              "      <td>Michele Weiner-Davis</td>\n",
              "      <td>2003</td>\n",
              "      <td>Simon &amp;amp; Schuster</td>\n",
              "      <td>http://images.amazon.com/images/P/0743227328.0...</td>\n",
              "      <td>http://images.amazon.com/images/P/0743227328.0...</td>\n",
              "      <td>http://images.amazon.com/images/P/0743227328.0...</td>\n",
              "      <td>2.000000</td>\n",
              "    </tr>\n",
              "    <tr>\n",
              "      <th>95479</th>\n",
              "      <td>95479</td>\n",
              "      <td>0711991987</td>\n",
              "      <td>U2 Live: A Concert Documentary</td>\n",
              "      <td>Pimm Jal de la Parra</td>\n",
              "      <td>2003</td>\n",
              "      <td>Omnibus Press</td>\n",
              "      <td>http://images.amazon.com/images/P/0711991987.0...</td>\n",
              "      <td>http://images.amazon.com/images/P/0711991987.0...</td>\n",
              "      <td>http://images.amazon.com/images/P/0711991987.0...</td>\n",
              "      <td>10.000000</td>\n",
              "    </tr>\n",
              "    <tr>\n",
              "      <th>132489</th>\n",
              "      <td>132489</td>\n",
              "      <td>0765307871</td>\n",
              "      <td>Star Bright! : A Christmas Story</td>\n",
              "      <td>Andrew M. Greeley</td>\n",
              "      <td>2002</td>\n",
              "      <td>Forge Books</td>\n",
              "      <td>http://images.amazon.com/images/P/0765307871.0...</td>\n",
              "      <td>http://images.amazon.com/images/P/0765307871.0...</td>\n",
              "      <td>http://images.amazon.com/images/P/0765307871.0...</td>\n",
              "      <td>0.000000</td>\n",
              "    </tr>\n",
              "    <tr>\n",
              "      <th>150836</th>\n",
              "      <td>150836</td>\n",
              "      <td>157322913X</td>\n",
              "      <td>The Virgin of Bennington</td>\n",
              "      <td>Kathleen Norris</td>\n",
              "      <td>2002</td>\n",
              "      <td>Riverhead Books</td>\n",
              "      <td>http://images.amazon.com/images/P/157322913X.0...</td>\n",
              "      <td>http://images.amazon.com/images/P/157322913X.0...</td>\n",
              "      <td>http://images.amazon.com/images/P/157322913X.0...</td>\n",
              "      <td>4.333333</td>\n",
              "    </tr>\n",
              "    <tr>\n",
              "      <th>151976</th>\n",
              "      <td>151976</td>\n",
              "      <td>0722531621</td>\n",
              "      <td>The Silent Ark</td>\n",
              "      <td>Juliet Gellatley</td>\n",
              "      <td>1996</td>\n",
              "      <td>HarperCollins</td>\n",
              "      <td>http://images.amazon.com/images/P/0722531621.0...</td>\n",
              "      <td>http://images.amazon.com/images/P/0722531621.0...</td>\n",
              "      <td>http://images.amazon.com/images/P/0722531621.0...</td>\n",
              "      <td>0.000000</td>\n",
              "    </tr>\n",
              "    <tr>\n",
              "      <th>156825</th>\n",
              "      <td>156825</td>\n",
              "      <td>0782118453</td>\n",
              "      <td>Mastering Isdn</td>\n",
              "      <td>Mike Sapien</td>\n",
              "      <td>1996</td>\n",
              "      <td>Sybex Inc</td>\n",
              "      <td>http://images.amazon.com/images/P/0782118453.0...</td>\n",
              "      <td>http://images.amazon.com/images/P/0782118453.0...</td>\n",
              "      <td>http://images.amazon.com/images/P/0782118453.0...</td>\n",
              "      <td>8.000000</td>\n",
              "    </tr>\n",
              "    <tr>\n",
              "      <th>168626</th>\n",
              "      <td>168626</td>\n",
              "      <td>0385468474</td>\n",
              "      <td>SAM WALTON/WALMART</td>\n",
              "      <td>Sam Walton</td>\n",
              "      <td>1992</td>\n",
              "      <td>Doubleday</td>\n",
              "      <td>http://images.amazon.com/images/P/0385468474.0...</td>\n",
              "      <td>http://images.amazon.com/images/P/0385468474.0...</td>\n",
              "      <td>http://images.amazon.com/images/P/0385468474.0...</td>\n",
              "      <td>0.000000</td>\n",
              "    </tr>\n",
              "    <tr>\n",
              "      <th>170643</th>\n",
              "      <td>170643</td>\n",
              "      <td>0812576098</td>\n",
              "      <td>Ghost Warrior</td>\n",
              "      <td>Lucia St. Clair Robson</td>\n",
              "      <td>2003</td>\n",
              "      <td>Tor Books</td>\n",
              "      <td>http://images.amazon.com/images/P/0812576098.0...</td>\n",
              "      <td>http://images.amazon.com/images/P/0812576098.0...</td>\n",
              "      <td>http://images.amazon.com/images/P/0812576098.0...</td>\n",
              "      <td>1.166667</td>\n",
              "    </tr>\n",
              "    <tr>\n",
              "      <th>192902</th>\n",
              "      <td>192902</td>\n",
              "      <td>351836913X</td>\n",
              "      <td>Innen und AuÃ?Â?en. Gesammelte ErzÃ?Â¤hlungen....</td>\n",
              "      <td>Hermann Hesse</td>\n",
              "      <td>1977</td>\n",
              "      <td>Suhrkamp</td>\n",
              "      <td>http://images.amazon.com/images/P/351836913X.0...</td>\n",
              "      <td>http://images.amazon.com/images/P/351836913X.0...</td>\n",
              "      <td>http://images.amazon.com/images/P/351836913X.0...</td>\n",
              "      <td>0.000000</td>\n",
              "    </tr>\n",
              "    <tr>\n",
              "      <th>199771</th>\n",
              "      <td>199771</td>\n",
              "      <td>2020301601</td>\n",
              "      <td>La femme et le singe</td>\n",
              "      <td>Peter Hoeg</td>\n",
              "      <td>1998</td>\n",
              "      <td>Seuil</td>\n",
              "      <td>http://images.amazon.com/images/P/2020301601.0...</td>\n",
              "      <td>http://images.amazon.com/images/P/2020301601.0...</td>\n",
              "      <td>http://images.amazon.com/images/P/2020301601.0...</td>\n",
              "      <td>5.000000</td>\n",
              "    </tr>\n",
              "    <tr>\n",
              "      <th>205469</th>\n",
              "      <td>205469</td>\n",
              "      <td>0704340054</td>\n",
              "      <td>The Leech</td>\n",
              "      <td>Cora Sandel</td>\n",
              "      <td>1994</td>\n",
              "      <td>Women's Press Ltd. (UK)</td>\n",
              "      <td>http://images.amazon.com/images/P/0704340054.0...</td>\n",
              "      <td>http://images.amazon.com/images/P/0704340054.0...</td>\n",
              "      <td>http://images.amazon.com/images/P/0704340054.0...</td>\n",
              "      <td>3.000000</td>\n",
              "    </tr>\n",
              "    <tr>\n",
              "      <th>212223</th>\n",
              "      <td>212223</td>\n",
              "      <td>0385261039</td>\n",
              "      <td>Elia Kazan: A Life</td>\n",
              "      <td>Elia Kazan</td>\n",
              "      <td>1989</td>\n",
              "      <td>Random House Inc</td>\n",
              "      <td>http://images.amazon.com/images/P/0385261039.0...</td>\n",
              "      <td>http://images.amazon.com/images/P/0385261039.0...</td>\n",
              "      <td>http://images.amazon.com/images/P/0385261039.0...</td>\n",
              "      <td>0.000000</td>\n",
              "    </tr>\n",
              "    <tr>\n",
              "      <th>215133</th>\n",
              "      <td>215133</td>\n",
              "      <td>3492227287</td>\n",
              "      <td>Vernimm Mein Flehen</td>\n",
              "      <td>Ann-Maire Macdonald</td>\n",
              "      <td>2002</td>\n",
              "      <td>Distribooks</td>\n",
              "      <td>http://images.amazon.com/images/P/3492227287.0...</td>\n",
              "      <td>http://images.amazon.com/images/P/3492227287.0...</td>\n",
              "      <td>http://images.amazon.com/images/P/3492227287.0...</td>\n",
              "      <td>9.000000</td>\n",
              "    </tr>\n",
              "    <tr>\n",
              "      <th>221239</th>\n",
              "      <td>221239</td>\n",
              "      <td>0714835447</td>\n",
              "      <td>The Age of Elegance (Phaidon Miniature Editions)</td>\n",
              "      <td>Editors of Phaidon Press</td>\n",
              "      <td>1996</td>\n",
              "      <td>Phaidon Press Inc.</td>\n",
              "      <td>http://images.amazon.com/images/P/0714835447.0...</td>\n",
              "      <td>http://images.amazon.com/images/P/0714835447.0...</td>\n",
              "      <td>http://images.amazon.com/images/P/0714835447.0...</td>\n",
              "      <td>0.000000</td>\n",
              "    </tr>\n",
              "    <tr>\n",
              "      <th>225557</th>\n",
              "      <td>225557</td>\n",
              "      <td>1569753148</td>\n",
              "      <td>Yoga in Focus: Postures Sequences Meditations</td>\n",
              "      <td>Jessie Chapman</td>\n",
              "      <td>2002</td>\n",
              "      <td>Ulysses Press</td>\n",
              "      <td>http://images.amazon.com/images/P/1569753148.0...</td>\n",
              "      <td>http://images.amazon.com/images/P/1569753148.0...</td>\n",
              "      <td>http://images.amazon.com/images/P/1569753148.0...</td>\n",
              "      <td>8.000000</td>\n",
              "    </tr>\n",
              "    <tr>\n",
              "      <th>241632</th>\n",
              "      <td>241632</td>\n",
              "      <td>0340592907</td>\n",
              "      <td>Sid the Mosquito</td>\n",
              "      <td>Thompson</td>\n",
              "      <td>1999</td>\n",
              "      <td>Trafalgar Square</td>\n",
              "      <td>http://images.amazon.com/images/P/0340592907.0...</td>\n",
              "      <td>http://images.amazon.com/images/P/0340592907.0...</td>\n",
              "      <td>http://images.amazon.com/images/P/0340592907.0...</td>\n",
              "      <td>5.000000</td>\n",
              "    </tr>\n",
              "    <tr>\n",
              "      <th>250037</th>\n",
              "      <td>250037</td>\n",
              "      <td>1559945907</td>\n",
              "      <td>Marianne Williamson on Work/Career</td>\n",
              "      <td>Marianne Williamson</td>\n",
              "      <td>1992</td>\n",
              "      <td>HarperAudio</td>\n",
              "      <td>http://images.amazon.com/images/P/1559945907.0...</td>\n",
              "      <td>http://images.amazon.com/images/P/1559945907.0...</td>\n",
              "      <td>http://images.amazon.com/images/P/1559945907.0...</td>\n",
              "      <td>10.000000</td>\n",
              "    </tr>\n",
              "    <tr>\n",
              "      <th>257707</th>\n",
              "      <td>257707</td>\n",
              "      <td>0806961236</td>\n",
              "      <td>Decorative Accents for the Garden</td>\n",
              "      <td>Paul Brecher</td>\n",
              "      <td>1999</td>\n",
              "      <td>Sterling Publishing</td>\n",
              "      <td>http://images.amazon.com/images/P/0806961236.0...</td>\n",
              "      <td>http://images.amazon.com/images/P/0806961236.0...</td>\n",
              "      <td>http://images.amazon.com/images/P/0806961236.0...</td>\n",
              "      <td>8.000000</td>\n",
              "    </tr>\n",
              "  </tbody>\n",
              "</table>\n",
              "</div>"
            ],
            "text/plain": [
              "        bookid  ...     rating\n",
              "5374      5374  ...   2.812500\n",
              "40696    40696  ...   0.000000\n",
              "44791    44791  ...   2.846154\n",
              "64908    64908  ...   0.000000\n",
              "67103    67103  ...   4.111111\n",
              "70954    70954  ...   0.000000\n",
              "76495    76495  ...   6.666667\n",
              "81090    81090  ...   2.000000\n",
              "95479    95479  ...  10.000000\n",
              "132489  132489  ...   0.000000\n",
              "150836  150836  ...   4.333333\n",
              "151976  151976  ...   0.000000\n",
              "156825  156825  ...   8.000000\n",
              "168626  168626  ...   0.000000\n",
              "170643  170643  ...   1.166667\n",
              "192902  192902  ...   0.000000\n",
              "199771  199771  ...   5.000000\n",
              "205469  205469  ...   3.000000\n",
              "212223  212223  ...   0.000000\n",
              "215133  215133  ...   9.000000\n",
              "221239  221239  ...   0.000000\n",
              "225557  225557  ...   8.000000\n",
              "241632  241632  ...   5.000000\n",
              "250037  250037  ...  10.000000\n",
              "257707  257707  ...   8.000000\n",
              "\n",
              "[25 rows x 10 columns]"
            ]
          },
          "metadata": {
            "tags": []
          },
          "execution_count": 74
        }
      ]
    },
    {
      "cell_type": "markdown",
      "metadata": {
        "id": "iSJvtap1Hsfs"
      },
      "source": [
        "### Input Output"
      ]
    },
    {
      "cell_type": "code",
      "metadata": {
        "id": "0Kc8lUYdHrzs"
      },
      "source": [
        "new_df = pd.DataFrame()\n",
        "new_df['user_data'] = user_data\n",
        "new_df['book_data'] = book_data\n",
        "new_df['predictions'] = predictions\n",
        "new_df"
      ],
      "execution_count": null,
      "outputs": []
    },
    {
      "cell_type": "code",
      "metadata": {
        "colab": {
          "base_uri": "https://localhost:8080/",
          "height": 359
        },
        "id": "kalMz70yP1-p",
        "outputId": "a0582357-2f23-4e61-a3ea-589d91d544ff"
      },
      "source": [
        "new_df_2 = pd.DataFrame()\n",
        "new_df_2['predictsort'] = list(predictions[recommended_book_id])\n",
        "new_df_2['recom_book'] = list(recommended_book_id)\n",
        "new_df_2[:10]"
      ],
      "execution_count": null,
      "outputs": [
        {
          "output_type": "execute_result",
          "data": {
            "text/html": [
              "<div>\n",
              "<style scoped>\n",
              "    .dataframe tbody tr th:only-of-type {\n",
              "        vertical-align: middle;\n",
              "    }\n",
              "\n",
              "    .dataframe tbody tr th {\n",
              "        vertical-align: top;\n",
              "    }\n",
              "\n",
              "    .dataframe thead th {\n",
              "        text-align: right;\n",
              "    }\n",
              "</style>\n",
              "<table border=\"1\" class=\"dataframe\">\n",
              "  <thead>\n",
              "    <tr style=\"text-align: right;\">\n",
              "      <th></th>\n",
              "      <th>predictsort</th>\n",
              "      <th>recom_book</th>\n",
              "    </tr>\n",
              "  </thead>\n",
              "  <tbody>\n",
              "    <tr>\n",
              "      <th>0</th>\n",
              "      <td>[0.023981214]</td>\n",
              "      <td>5374</td>\n",
              "    </tr>\n",
              "    <tr>\n",
              "      <th>1</th>\n",
              "      <td>[0.023793383]</td>\n",
              "      <td>81090</td>\n",
              "    </tr>\n",
              "    <tr>\n",
              "      <th>2</th>\n",
              "      <td>[0.023786869]</td>\n",
              "      <td>132489</td>\n",
              "    </tr>\n",
              "    <tr>\n",
              "      <th>3</th>\n",
              "      <td>[0.023763362]</td>\n",
              "      <td>64908</td>\n",
              "    </tr>\n",
              "    <tr>\n",
              "      <th>4</th>\n",
              "      <td>[0.02375423]</td>\n",
              "      <td>150836</td>\n",
              "    </tr>\n",
              "    <tr>\n",
              "      <th>5</th>\n",
              "      <td>[0.023723718]</td>\n",
              "      <td>192902</td>\n",
              "    </tr>\n",
              "    <tr>\n",
              "      <th>6</th>\n",
              "      <td>[0.023687255]</td>\n",
              "      <td>70954</td>\n",
              "    </tr>\n",
              "    <tr>\n",
              "      <th>7</th>\n",
              "      <td>[0.023624992]</td>\n",
              "      <td>168626</td>\n",
              "    </tr>\n",
              "    <tr>\n",
              "      <th>8</th>\n",
              "      <td>[0.023403002]</td>\n",
              "      <td>257707</td>\n",
              "    </tr>\n",
              "    <tr>\n",
              "      <th>9</th>\n",
              "      <td>[0.023286156]</td>\n",
              "      <td>44791</td>\n",
              "    </tr>\n",
              "  </tbody>\n",
              "</table>\n",
              "</div>"
            ],
            "text/plain": [
              "     predictsort  recom_book\n",
              "0  [0.023981214]        5374\n",
              "1  [0.023793383]       81090\n",
              "2  [0.023786869]      132489\n",
              "3  [0.023763362]       64908\n",
              "4   [0.02375423]      150836\n",
              "5  [0.023723718]      192902\n",
              "6  [0.023687255]       70954\n",
              "7  [0.023624992]      168626\n",
              "8  [0.023403002]      257707\n",
              "9  [0.023286156]       44791"
            ]
          },
          "metadata": {
            "tags": []
          },
          "execution_count": 100
        }
      ]
    },
    {
      "cell_type": "code",
      "metadata": {
        "colab": {
          "base_uri": "https://localhost:8080/",
          "height": 359
        },
        "id": "-AiUufedJ3P4",
        "outputId": "f1d01e52-86c2-42f3-9278-7d6349f8ee93"
      },
      "source": [
        "new_df[:10]"
      ],
      "execution_count": null,
      "outputs": [
        {
          "output_type": "execute_result",
          "data": {
            "text/html": [
              "<div>\n",
              "<style scoped>\n",
              "    .dataframe tbody tr th:only-of-type {\n",
              "        vertical-align: middle;\n",
              "    }\n",
              "\n",
              "    .dataframe tbody tr th {\n",
              "        vertical-align: top;\n",
              "    }\n",
              "\n",
              "    .dataframe thead th {\n",
              "        text-align: right;\n",
              "    }\n",
              "</style>\n",
              "<table border=\"1\" class=\"dataframe\">\n",
              "  <thead>\n",
              "    <tr style=\"text-align: right;\">\n",
              "      <th></th>\n",
              "      <th>user_data</th>\n",
              "      <th>book_data</th>\n",
              "      <th>predictions</th>\n",
              "    </tr>\n",
              "  </thead>\n",
              "  <tbody>\n",
              "    <tr>\n",
              "      <th>0</th>\n",
              "      <td>957</td>\n",
              "      <td>0</td>\n",
              "      <td>0.009436</td>\n",
              "    </tr>\n",
              "    <tr>\n",
              "      <th>1</th>\n",
              "      <td>957</td>\n",
              "      <td>1</td>\n",
              "      <td>-0.000543</td>\n",
              "    </tr>\n",
              "    <tr>\n",
              "      <th>2</th>\n",
              "      <td>957</td>\n",
              "      <td>2</td>\n",
              "      <td>0.008756</td>\n",
              "    </tr>\n",
              "    <tr>\n",
              "      <th>3</th>\n",
              "      <td>957</td>\n",
              "      <td>3</td>\n",
              "      <td>0.011992</td>\n",
              "    </tr>\n",
              "    <tr>\n",
              "      <th>4</th>\n",
              "      <td>957</td>\n",
              "      <td>4</td>\n",
              "      <td>0.007163</td>\n",
              "    </tr>\n",
              "    <tr>\n",
              "      <th>5</th>\n",
              "      <td>957</td>\n",
              "      <td>5</td>\n",
              "      <td>0.002953</td>\n",
              "    </tr>\n",
              "    <tr>\n",
              "      <th>6</th>\n",
              "      <td>957</td>\n",
              "      <td>6</td>\n",
              "      <td>0.009455</td>\n",
              "    </tr>\n",
              "    <tr>\n",
              "      <th>7</th>\n",
              "      <td>957</td>\n",
              "      <td>7</td>\n",
              "      <td>0.007533</td>\n",
              "    </tr>\n",
              "    <tr>\n",
              "      <th>8</th>\n",
              "      <td>957</td>\n",
              "      <td>8</td>\n",
              "      <td>0.007021</td>\n",
              "    </tr>\n",
              "    <tr>\n",
              "      <th>9</th>\n",
              "      <td>957</td>\n",
              "      <td>9</td>\n",
              "      <td>0.004442</td>\n",
              "    </tr>\n",
              "  </tbody>\n",
              "</table>\n",
              "</div>"
            ],
            "text/plain": [
              "   user_data  book_data  predictions\n",
              "0        957          0     0.009436\n",
              "1        957          1    -0.000543\n",
              "2        957          2     0.008756\n",
              "3        957          3     0.011992\n",
              "4        957          4     0.007163\n",
              "5        957          5     0.002953\n",
              "6        957          6     0.009455\n",
              "7        957          7     0.007533\n",
              "8        957          8     0.007021\n",
              "9        957          9     0.004442"
            ]
          },
          "metadata": {
            "tags": []
          },
          "execution_count": 96
        }
      ]
    },
    {
      "cell_type": "markdown",
      "metadata": {
        "id": "zhu-KniBvJHx"
      },
      "source": [
        "### Predict data loop"
      ]
    },
    {
      "cell_type": "code",
      "metadata": {
        "id": "SCvIPYinvGuT"
      },
      "source": [
        "array = []\n",
        "\n",
        "for i in range(100):\n",
        "  user_dataa = np.array([590])\n",
        "  book_dataa = np.array([i])\n",
        "  predictions = model.predict([user_dataa, book_dataa])\n",
        "  array.append(predictions[0])"
      ],
      "execution_count": null,
      "outputs": []
    },
    {
      "cell_type": "code",
      "metadata": {
        "colab": {
          "base_uri": "https://localhost:8080/"
        },
        "id": "Sd-Vyua1vl3g",
        "outputId": "3237d7f6-f6ca-4977-caf5-1de914a4276c"
      },
      "source": [
        "array[:25]"
      ],
      "execution_count": null,
      "outputs": [
        {
          "output_type": "execute_result",
          "data": {
            "text/plain": [
              "[array([-0.00189273], dtype=float32),\n",
              " array([0.00220828], dtype=float32),\n",
              " array([-0.00098764], dtype=float32),\n",
              " array([0.00446855], dtype=float32),\n",
              " array([0.00064723], dtype=float32),\n",
              " array([0.00366151], dtype=float32),\n",
              " array([0.00585006], dtype=float32),\n",
              " array([0.0059635], dtype=float32),\n",
              " array([0.00886617], dtype=float32),\n",
              " array([0.00095742], dtype=float32),\n",
              " array([0.00051866], dtype=float32),\n",
              " array([0.00150454], dtype=float32),\n",
              " array([0.00432482], dtype=float32),\n",
              " array([-0.00071384], dtype=float32),\n",
              " array([0.00650441], dtype=float32),\n",
              " array([0.0081132], dtype=float32),\n",
              " array([-0.00017245], dtype=float32),\n",
              " array([-0.00013112], dtype=float32),\n",
              " array([0.00546825], dtype=float32),\n",
              " array([0.00280935], dtype=float32),\n",
              " array([-5.064658e-05], dtype=float32),\n",
              " array([0.01164684], dtype=float32),\n",
              " array([0.00349123], dtype=float32),\n",
              " array([0.00616914], dtype=float32),\n",
              " array([0.00586967], dtype=float32)]"
            ]
          },
          "metadata": {
            "tags": []
          },
          "execution_count": 78
        }
      ]
    },
    {
      "cell_type": "markdown",
      "metadata": {
        "id": "-suWEooQLe85"
      },
      "source": [
        "### Deploy Model"
      ]
    },
    {
      "cell_type": "code",
      "metadata": {
        "id": "MH8N0FXS0SMg"
      },
      "source": [
        "converter = lite.TFLiteConverter.from_keras_model(model)"
      ],
      "execution_count": null,
      "outputs": []
    },
    {
      "cell_type": "code",
      "metadata": {
        "id": "-xbhyAky0Y1C",
        "colab": {
          "base_uri": "https://localhost:8080/"
        },
        "outputId": "addff33d-a4fc-4edc-9cd9-851a61e074f9"
      },
      "source": [
        "tfmodel = converter.convert()"
      ],
      "execution_count": null,
      "outputs": [
        {
          "output_type": "stream",
          "text": [
            "WARNING:absl:Function `_wrapped_model` contains input name(s) User-Input, Book-Input with unsupported characters which will be renamed to user_input, book_input in the SavedModel.\n"
          ],
          "name": "stderr"
        },
        {
          "output_type": "stream",
          "text": [
            "INFO:tensorflow:Assets written to: /tmp/tmp2d62pwza/assets\n"
          ],
          "name": "stdout"
        },
        {
          "output_type": "stream",
          "text": [
            "INFO:tensorflow:Assets written to: /tmp/tmp2d62pwza/assets\n"
          ],
          "name": "stderr"
        }
      ]
    },
    {
      "cell_type": "code",
      "metadata": {
        "id": "rxxHsNR20dff",
        "colab": {
          "base_uri": "https://localhost:8080/"
        },
        "outputId": "67fa1794-dd06-44fc-f24a-ff5615ff05cb"
      },
      "source": [
        "open('model.tflite', 'wb').write(tfmodel)"
      ],
      "execution_count": null,
      "outputs": [
        {
          "output_type": "execute_result",
          "data": {
            "text/plain": [
              "17634324"
            ]
          },
          "metadata": {
            "tags": []
          },
          "execution_count": 81
        }
      ]
    },
    {
      "cell_type": "code",
      "metadata": {
        "id": "8mfC7pjk0ndb"
      },
      "source": [
        ""
      ],
      "execution_count": null,
      "outputs": []
    },
    {
      "cell_type": "markdown",
      "metadata": {
        "id": "n9HlpQsDBFQH"
      },
      "source": [
        "### Junk Code"
      ]
    },
    {
      "cell_type": "code",
      "metadata": {
        "id": "8SH6mxd9AuKW"
      },
      "source": [
        "# Xtrain, Xtest = train_test_split(df_rate, test_size=0.2, random_state=1)\n",
        "# print(f\"Shape of train data: {Xtrain.shape}\")\n",
        "# print(f\"Shape of test data: {Xtest.shape}\")"
      ],
      "execution_count": null,
      "outputs": []
    },
    {
      "cell_type": "code",
      "metadata": {
        "id": "3MuOVFkUBZpU"
      },
      "source": [
        "# #Get total unique user and book columns\n",
        "# total_user = df_rate.userid.nunique()\n",
        "# total_book = df_rate.bookid.nunique()"
      ],
      "execution_count": null,
      "outputs": []
    },
    {
      "cell_type": "code",
      "metadata": {
        "id": "UNovvs8BB84o"
      },
      "source": [
        "# # Book input network\n",
        "# book_input   = tf.keras.layers.Input(shape=[1])\n",
        "# book_embed   = tf.keras.layers.Embedding(total_book+1, 15)(book_input)\n",
        "# book_output  = tf.keras.layers.Flatten()(book_embed)\n",
        "\n",
        "# # User input network\n",
        "# user_input   = tf.keras.layers.Input(shape=[1])\n",
        "# user_embed   = tf.keras.layers.Embedding(total_user+1, 15)(user_input)\n",
        "# user_output  = tf.keras.layers.Flatten()(user_embed)\n",
        "\n",
        "# # Concatenate, dense, and output layer\n",
        "# conc_layer   = tf.keras.layers.Concatenate()([book_output, user_output])\n",
        "# dense_layer  = tf.keras.layers.Dense(128, activation='relu')(conc_layer)\n",
        "# output_layer = tf.keras.layers.Dense(1, activation='relu')(dense_layer)\n",
        "\n",
        "\n",
        "# model = tf.keras.Model([book_input, user_input], output_layer)"
      ],
      "execution_count": null,
      "outputs": []
    },
    {
      "cell_type": "code",
      "metadata": {
        "id": "zQhtjNprE22Z"
      },
      "source": [
        "# opt = tf.keras.optimizers.Adam(learning_rate=0.001)\n",
        "# model.compile(optimizer=opt, loss='mean_squared_error')\n",
        "# model.summary()"
      ],
      "execution_count": null,
      "outputs": []
    },
    {
      "cell_type": "code",
      "metadata": {
        "id": "PLfJNYedHo1h"
      },
      "source": [
        "# Xtrain_array = [Xtrain.bookid, Xtrain.userid]\n",
        "# Xtest_array = [Xtest.bookid, Xtest.userid]"
      ],
      "execution_count": null,
      "outputs": []
    },
    {
      "cell_type": "code",
      "metadata": {
        "id": "31YmguZiFDg9"
      },
      "source": [
        "# hist = model.fit(Xtrain_array,\n",
        "#                  Xtrain.bookrating, \n",
        "#                  batch_size=64, \n",
        "#                  epochs=5, \n",
        "#                  verbose=1,\n",
        "#                  validation_data=(Xtest_array, Xtest.bookrating))"
      ],
      "execution_count": null,
      "outputs": []
    },
    {
      "cell_type": "code",
      "metadata": {
        "id": "EdjtfChsMvcw"
      },
      "source": [
        "# import tensorflow as tf\n",
        "# import pandas as pd\n",
        "# import numpy as np\n",
        "# import re\n",
        "# import string\n",
        "# import csv\n",
        "\n",
        "# import pytesseract\n",
        "# import shutil\n",
        "# import os\n",
        "# import random\n",
        "# try:\n",
        "#   from PIL import Image\n",
        "# except ImportError:\n",
        "#   import Image\n",
        "\n",
        "# print(tf.__version__)"
      ],
      "execution_count": null,
      "outputs": []
    },
    {
      "cell_type": "code",
      "metadata": {
        "id": "QZwFTGoqPjoa"
      },
      "source": [
        "# import matplotlib.pyplot as plt\n",
        "# %matplotlib inline\n",
        "# import warnings\n",
        "# warnings.filterwarnings('ignore')\n",
        "# from sklearn.model_selection import train_test_split"
      ],
      "execution_count": null,
      "outputs": []
    },
    {
      "cell_type": "code",
      "metadata": {
        "id": "Nkcq-ZFfOI_u"
      },
      "source": [
        ""
      ],
      "execution_count": null,
      "outputs": []
    }
  ]
}